{
  "nbformat": 4,
  "nbformat_minor": 0,
  "metadata": {
    "colab": {
      "provenance": []
    },
    "kernelspec": {
      "name": "python3",
      "display_name": "Python 3"
    },
    "language_info": {
      "name": "python"
    }
  },
  "cells": [
    {
      "cell_type": "markdown",
      "source": [
        "# Задание\n",
        "Даны участки телеметрии работы оборудования (9 датчиков/столбцов,\n",
        "128 сек) соответствующие шести различным режимам. Каждый режим\n",
        "работает 128 сек: Один режим – 128 секунд/строк\n",
        "1.   Проанализировать данные, статистики, сделать EDA, визуально\n",
        "посмотреть на разделимость режимов работы известными вам\n",
        "методами.\n",
        "2.   Использовать из sklearn'а\n",
        "SelectKBest и выбрать по рангам наиболее значимые\n",
        "столбцы/признаки/фичи\n",
        "https://scikit-learn.org/stable/modules/generated/\n",
        "sklearn.feature_selection.SelectKBest.html\n",
        "3.  Предсказать режимы работы оборудования на тестовых данных\n",
        "(X_test), посчитать точность/precision, полноту/recall, ROC-AUC\n",
        "на y_test. Использовать 2–3 алгоритма, прокомментировать\n",
        "результаты.\n",
        "4.  Если результаты по любой из метрик ниже 0.88 на y_test –\n",
        "добавить фичи, и превысить порог в 0.88."
      ],
      "metadata": {
        "id": "WE21KH6R0SaS"
      }
    },
    {
      "cell_type": "code",
      "execution_count": 133,
      "metadata": {
        "id": "SwtrchhYIo3I"
      },
      "outputs": [],
      "source": [
        "import numpy as np\n",
        "import pandas as pd\n",
        "import matplotlib.pyplot as plt\n",
        "import seaborn as sns\n",
        "from sklearn.pipeline import Pipeline\n",
        "from sklearn.metrics import multilabel_confusion_matrix\n",
        "from sklearn.multioutput import MultiOutputClassifier\n",
        "from sklearn.ensemble import GradientBoostingClassifier\n",
        "from sklearn.tree import DecisionTreeClassifier\n",
        "from sklearn.neighbors import KNeighborsClassifier\n",
        "from sklearn.svm import SVC\n",
        "from sklearn.feature_selection import SelectKBest, f_classif\n",
        "from sklearn.model_selection import train_test_split\n",
        "from sklearn.ensemble import RandomForestClassifier\n",
        "from sklearn.metrics import accuracy_score, precision_score, recall_score, roc_auc_score, confusion_matrix\n",
        "from sklearn.preprocessing import label_binarize\n",
        "from sklearn.decomposition import PCA\n",
        "from sklearn.preprocessing import StandardScaler\n",
        "from sklearn.experimental import enable_halving_search_cv\n",
        "from sklearn.model_selection import HalvingGridSearchCV\n",
        "from sklearn.metrics import precision_score, recall_score, roc_auc_score\n",
        "from sklearn.preprocessing import label_binarize\n",
        "from sklearn.ensemble import BaggingClassifier"
      ]
    },
    {
      "cell_type": "code",
      "source": [
        "X_test = np.load('X_test.npy')\n",
        "X_train = np.load('X_train.npy')\n",
        "y_test = np.load('y_test.npy')\n",
        "y_train = np.load('y_train.npy')"
      ],
      "metadata": {
        "id": "t07W7OqLOf30"
      },
      "execution_count": 134,
      "outputs": []
    },
    {
      "cell_type": "markdown",
      "source": [
        "Объединим тестовые и тренировочные данные"
      ],
      "metadata": {
        "id": "Z_9wJ8PL16rJ"
      }
    },
    {
      "cell_type": "code",
      "source": [
        "X = np.concatenate([X_train, X_test])\n",
        "y = np.concatenate([y_train, y_test])"
      ],
      "metadata": {
        "id": "Alz59Qi0RbnZ"
      },
      "execution_count": 135,
      "outputs": []
    },
    {
      "cell_type": "code",
      "source": [
        "y = np.repeat(y, np.repeat(np.array([128]), y.shape[0]), axis=0)\n",
        "y.shape"
      ],
      "metadata": {
        "id": "Pf7XAMS0UhNQ",
        "colab": {
          "base_uri": "https://localhost:8080/"
        },
        "outputId": "820e9a3d-3c19-46ec-b403-134844d0c4e6"
      },
      "execution_count": 136,
      "outputs": [
        {
          "output_type": "execute_result",
          "data": {
            "text/plain": [
              "(1318272, 6)"
            ]
          },
          "metadata": {},
          "execution_count": 136
        }
      ]
    },
    {
      "cell_type": "code",
      "source": [
        "X = X.reshape(-1, 9)\n",
        "X.shape"
      ],
      "metadata": {
        "colab": {
          "base_uri": "https://localhost:8080/"
        },
        "id": "FF4fLwhN3CmN",
        "outputId": "534d7fc9-59a4-408b-d4f3-7ab941c0de74"
      },
      "execution_count": 137,
      "outputs": [
        {
          "output_type": "execute_result",
          "data": {
            "text/plain": [
              "(1318272, 9)"
            ]
          },
          "metadata": {},
          "execution_count": 137
        }
      ]
    },
    {
      "cell_type": "markdown",
      "source": [
        "Преобразуем целевую переменную из вектора"
      ],
      "metadata": {
        "id": "eSvSoXMH4Cb_"
      }
    },
    {
      "cell_type": "code",
      "source": [
        "y_int = np.argmax(y, axis=1)\n",
        "y_int.shape"
      ],
      "metadata": {
        "colab": {
          "base_uri": "https://localhost:8080/"
        },
        "id": "uDBR5kTa2auL",
        "outputId": "1fdbefa3-825c-4611-8a05-a8d4898db126"
      },
      "execution_count": 138,
      "outputs": [
        {
          "output_type": "execute_result",
          "data": {
            "text/plain": [
              "(1318272,)"
            ]
          },
          "metadata": {},
          "execution_count": 138
        }
      ]
    },
    {
      "cell_type": "code",
      "source": [
        "df = pd.DataFrame(X, columns=['0','1', '2', '3','4','5','6','7','8'])\n",
        "df"
      ],
      "metadata": {
        "colab": {
          "base_uri": "https://localhost:8080/",
          "height": 423
        },
        "id": "qji7t_Ti5ZMN",
        "outputId": "9cc14ef9-8086-49f5-d3f0-ab630309dbd1"
      },
      "execution_count": 139,
      "outputs": [
        {
          "output_type": "execute_result",
          "data": {
            "text/plain": [
              "                0         1         2         3         4         5         6  \\\n",
              "0        1.012817 -0.123217  0.102934  0.000181  0.010767  0.055561  0.030191   \n",
              "1        1.022833 -0.126876  0.105687  0.010139  0.006579  0.055125  0.043711   \n",
              "2        1.022028 -0.124004  0.102102  0.009276  0.008929  0.048405  0.035688   \n",
              "3        1.017877 -0.124928  0.106553  0.005066  0.007489  0.049775  0.040402   \n",
              "4        1.023680 -0.125767  0.102814  0.010810  0.006141  0.043013  0.047097   \n",
              "...           ...       ...       ...       ...       ...       ...       ...   \n",
              "1318267  0.908386 -0.423054 -0.092933 -0.061667 -0.175584  0.151117  0.148295   \n",
              "1318268  0.898984 -0.392272 -0.063138 -0.070890 -0.145071  0.181814  0.143136   \n",
              "1318269  0.918862 -0.351680 -0.072539 -0.050755 -0.104717  0.173271  0.095931   \n",
              "1318270  0.949475 -0.267526 -0.050975 -0.019807 -0.020764  0.195638  0.090708   \n",
              "1318271  0.957835 -0.194160 -0.028925 -0.011040  0.052439  0.218432  0.055943   \n",
              "\n",
              "                7         8  \n",
              "0        0.066014  0.022859  \n",
              "1        0.042699  0.010316  \n",
              "2        0.074850  0.013250  \n",
              "3        0.057320  0.017751  \n",
              "4        0.052343  0.002553  \n",
              "...           ...       ...  \n",
              "1318267 -0.015923  0.109040  \n",
              "1318268 -0.024389  0.006547  \n",
              "1318269 -0.021024 -0.051342  \n",
              "1318270 -0.041893 -0.078877  \n",
              "1318271 -0.102402 -0.046268  \n",
              "\n",
              "[1318272 rows x 9 columns]"
            ],
            "text/html": [
              "\n",
              "  <div id=\"df-d2545a80-3a04-4e2b-ae96-051e68a273f8\" class=\"colab-df-container\">\n",
              "    <div>\n",
              "<style scoped>\n",
              "    .dataframe tbody tr th:only-of-type {\n",
              "        vertical-align: middle;\n",
              "    }\n",
              "\n",
              "    .dataframe tbody tr th {\n",
              "        vertical-align: top;\n",
              "    }\n",
              "\n",
              "    .dataframe thead th {\n",
              "        text-align: right;\n",
              "    }\n",
              "</style>\n",
              "<table border=\"1\" class=\"dataframe\">\n",
              "  <thead>\n",
              "    <tr style=\"text-align: right;\">\n",
              "      <th></th>\n",
              "      <th>0</th>\n",
              "      <th>1</th>\n",
              "      <th>2</th>\n",
              "      <th>3</th>\n",
              "      <th>4</th>\n",
              "      <th>5</th>\n",
              "      <th>6</th>\n",
              "      <th>7</th>\n",
              "      <th>8</th>\n",
              "    </tr>\n",
              "  </thead>\n",
              "  <tbody>\n",
              "    <tr>\n",
              "      <th>0</th>\n",
              "      <td>1.012817</td>\n",
              "      <td>-0.123217</td>\n",
              "      <td>0.102934</td>\n",
              "      <td>0.000181</td>\n",
              "      <td>0.010767</td>\n",
              "      <td>0.055561</td>\n",
              "      <td>0.030191</td>\n",
              "      <td>0.066014</td>\n",
              "      <td>0.022859</td>\n",
              "    </tr>\n",
              "    <tr>\n",
              "      <th>1</th>\n",
              "      <td>1.022833</td>\n",
              "      <td>-0.126876</td>\n",
              "      <td>0.105687</td>\n",
              "      <td>0.010139</td>\n",
              "      <td>0.006579</td>\n",
              "      <td>0.055125</td>\n",
              "      <td>0.043711</td>\n",
              "      <td>0.042699</td>\n",
              "      <td>0.010316</td>\n",
              "    </tr>\n",
              "    <tr>\n",
              "      <th>2</th>\n",
              "      <td>1.022028</td>\n",
              "      <td>-0.124004</td>\n",
              "      <td>0.102102</td>\n",
              "      <td>0.009276</td>\n",
              "      <td>0.008929</td>\n",
              "      <td>0.048405</td>\n",
              "      <td>0.035688</td>\n",
              "      <td>0.074850</td>\n",
              "      <td>0.013250</td>\n",
              "    </tr>\n",
              "    <tr>\n",
              "      <th>3</th>\n",
              "      <td>1.017877</td>\n",
              "      <td>-0.124928</td>\n",
              "      <td>0.106553</td>\n",
              "      <td>0.005066</td>\n",
              "      <td>0.007489</td>\n",
              "      <td>0.049775</td>\n",
              "      <td>0.040402</td>\n",
              "      <td>0.057320</td>\n",
              "      <td>0.017751</td>\n",
              "    </tr>\n",
              "    <tr>\n",
              "      <th>4</th>\n",
              "      <td>1.023680</td>\n",
              "      <td>-0.125767</td>\n",
              "      <td>0.102814</td>\n",
              "      <td>0.010810</td>\n",
              "      <td>0.006141</td>\n",
              "      <td>0.043013</td>\n",
              "      <td>0.047097</td>\n",
              "      <td>0.052343</td>\n",
              "      <td>0.002553</td>\n",
              "    </tr>\n",
              "    <tr>\n",
              "      <th>...</th>\n",
              "      <td>...</td>\n",
              "      <td>...</td>\n",
              "      <td>...</td>\n",
              "      <td>...</td>\n",
              "      <td>...</td>\n",
              "      <td>...</td>\n",
              "      <td>...</td>\n",
              "      <td>...</td>\n",
              "      <td>...</td>\n",
              "    </tr>\n",
              "    <tr>\n",
              "      <th>1318267</th>\n",
              "      <td>0.908386</td>\n",
              "      <td>-0.423054</td>\n",
              "      <td>-0.092933</td>\n",
              "      <td>-0.061667</td>\n",
              "      <td>-0.175584</td>\n",
              "      <td>0.151117</td>\n",
              "      <td>0.148295</td>\n",
              "      <td>-0.015923</td>\n",
              "      <td>0.109040</td>\n",
              "    </tr>\n",
              "    <tr>\n",
              "      <th>1318268</th>\n",
              "      <td>0.898984</td>\n",
              "      <td>-0.392272</td>\n",
              "      <td>-0.063138</td>\n",
              "      <td>-0.070890</td>\n",
              "      <td>-0.145071</td>\n",
              "      <td>0.181814</td>\n",
              "      <td>0.143136</td>\n",
              "      <td>-0.024389</td>\n",
              "      <td>0.006547</td>\n",
              "    </tr>\n",
              "    <tr>\n",
              "      <th>1318269</th>\n",
              "      <td>0.918862</td>\n",
              "      <td>-0.351680</td>\n",
              "      <td>-0.072539</td>\n",
              "      <td>-0.050755</td>\n",
              "      <td>-0.104717</td>\n",
              "      <td>0.173271</td>\n",
              "      <td>0.095931</td>\n",
              "      <td>-0.021024</td>\n",
              "      <td>-0.051342</td>\n",
              "    </tr>\n",
              "    <tr>\n",
              "      <th>1318270</th>\n",
              "      <td>0.949475</td>\n",
              "      <td>-0.267526</td>\n",
              "      <td>-0.050975</td>\n",
              "      <td>-0.019807</td>\n",
              "      <td>-0.020764</td>\n",
              "      <td>0.195638</td>\n",
              "      <td>0.090708</td>\n",
              "      <td>-0.041893</td>\n",
              "      <td>-0.078877</td>\n",
              "    </tr>\n",
              "    <tr>\n",
              "      <th>1318271</th>\n",
              "      <td>0.957835</td>\n",
              "      <td>-0.194160</td>\n",
              "      <td>-0.028925</td>\n",
              "      <td>-0.011040</td>\n",
              "      <td>0.052439</td>\n",
              "      <td>0.218432</td>\n",
              "      <td>0.055943</td>\n",
              "      <td>-0.102402</td>\n",
              "      <td>-0.046268</td>\n",
              "    </tr>\n",
              "  </tbody>\n",
              "</table>\n",
              "<p>1318272 rows × 9 columns</p>\n",
              "</div>\n",
              "    <div class=\"colab-df-buttons\">\n",
              "\n",
              "  <div class=\"colab-df-container\">\n",
              "    <button class=\"colab-df-convert\" onclick=\"convertToInteractive('df-d2545a80-3a04-4e2b-ae96-051e68a273f8')\"\n",
              "            title=\"Convert this dataframe to an interactive table.\"\n",
              "            style=\"display:none;\">\n",
              "\n",
              "  <svg xmlns=\"http://www.w3.org/2000/svg\" height=\"24px\" viewBox=\"0 -960 960 960\">\n",
              "    <path d=\"M120-120v-720h720v720H120Zm60-500h600v-160H180v160Zm220 220h160v-160H400v160Zm0 220h160v-160H400v160ZM180-400h160v-160H180v160Zm440 0h160v-160H620v160ZM180-180h160v-160H180v160Zm440 0h160v-160H620v160Z\"/>\n",
              "  </svg>\n",
              "    </button>\n",
              "\n",
              "  <style>\n",
              "    .colab-df-container {\n",
              "      display:flex;\n",
              "      gap: 12px;\n",
              "    }\n",
              "\n",
              "    .colab-df-convert {\n",
              "      background-color: #E8F0FE;\n",
              "      border: none;\n",
              "      border-radius: 50%;\n",
              "      cursor: pointer;\n",
              "      display: none;\n",
              "      fill: #1967D2;\n",
              "      height: 32px;\n",
              "      padding: 0 0 0 0;\n",
              "      width: 32px;\n",
              "    }\n",
              "\n",
              "    .colab-df-convert:hover {\n",
              "      background-color: #E2EBFA;\n",
              "      box-shadow: 0px 1px 2px rgba(60, 64, 67, 0.3), 0px 1px 3px 1px rgba(60, 64, 67, 0.15);\n",
              "      fill: #174EA6;\n",
              "    }\n",
              "\n",
              "    .colab-df-buttons div {\n",
              "      margin-bottom: 4px;\n",
              "    }\n",
              "\n",
              "    [theme=dark] .colab-df-convert {\n",
              "      background-color: #3B4455;\n",
              "      fill: #D2E3FC;\n",
              "    }\n",
              "\n",
              "    [theme=dark] .colab-df-convert:hover {\n",
              "      background-color: #434B5C;\n",
              "      box-shadow: 0px 1px 3px 1px rgba(0, 0, 0, 0.15);\n",
              "      filter: drop-shadow(0px 1px 2px rgba(0, 0, 0, 0.3));\n",
              "      fill: #FFFFFF;\n",
              "    }\n",
              "  </style>\n",
              "\n",
              "    <script>\n",
              "      const buttonEl =\n",
              "        document.querySelector('#df-d2545a80-3a04-4e2b-ae96-051e68a273f8 button.colab-df-convert');\n",
              "      buttonEl.style.display =\n",
              "        google.colab.kernel.accessAllowed ? 'block' : 'none';\n",
              "\n",
              "      async function convertToInteractive(key) {\n",
              "        const element = document.querySelector('#df-d2545a80-3a04-4e2b-ae96-051e68a273f8');\n",
              "        const dataTable =\n",
              "          await google.colab.kernel.invokeFunction('convertToInteractive',\n",
              "                                                    [key], {});\n",
              "        if (!dataTable) return;\n",
              "\n",
              "        const docLinkHtml = 'Like what you see? Visit the ' +\n",
              "          '<a target=\"_blank\" href=https://colab.research.google.com/notebooks/data_table.ipynb>data table notebook</a>'\n",
              "          + ' to learn more about interactive tables.';\n",
              "        element.innerHTML = '';\n",
              "        dataTable['output_type'] = 'display_data';\n",
              "        await google.colab.output.renderOutput(dataTable, element);\n",
              "        const docLink = document.createElement('div');\n",
              "        docLink.innerHTML = docLinkHtml;\n",
              "        element.appendChild(docLink);\n",
              "      }\n",
              "    </script>\n",
              "  </div>\n",
              "\n",
              "\n",
              "<div id=\"df-a401e999-823c-4c17-a32f-ebc6cbfbf6bb\">\n",
              "  <button class=\"colab-df-quickchart\" onclick=\"quickchart('df-a401e999-823c-4c17-a32f-ebc6cbfbf6bb')\"\n",
              "            title=\"Suggest charts\"\n",
              "            style=\"display:none;\">\n",
              "\n",
              "<svg xmlns=\"http://www.w3.org/2000/svg\" height=\"24px\"viewBox=\"0 0 24 24\"\n",
              "     width=\"24px\">\n",
              "    <g>\n",
              "        <path d=\"M19 3H5c-1.1 0-2 .9-2 2v14c0 1.1.9 2 2 2h14c1.1 0 2-.9 2-2V5c0-1.1-.9-2-2-2zM9 17H7v-7h2v7zm4 0h-2V7h2v10zm4 0h-2v-4h2v4z\"/>\n",
              "    </g>\n",
              "</svg>\n",
              "  </button>\n",
              "\n",
              "<style>\n",
              "  .colab-df-quickchart {\n",
              "      --bg-color: #E8F0FE;\n",
              "      --fill-color: #1967D2;\n",
              "      --hover-bg-color: #E2EBFA;\n",
              "      --hover-fill-color: #174EA6;\n",
              "      --disabled-fill-color: #AAA;\n",
              "      --disabled-bg-color: #DDD;\n",
              "  }\n",
              "\n",
              "  [theme=dark] .colab-df-quickchart {\n",
              "      --bg-color: #3B4455;\n",
              "      --fill-color: #D2E3FC;\n",
              "      --hover-bg-color: #434B5C;\n",
              "      --hover-fill-color: #FFFFFF;\n",
              "      --disabled-bg-color: #3B4455;\n",
              "      --disabled-fill-color: #666;\n",
              "  }\n",
              "\n",
              "  .colab-df-quickchart {\n",
              "    background-color: var(--bg-color);\n",
              "    border: none;\n",
              "    border-radius: 50%;\n",
              "    cursor: pointer;\n",
              "    display: none;\n",
              "    fill: var(--fill-color);\n",
              "    height: 32px;\n",
              "    padding: 0;\n",
              "    width: 32px;\n",
              "  }\n",
              "\n",
              "  .colab-df-quickchart:hover {\n",
              "    background-color: var(--hover-bg-color);\n",
              "    box-shadow: 0 1px 2px rgba(60, 64, 67, 0.3), 0 1px 3px 1px rgba(60, 64, 67, 0.15);\n",
              "    fill: var(--button-hover-fill-color);\n",
              "  }\n",
              "\n",
              "  .colab-df-quickchart-complete:disabled,\n",
              "  .colab-df-quickchart-complete:disabled:hover {\n",
              "    background-color: var(--disabled-bg-color);\n",
              "    fill: var(--disabled-fill-color);\n",
              "    box-shadow: none;\n",
              "  }\n",
              "\n",
              "  .colab-df-spinner {\n",
              "    border: 2px solid var(--fill-color);\n",
              "    border-color: transparent;\n",
              "    border-bottom-color: var(--fill-color);\n",
              "    animation:\n",
              "      spin 1s steps(1) infinite;\n",
              "  }\n",
              "\n",
              "  @keyframes spin {\n",
              "    0% {\n",
              "      border-color: transparent;\n",
              "      border-bottom-color: var(--fill-color);\n",
              "      border-left-color: var(--fill-color);\n",
              "    }\n",
              "    20% {\n",
              "      border-color: transparent;\n",
              "      border-left-color: var(--fill-color);\n",
              "      border-top-color: var(--fill-color);\n",
              "    }\n",
              "    30% {\n",
              "      border-color: transparent;\n",
              "      border-left-color: var(--fill-color);\n",
              "      border-top-color: var(--fill-color);\n",
              "      border-right-color: var(--fill-color);\n",
              "    }\n",
              "    40% {\n",
              "      border-color: transparent;\n",
              "      border-right-color: var(--fill-color);\n",
              "      border-top-color: var(--fill-color);\n",
              "    }\n",
              "    60% {\n",
              "      border-color: transparent;\n",
              "      border-right-color: var(--fill-color);\n",
              "    }\n",
              "    80% {\n",
              "      border-color: transparent;\n",
              "      border-right-color: var(--fill-color);\n",
              "      border-bottom-color: var(--fill-color);\n",
              "    }\n",
              "    90% {\n",
              "      border-color: transparent;\n",
              "      border-bottom-color: var(--fill-color);\n",
              "    }\n",
              "  }\n",
              "</style>\n",
              "\n",
              "  <script>\n",
              "    async function quickchart(key) {\n",
              "      const quickchartButtonEl =\n",
              "        document.querySelector('#' + key + ' button');\n",
              "      quickchartButtonEl.disabled = true;  // To prevent multiple clicks.\n",
              "      quickchartButtonEl.classList.add('colab-df-spinner');\n",
              "      try {\n",
              "        const charts = await google.colab.kernel.invokeFunction(\n",
              "            'suggestCharts', [key], {});\n",
              "      } catch (error) {\n",
              "        console.error('Error during call to suggestCharts:', error);\n",
              "      }\n",
              "      quickchartButtonEl.classList.remove('colab-df-spinner');\n",
              "      quickchartButtonEl.classList.add('colab-df-quickchart-complete');\n",
              "    }\n",
              "    (() => {\n",
              "      let quickchartButtonEl =\n",
              "        document.querySelector('#df-a401e999-823c-4c17-a32f-ebc6cbfbf6bb button');\n",
              "      quickchartButtonEl.style.display =\n",
              "        google.colab.kernel.accessAllowed ? 'block' : 'none';\n",
              "    })();\n",
              "  </script>\n",
              "</div>\n",
              "    </div>\n",
              "  </div>\n"
            ]
          },
          "metadata": {},
          "execution_count": 139
        }
      ]
    },
    {
      "cell_type": "code",
      "source": [
        "df['target'] = y_int\n",
        "df"
      ],
      "metadata": {
        "colab": {
          "base_uri": "https://localhost:8080/",
          "height": 423
        },
        "id": "DhxJUbk14HzI",
        "outputId": "756e5241-78f0-4159-ffb5-30577605fcb4"
      },
      "execution_count": 140,
      "outputs": [
        {
          "output_type": "execute_result",
          "data": {
            "text/plain": [
              "                0         1         2         3         4         5         6  \\\n",
              "0        1.012817 -0.123217  0.102934  0.000181  0.010767  0.055561  0.030191   \n",
              "1        1.022833 -0.126876  0.105687  0.010139  0.006579  0.055125  0.043711   \n",
              "2        1.022028 -0.124004  0.102102  0.009276  0.008929  0.048405  0.035688   \n",
              "3        1.017877 -0.124928  0.106553  0.005066  0.007489  0.049775  0.040402   \n",
              "4        1.023680 -0.125767  0.102814  0.010810  0.006141  0.043013  0.047097   \n",
              "...           ...       ...       ...       ...       ...       ...       ...   \n",
              "1318267  0.908386 -0.423054 -0.092933 -0.061667 -0.175584  0.151117  0.148295   \n",
              "1318268  0.898984 -0.392272 -0.063138 -0.070890 -0.145071  0.181814  0.143136   \n",
              "1318269  0.918862 -0.351680 -0.072539 -0.050755 -0.104717  0.173271  0.095931   \n",
              "1318270  0.949475 -0.267526 -0.050975 -0.019807 -0.020764  0.195638  0.090708   \n",
              "1318271  0.957835 -0.194160 -0.028925 -0.011040  0.052439  0.218432  0.055943   \n",
              "\n",
              "                7         8  target  \n",
              "0        0.066014  0.022859       4  \n",
              "1        0.042699  0.010316       4  \n",
              "2        0.074850  0.013250       4  \n",
              "3        0.057320  0.017751       4  \n",
              "4        0.052343  0.002553       4  \n",
              "...           ...       ...     ...  \n",
              "1318267 -0.015923  0.109040       1  \n",
              "1318268 -0.024389  0.006547       1  \n",
              "1318269 -0.021024 -0.051342       1  \n",
              "1318270 -0.041893 -0.078877       1  \n",
              "1318271 -0.102402 -0.046268       1  \n",
              "\n",
              "[1318272 rows x 10 columns]"
            ],
            "text/html": [
              "\n",
              "  <div id=\"df-8c970ce0-f053-4fb1-9c54-b0057f462168\" class=\"colab-df-container\">\n",
              "    <div>\n",
              "<style scoped>\n",
              "    .dataframe tbody tr th:only-of-type {\n",
              "        vertical-align: middle;\n",
              "    }\n",
              "\n",
              "    .dataframe tbody tr th {\n",
              "        vertical-align: top;\n",
              "    }\n",
              "\n",
              "    .dataframe thead th {\n",
              "        text-align: right;\n",
              "    }\n",
              "</style>\n",
              "<table border=\"1\" class=\"dataframe\">\n",
              "  <thead>\n",
              "    <tr style=\"text-align: right;\">\n",
              "      <th></th>\n",
              "      <th>0</th>\n",
              "      <th>1</th>\n",
              "      <th>2</th>\n",
              "      <th>3</th>\n",
              "      <th>4</th>\n",
              "      <th>5</th>\n",
              "      <th>6</th>\n",
              "      <th>7</th>\n",
              "      <th>8</th>\n",
              "      <th>target</th>\n",
              "    </tr>\n",
              "  </thead>\n",
              "  <tbody>\n",
              "    <tr>\n",
              "      <th>0</th>\n",
              "      <td>1.012817</td>\n",
              "      <td>-0.123217</td>\n",
              "      <td>0.102934</td>\n",
              "      <td>0.000181</td>\n",
              "      <td>0.010767</td>\n",
              "      <td>0.055561</td>\n",
              "      <td>0.030191</td>\n",
              "      <td>0.066014</td>\n",
              "      <td>0.022859</td>\n",
              "      <td>4</td>\n",
              "    </tr>\n",
              "    <tr>\n",
              "      <th>1</th>\n",
              "      <td>1.022833</td>\n",
              "      <td>-0.126876</td>\n",
              "      <td>0.105687</td>\n",
              "      <td>0.010139</td>\n",
              "      <td>0.006579</td>\n",
              "      <td>0.055125</td>\n",
              "      <td>0.043711</td>\n",
              "      <td>0.042699</td>\n",
              "      <td>0.010316</td>\n",
              "      <td>4</td>\n",
              "    </tr>\n",
              "    <tr>\n",
              "      <th>2</th>\n",
              "      <td>1.022028</td>\n",
              "      <td>-0.124004</td>\n",
              "      <td>0.102102</td>\n",
              "      <td>0.009276</td>\n",
              "      <td>0.008929</td>\n",
              "      <td>0.048405</td>\n",
              "      <td>0.035688</td>\n",
              "      <td>0.074850</td>\n",
              "      <td>0.013250</td>\n",
              "      <td>4</td>\n",
              "    </tr>\n",
              "    <tr>\n",
              "      <th>3</th>\n",
              "      <td>1.017877</td>\n",
              "      <td>-0.124928</td>\n",
              "      <td>0.106553</td>\n",
              "      <td>0.005066</td>\n",
              "      <td>0.007489</td>\n",
              "      <td>0.049775</td>\n",
              "      <td>0.040402</td>\n",
              "      <td>0.057320</td>\n",
              "      <td>0.017751</td>\n",
              "      <td>4</td>\n",
              "    </tr>\n",
              "    <tr>\n",
              "      <th>4</th>\n",
              "      <td>1.023680</td>\n",
              "      <td>-0.125767</td>\n",
              "      <td>0.102814</td>\n",
              "      <td>0.010810</td>\n",
              "      <td>0.006141</td>\n",
              "      <td>0.043013</td>\n",
              "      <td>0.047097</td>\n",
              "      <td>0.052343</td>\n",
              "      <td>0.002553</td>\n",
              "      <td>4</td>\n",
              "    </tr>\n",
              "    <tr>\n",
              "      <th>...</th>\n",
              "      <td>...</td>\n",
              "      <td>...</td>\n",
              "      <td>...</td>\n",
              "      <td>...</td>\n",
              "      <td>...</td>\n",
              "      <td>...</td>\n",
              "      <td>...</td>\n",
              "      <td>...</td>\n",
              "      <td>...</td>\n",
              "      <td>...</td>\n",
              "    </tr>\n",
              "    <tr>\n",
              "      <th>1318267</th>\n",
              "      <td>0.908386</td>\n",
              "      <td>-0.423054</td>\n",
              "      <td>-0.092933</td>\n",
              "      <td>-0.061667</td>\n",
              "      <td>-0.175584</td>\n",
              "      <td>0.151117</td>\n",
              "      <td>0.148295</td>\n",
              "      <td>-0.015923</td>\n",
              "      <td>0.109040</td>\n",
              "      <td>1</td>\n",
              "    </tr>\n",
              "    <tr>\n",
              "      <th>1318268</th>\n",
              "      <td>0.898984</td>\n",
              "      <td>-0.392272</td>\n",
              "      <td>-0.063138</td>\n",
              "      <td>-0.070890</td>\n",
              "      <td>-0.145071</td>\n",
              "      <td>0.181814</td>\n",
              "      <td>0.143136</td>\n",
              "      <td>-0.024389</td>\n",
              "      <td>0.006547</td>\n",
              "      <td>1</td>\n",
              "    </tr>\n",
              "    <tr>\n",
              "      <th>1318269</th>\n",
              "      <td>0.918862</td>\n",
              "      <td>-0.351680</td>\n",
              "      <td>-0.072539</td>\n",
              "      <td>-0.050755</td>\n",
              "      <td>-0.104717</td>\n",
              "      <td>0.173271</td>\n",
              "      <td>0.095931</td>\n",
              "      <td>-0.021024</td>\n",
              "      <td>-0.051342</td>\n",
              "      <td>1</td>\n",
              "    </tr>\n",
              "    <tr>\n",
              "      <th>1318270</th>\n",
              "      <td>0.949475</td>\n",
              "      <td>-0.267526</td>\n",
              "      <td>-0.050975</td>\n",
              "      <td>-0.019807</td>\n",
              "      <td>-0.020764</td>\n",
              "      <td>0.195638</td>\n",
              "      <td>0.090708</td>\n",
              "      <td>-0.041893</td>\n",
              "      <td>-0.078877</td>\n",
              "      <td>1</td>\n",
              "    </tr>\n",
              "    <tr>\n",
              "      <th>1318271</th>\n",
              "      <td>0.957835</td>\n",
              "      <td>-0.194160</td>\n",
              "      <td>-0.028925</td>\n",
              "      <td>-0.011040</td>\n",
              "      <td>0.052439</td>\n",
              "      <td>0.218432</td>\n",
              "      <td>0.055943</td>\n",
              "      <td>-0.102402</td>\n",
              "      <td>-0.046268</td>\n",
              "      <td>1</td>\n",
              "    </tr>\n",
              "  </tbody>\n",
              "</table>\n",
              "<p>1318272 rows × 10 columns</p>\n",
              "</div>\n",
              "    <div class=\"colab-df-buttons\">\n",
              "\n",
              "  <div class=\"colab-df-container\">\n",
              "    <button class=\"colab-df-convert\" onclick=\"convertToInteractive('df-8c970ce0-f053-4fb1-9c54-b0057f462168')\"\n",
              "            title=\"Convert this dataframe to an interactive table.\"\n",
              "            style=\"display:none;\">\n",
              "\n",
              "  <svg xmlns=\"http://www.w3.org/2000/svg\" height=\"24px\" viewBox=\"0 -960 960 960\">\n",
              "    <path d=\"M120-120v-720h720v720H120Zm60-500h600v-160H180v160Zm220 220h160v-160H400v160Zm0 220h160v-160H400v160ZM180-400h160v-160H180v160Zm440 0h160v-160H620v160ZM180-180h160v-160H180v160Zm440 0h160v-160H620v160Z\"/>\n",
              "  </svg>\n",
              "    </button>\n",
              "\n",
              "  <style>\n",
              "    .colab-df-container {\n",
              "      display:flex;\n",
              "      gap: 12px;\n",
              "    }\n",
              "\n",
              "    .colab-df-convert {\n",
              "      background-color: #E8F0FE;\n",
              "      border: none;\n",
              "      border-radius: 50%;\n",
              "      cursor: pointer;\n",
              "      display: none;\n",
              "      fill: #1967D2;\n",
              "      height: 32px;\n",
              "      padding: 0 0 0 0;\n",
              "      width: 32px;\n",
              "    }\n",
              "\n",
              "    .colab-df-convert:hover {\n",
              "      background-color: #E2EBFA;\n",
              "      box-shadow: 0px 1px 2px rgba(60, 64, 67, 0.3), 0px 1px 3px 1px rgba(60, 64, 67, 0.15);\n",
              "      fill: #174EA6;\n",
              "    }\n",
              "\n",
              "    .colab-df-buttons div {\n",
              "      margin-bottom: 4px;\n",
              "    }\n",
              "\n",
              "    [theme=dark] .colab-df-convert {\n",
              "      background-color: #3B4455;\n",
              "      fill: #D2E3FC;\n",
              "    }\n",
              "\n",
              "    [theme=dark] .colab-df-convert:hover {\n",
              "      background-color: #434B5C;\n",
              "      box-shadow: 0px 1px 3px 1px rgba(0, 0, 0, 0.15);\n",
              "      filter: drop-shadow(0px 1px 2px rgba(0, 0, 0, 0.3));\n",
              "      fill: #FFFFFF;\n",
              "    }\n",
              "  </style>\n",
              "\n",
              "    <script>\n",
              "      const buttonEl =\n",
              "        document.querySelector('#df-8c970ce0-f053-4fb1-9c54-b0057f462168 button.colab-df-convert');\n",
              "      buttonEl.style.display =\n",
              "        google.colab.kernel.accessAllowed ? 'block' : 'none';\n",
              "\n",
              "      async function convertToInteractive(key) {\n",
              "        const element = document.querySelector('#df-8c970ce0-f053-4fb1-9c54-b0057f462168');\n",
              "        const dataTable =\n",
              "          await google.colab.kernel.invokeFunction('convertToInteractive',\n",
              "                                                    [key], {});\n",
              "        if (!dataTable) return;\n",
              "\n",
              "        const docLinkHtml = 'Like what you see? Visit the ' +\n",
              "          '<a target=\"_blank\" href=https://colab.research.google.com/notebooks/data_table.ipynb>data table notebook</a>'\n",
              "          + ' to learn more about interactive tables.';\n",
              "        element.innerHTML = '';\n",
              "        dataTable['output_type'] = 'display_data';\n",
              "        await google.colab.output.renderOutput(dataTable, element);\n",
              "        const docLink = document.createElement('div');\n",
              "        docLink.innerHTML = docLinkHtml;\n",
              "        element.appendChild(docLink);\n",
              "      }\n",
              "    </script>\n",
              "  </div>\n",
              "\n",
              "\n",
              "<div id=\"df-5c7d486b-a73e-4ec1-8a1f-929404a56829\">\n",
              "  <button class=\"colab-df-quickchart\" onclick=\"quickchart('df-5c7d486b-a73e-4ec1-8a1f-929404a56829')\"\n",
              "            title=\"Suggest charts\"\n",
              "            style=\"display:none;\">\n",
              "\n",
              "<svg xmlns=\"http://www.w3.org/2000/svg\" height=\"24px\"viewBox=\"0 0 24 24\"\n",
              "     width=\"24px\">\n",
              "    <g>\n",
              "        <path d=\"M19 3H5c-1.1 0-2 .9-2 2v14c0 1.1.9 2 2 2h14c1.1 0 2-.9 2-2V5c0-1.1-.9-2-2-2zM9 17H7v-7h2v7zm4 0h-2V7h2v10zm4 0h-2v-4h2v4z\"/>\n",
              "    </g>\n",
              "</svg>\n",
              "  </button>\n",
              "\n",
              "<style>\n",
              "  .colab-df-quickchart {\n",
              "      --bg-color: #E8F0FE;\n",
              "      --fill-color: #1967D2;\n",
              "      --hover-bg-color: #E2EBFA;\n",
              "      --hover-fill-color: #174EA6;\n",
              "      --disabled-fill-color: #AAA;\n",
              "      --disabled-bg-color: #DDD;\n",
              "  }\n",
              "\n",
              "  [theme=dark] .colab-df-quickchart {\n",
              "      --bg-color: #3B4455;\n",
              "      --fill-color: #D2E3FC;\n",
              "      --hover-bg-color: #434B5C;\n",
              "      --hover-fill-color: #FFFFFF;\n",
              "      --disabled-bg-color: #3B4455;\n",
              "      --disabled-fill-color: #666;\n",
              "  }\n",
              "\n",
              "  .colab-df-quickchart {\n",
              "    background-color: var(--bg-color);\n",
              "    border: none;\n",
              "    border-radius: 50%;\n",
              "    cursor: pointer;\n",
              "    display: none;\n",
              "    fill: var(--fill-color);\n",
              "    height: 32px;\n",
              "    padding: 0;\n",
              "    width: 32px;\n",
              "  }\n",
              "\n",
              "  .colab-df-quickchart:hover {\n",
              "    background-color: var(--hover-bg-color);\n",
              "    box-shadow: 0 1px 2px rgba(60, 64, 67, 0.3), 0 1px 3px 1px rgba(60, 64, 67, 0.15);\n",
              "    fill: var(--button-hover-fill-color);\n",
              "  }\n",
              "\n",
              "  .colab-df-quickchart-complete:disabled,\n",
              "  .colab-df-quickchart-complete:disabled:hover {\n",
              "    background-color: var(--disabled-bg-color);\n",
              "    fill: var(--disabled-fill-color);\n",
              "    box-shadow: none;\n",
              "  }\n",
              "\n",
              "  .colab-df-spinner {\n",
              "    border: 2px solid var(--fill-color);\n",
              "    border-color: transparent;\n",
              "    border-bottom-color: var(--fill-color);\n",
              "    animation:\n",
              "      spin 1s steps(1) infinite;\n",
              "  }\n",
              "\n",
              "  @keyframes spin {\n",
              "    0% {\n",
              "      border-color: transparent;\n",
              "      border-bottom-color: var(--fill-color);\n",
              "      border-left-color: var(--fill-color);\n",
              "    }\n",
              "    20% {\n",
              "      border-color: transparent;\n",
              "      border-left-color: var(--fill-color);\n",
              "      border-top-color: var(--fill-color);\n",
              "    }\n",
              "    30% {\n",
              "      border-color: transparent;\n",
              "      border-left-color: var(--fill-color);\n",
              "      border-top-color: var(--fill-color);\n",
              "      border-right-color: var(--fill-color);\n",
              "    }\n",
              "    40% {\n",
              "      border-color: transparent;\n",
              "      border-right-color: var(--fill-color);\n",
              "      border-top-color: var(--fill-color);\n",
              "    }\n",
              "    60% {\n",
              "      border-color: transparent;\n",
              "      border-right-color: var(--fill-color);\n",
              "    }\n",
              "    80% {\n",
              "      border-color: transparent;\n",
              "      border-right-color: var(--fill-color);\n",
              "      border-bottom-color: var(--fill-color);\n",
              "    }\n",
              "    90% {\n",
              "      border-color: transparent;\n",
              "      border-bottom-color: var(--fill-color);\n",
              "    }\n",
              "  }\n",
              "</style>\n",
              "\n",
              "  <script>\n",
              "    async function quickchart(key) {\n",
              "      const quickchartButtonEl =\n",
              "        document.querySelector('#' + key + ' button');\n",
              "      quickchartButtonEl.disabled = true;  // To prevent multiple clicks.\n",
              "      quickchartButtonEl.classList.add('colab-df-spinner');\n",
              "      try {\n",
              "        const charts = await google.colab.kernel.invokeFunction(\n",
              "            'suggestCharts', [key], {});\n",
              "      } catch (error) {\n",
              "        console.error('Error during call to suggestCharts:', error);\n",
              "      }\n",
              "      quickchartButtonEl.classList.remove('colab-df-spinner');\n",
              "      quickchartButtonEl.classList.add('colab-df-quickchart-complete');\n",
              "    }\n",
              "    (() => {\n",
              "      let quickchartButtonEl =\n",
              "        document.querySelector('#df-5c7d486b-a73e-4ec1-8a1f-929404a56829 button');\n",
              "      quickchartButtonEl.style.display =\n",
              "        google.colab.kernel.accessAllowed ? 'block' : 'none';\n",
              "    })();\n",
              "  </script>\n",
              "</div>\n",
              "    </div>\n",
              "  </div>\n"
            ]
          },
          "metadata": {},
          "execution_count": 140
        }
      ]
    },
    {
      "cell_type": "code",
      "source": [
        "#sensor_index = 0\n",
        "#sensor_data = X_train[:, :, sensor_index]\n",
        "\n",
        "#df_sensor = pd.DataFrame(sensor_data, columns=[f'Time_{i}' for i in range(sensor_data.shape[1])])\n",
        "\n",
        "#for i in range(y_train.shape[1]):\n",
        "    #df_sensor[f'Mode_{i+1}'] = y_train[:, i]"
      ],
      "metadata": {
        "id": "g7jhlnn231XV"
      },
      "execution_count": 141,
      "outputs": []
    },
    {
      "cell_type": "markdown",
      "source": [
        "### EDA"
      ],
      "metadata": {
        "id": "0Q-qtAqj5xHQ"
      }
    },
    {
      "cell_type": "code",
      "source": [
        "df.head()"
      ],
      "metadata": {
        "colab": {
          "base_uri": "https://localhost:8080/",
          "height": 206
        },
        "id": "vJ3qZv9Z4zpY",
        "outputId": "69ea6c29-6601-46b4-bc32-fd07d4223a99"
      },
      "execution_count": 142,
      "outputs": [
        {
          "output_type": "execute_result",
          "data": {
            "text/plain": [
              "          0         1         2         3         4         5         6  \\\n",
              "0  1.012817 -0.123217  0.102934  0.000181  0.010767  0.055561  0.030191   \n",
              "1  1.022833 -0.126876  0.105687  0.010139  0.006579  0.055125  0.043711   \n",
              "2  1.022028 -0.124004  0.102102  0.009276  0.008929  0.048405  0.035688   \n",
              "3  1.017877 -0.124928  0.106553  0.005066  0.007489  0.049775  0.040402   \n",
              "4  1.023680 -0.125767  0.102814  0.010810  0.006141  0.043013  0.047097   \n",
              "\n",
              "          7         8  target  \n",
              "0  0.066014  0.022859       4  \n",
              "1  0.042699  0.010316       4  \n",
              "2  0.074850  0.013250       4  \n",
              "3  0.057320  0.017751       4  \n",
              "4  0.052343  0.002553       4  "
            ],
            "text/html": [
              "\n",
              "  <div id=\"df-e1e5ae45-83a3-4b64-bcdb-c17f3c4701d9\" class=\"colab-df-container\">\n",
              "    <div>\n",
              "<style scoped>\n",
              "    .dataframe tbody tr th:only-of-type {\n",
              "        vertical-align: middle;\n",
              "    }\n",
              "\n",
              "    .dataframe tbody tr th {\n",
              "        vertical-align: top;\n",
              "    }\n",
              "\n",
              "    .dataframe thead th {\n",
              "        text-align: right;\n",
              "    }\n",
              "</style>\n",
              "<table border=\"1\" class=\"dataframe\">\n",
              "  <thead>\n",
              "    <tr style=\"text-align: right;\">\n",
              "      <th></th>\n",
              "      <th>0</th>\n",
              "      <th>1</th>\n",
              "      <th>2</th>\n",
              "      <th>3</th>\n",
              "      <th>4</th>\n",
              "      <th>5</th>\n",
              "      <th>6</th>\n",
              "      <th>7</th>\n",
              "      <th>8</th>\n",
              "      <th>target</th>\n",
              "    </tr>\n",
              "  </thead>\n",
              "  <tbody>\n",
              "    <tr>\n",
              "      <th>0</th>\n",
              "      <td>1.012817</td>\n",
              "      <td>-0.123217</td>\n",
              "      <td>0.102934</td>\n",
              "      <td>0.000181</td>\n",
              "      <td>0.010767</td>\n",
              "      <td>0.055561</td>\n",
              "      <td>0.030191</td>\n",
              "      <td>0.066014</td>\n",
              "      <td>0.022859</td>\n",
              "      <td>4</td>\n",
              "    </tr>\n",
              "    <tr>\n",
              "      <th>1</th>\n",
              "      <td>1.022833</td>\n",
              "      <td>-0.126876</td>\n",
              "      <td>0.105687</td>\n",
              "      <td>0.010139</td>\n",
              "      <td>0.006579</td>\n",
              "      <td>0.055125</td>\n",
              "      <td>0.043711</td>\n",
              "      <td>0.042699</td>\n",
              "      <td>0.010316</td>\n",
              "      <td>4</td>\n",
              "    </tr>\n",
              "    <tr>\n",
              "      <th>2</th>\n",
              "      <td>1.022028</td>\n",
              "      <td>-0.124004</td>\n",
              "      <td>0.102102</td>\n",
              "      <td>0.009276</td>\n",
              "      <td>0.008929</td>\n",
              "      <td>0.048405</td>\n",
              "      <td>0.035688</td>\n",
              "      <td>0.074850</td>\n",
              "      <td>0.013250</td>\n",
              "      <td>4</td>\n",
              "    </tr>\n",
              "    <tr>\n",
              "      <th>3</th>\n",
              "      <td>1.017877</td>\n",
              "      <td>-0.124928</td>\n",
              "      <td>0.106553</td>\n",
              "      <td>0.005066</td>\n",
              "      <td>0.007489</td>\n",
              "      <td>0.049775</td>\n",
              "      <td>0.040402</td>\n",
              "      <td>0.057320</td>\n",
              "      <td>0.017751</td>\n",
              "      <td>4</td>\n",
              "    </tr>\n",
              "    <tr>\n",
              "      <th>4</th>\n",
              "      <td>1.023680</td>\n",
              "      <td>-0.125767</td>\n",
              "      <td>0.102814</td>\n",
              "      <td>0.010810</td>\n",
              "      <td>0.006141</td>\n",
              "      <td>0.043013</td>\n",
              "      <td>0.047097</td>\n",
              "      <td>0.052343</td>\n",
              "      <td>0.002553</td>\n",
              "      <td>4</td>\n",
              "    </tr>\n",
              "  </tbody>\n",
              "</table>\n",
              "</div>\n",
              "    <div class=\"colab-df-buttons\">\n",
              "\n",
              "  <div class=\"colab-df-container\">\n",
              "    <button class=\"colab-df-convert\" onclick=\"convertToInteractive('df-e1e5ae45-83a3-4b64-bcdb-c17f3c4701d9')\"\n",
              "            title=\"Convert this dataframe to an interactive table.\"\n",
              "            style=\"display:none;\">\n",
              "\n",
              "  <svg xmlns=\"http://www.w3.org/2000/svg\" height=\"24px\" viewBox=\"0 -960 960 960\">\n",
              "    <path d=\"M120-120v-720h720v720H120Zm60-500h600v-160H180v160Zm220 220h160v-160H400v160Zm0 220h160v-160H400v160ZM180-400h160v-160H180v160Zm440 0h160v-160H620v160ZM180-180h160v-160H180v160Zm440 0h160v-160H620v160Z\"/>\n",
              "  </svg>\n",
              "    </button>\n",
              "\n",
              "  <style>\n",
              "    .colab-df-container {\n",
              "      display:flex;\n",
              "      gap: 12px;\n",
              "    }\n",
              "\n",
              "    .colab-df-convert {\n",
              "      background-color: #E8F0FE;\n",
              "      border: none;\n",
              "      border-radius: 50%;\n",
              "      cursor: pointer;\n",
              "      display: none;\n",
              "      fill: #1967D2;\n",
              "      height: 32px;\n",
              "      padding: 0 0 0 0;\n",
              "      width: 32px;\n",
              "    }\n",
              "\n",
              "    .colab-df-convert:hover {\n",
              "      background-color: #E2EBFA;\n",
              "      box-shadow: 0px 1px 2px rgba(60, 64, 67, 0.3), 0px 1px 3px 1px rgba(60, 64, 67, 0.15);\n",
              "      fill: #174EA6;\n",
              "    }\n",
              "\n",
              "    .colab-df-buttons div {\n",
              "      margin-bottom: 4px;\n",
              "    }\n",
              "\n",
              "    [theme=dark] .colab-df-convert {\n",
              "      background-color: #3B4455;\n",
              "      fill: #D2E3FC;\n",
              "    }\n",
              "\n",
              "    [theme=dark] .colab-df-convert:hover {\n",
              "      background-color: #434B5C;\n",
              "      box-shadow: 0px 1px 3px 1px rgba(0, 0, 0, 0.15);\n",
              "      filter: drop-shadow(0px 1px 2px rgba(0, 0, 0, 0.3));\n",
              "      fill: #FFFFFF;\n",
              "    }\n",
              "  </style>\n",
              "\n",
              "    <script>\n",
              "      const buttonEl =\n",
              "        document.querySelector('#df-e1e5ae45-83a3-4b64-bcdb-c17f3c4701d9 button.colab-df-convert');\n",
              "      buttonEl.style.display =\n",
              "        google.colab.kernel.accessAllowed ? 'block' : 'none';\n",
              "\n",
              "      async function convertToInteractive(key) {\n",
              "        const element = document.querySelector('#df-e1e5ae45-83a3-4b64-bcdb-c17f3c4701d9');\n",
              "        const dataTable =\n",
              "          await google.colab.kernel.invokeFunction('convertToInteractive',\n",
              "                                                    [key], {});\n",
              "        if (!dataTable) return;\n",
              "\n",
              "        const docLinkHtml = 'Like what you see? Visit the ' +\n",
              "          '<a target=\"_blank\" href=https://colab.research.google.com/notebooks/data_table.ipynb>data table notebook</a>'\n",
              "          + ' to learn more about interactive tables.';\n",
              "        element.innerHTML = '';\n",
              "        dataTable['output_type'] = 'display_data';\n",
              "        await google.colab.output.renderOutput(dataTable, element);\n",
              "        const docLink = document.createElement('div');\n",
              "        docLink.innerHTML = docLinkHtml;\n",
              "        element.appendChild(docLink);\n",
              "      }\n",
              "    </script>\n",
              "  </div>\n",
              "\n",
              "\n",
              "<div id=\"df-c95fa2d3-1e5f-4873-8b68-e70dd458c043\">\n",
              "  <button class=\"colab-df-quickchart\" onclick=\"quickchart('df-c95fa2d3-1e5f-4873-8b68-e70dd458c043')\"\n",
              "            title=\"Suggest charts\"\n",
              "            style=\"display:none;\">\n",
              "\n",
              "<svg xmlns=\"http://www.w3.org/2000/svg\" height=\"24px\"viewBox=\"0 0 24 24\"\n",
              "     width=\"24px\">\n",
              "    <g>\n",
              "        <path d=\"M19 3H5c-1.1 0-2 .9-2 2v14c0 1.1.9 2 2 2h14c1.1 0 2-.9 2-2V5c0-1.1-.9-2-2-2zM9 17H7v-7h2v7zm4 0h-2V7h2v10zm4 0h-2v-4h2v4z\"/>\n",
              "    </g>\n",
              "</svg>\n",
              "  </button>\n",
              "\n",
              "<style>\n",
              "  .colab-df-quickchart {\n",
              "      --bg-color: #E8F0FE;\n",
              "      --fill-color: #1967D2;\n",
              "      --hover-bg-color: #E2EBFA;\n",
              "      --hover-fill-color: #174EA6;\n",
              "      --disabled-fill-color: #AAA;\n",
              "      --disabled-bg-color: #DDD;\n",
              "  }\n",
              "\n",
              "  [theme=dark] .colab-df-quickchart {\n",
              "      --bg-color: #3B4455;\n",
              "      --fill-color: #D2E3FC;\n",
              "      --hover-bg-color: #434B5C;\n",
              "      --hover-fill-color: #FFFFFF;\n",
              "      --disabled-bg-color: #3B4455;\n",
              "      --disabled-fill-color: #666;\n",
              "  }\n",
              "\n",
              "  .colab-df-quickchart {\n",
              "    background-color: var(--bg-color);\n",
              "    border: none;\n",
              "    border-radius: 50%;\n",
              "    cursor: pointer;\n",
              "    display: none;\n",
              "    fill: var(--fill-color);\n",
              "    height: 32px;\n",
              "    padding: 0;\n",
              "    width: 32px;\n",
              "  }\n",
              "\n",
              "  .colab-df-quickchart:hover {\n",
              "    background-color: var(--hover-bg-color);\n",
              "    box-shadow: 0 1px 2px rgba(60, 64, 67, 0.3), 0 1px 3px 1px rgba(60, 64, 67, 0.15);\n",
              "    fill: var(--button-hover-fill-color);\n",
              "  }\n",
              "\n",
              "  .colab-df-quickchart-complete:disabled,\n",
              "  .colab-df-quickchart-complete:disabled:hover {\n",
              "    background-color: var(--disabled-bg-color);\n",
              "    fill: var(--disabled-fill-color);\n",
              "    box-shadow: none;\n",
              "  }\n",
              "\n",
              "  .colab-df-spinner {\n",
              "    border: 2px solid var(--fill-color);\n",
              "    border-color: transparent;\n",
              "    border-bottom-color: var(--fill-color);\n",
              "    animation:\n",
              "      spin 1s steps(1) infinite;\n",
              "  }\n",
              "\n",
              "  @keyframes spin {\n",
              "    0% {\n",
              "      border-color: transparent;\n",
              "      border-bottom-color: var(--fill-color);\n",
              "      border-left-color: var(--fill-color);\n",
              "    }\n",
              "    20% {\n",
              "      border-color: transparent;\n",
              "      border-left-color: var(--fill-color);\n",
              "      border-top-color: var(--fill-color);\n",
              "    }\n",
              "    30% {\n",
              "      border-color: transparent;\n",
              "      border-left-color: var(--fill-color);\n",
              "      border-top-color: var(--fill-color);\n",
              "      border-right-color: var(--fill-color);\n",
              "    }\n",
              "    40% {\n",
              "      border-color: transparent;\n",
              "      border-right-color: var(--fill-color);\n",
              "      border-top-color: var(--fill-color);\n",
              "    }\n",
              "    60% {\n",
              "      border-color: transparent;\n",
              "      border-right-color: var(--fill-color);\n",
              "    }\n",
              "    80% {\n",
              "      border-color: transparent;\n",
              "      border-right-color: var(--fill-color);\n",
              "      border-bottom-color: var(--fill-color);\n",
              "    }\n",
              "    90% {\n",
              "      border-color: transparent;\n",
              "      border-bottom-color: var(--fill-color);\n",
              "    }\n",
              "  }\n",
              "</style>\n",
              "\n",
              "  <script>\n",
              "    async function quickchart(key) {\n",
              "      const quickchartButtonEl =\n",
              "        document.querySelector('#' + key + ' button');\n",
              "      quickchartButtonEl.disabled = true;  // To prevent multiple clicks.\n",
              "      quickchartButtonEl.classList.add('colab-df-spinner');\n",
              "      try {\n",
              "        const charts = await google.colab.kernel.invokeFunction(\n",
              "            'suggestCharts', [key], {});\n",
              "      } catch (error) {\n",
              "        console.error('Error during call to suggestCharts:', error);\n",
              "      }\n",
              "      quickchartButtonEl.classList.remove('colab-df-spinner');\n",
              "      quickchartButtonEl.classList.add('colab-df-quickchart-complete');\n",
              "    }\n",
              "    (() => {\n",
              "      let quickchartButtonEl =\n",
              "        document.querySelector('#df-c95fa2d3-1e5f-4873-8b68-e70dd458c043 button');\n",
              "      quickchartButtonEl.style.display =\n",
              "        google.colab.kernel.accessAllowed ? 'block' : 'none';\n",
              "    })();\n",
              "  </script>\n",
              "</div>\n",
              "    </div>\n",
              "  </div>\n"
            ]
          },
          "metadata": {},
          "execution_count": 142
        }
      ]
    },
    {
      "cell_type": "code",
      "source": [
        "y"
      ],
      "metadata": {
        "colab": {
          "base_uri": "https://localhost:8080/"
        },
        "id": "3v3l0f5K7pxA",
        "outputId": "4111b278-6ee8-461d-84e7-a50ab6730171"
      },
      "execution_count": 143,
      "outputs": [
        {
          "output_type": "execute_result",
          "data": {
            "text/plain": [
              "array([[0., 0., 0., 0., 1., 0.],\n",
              "       [0., 0., 0., 0., 1., 0.],\n",
              "       [0., 0., 0., 0., 1., 0.],\n",
              "       ...,\n",
              "       [0., 1., 0., 0., 0., 0.],\n",
              "       [0., 1., 0., 0., 0., 0.],\n",
              "       [0., 1., 0., 0., 0., 0.]])"
            ]
          },
          "metadata": {},
          "execution_count": 143
        }
      ]
    },
    {
      "cell_type": "markdown",
      "source": [
        "Преобразуем 'y' в другой формат"
      ],
      "metadata": {
        "id": "aphXP0CD6aN3"
      }
    },
    {
      "cell_type": "code",
      "source": [
        "def reformat_array(arr):\n",
        "    return np.where(arr == 1)[0][0]\n",
        "\n",
        "y = np.array([reformat_array(arr) for arr in y])\n"
      ],
      "metadata": {
        "id": "b9h23H6m6ujv"
      },
      "execution_count": 144,
      "outputs": []
    },
    {
      "cell_type": "markdown",
      "source": [
        "Посмотрим на распределение по всем режимам"
      ],
      "metadata": {
        "id": "Zzltae9f64DK"
      }
    },
    {
      "cell_type": "code",
      "source": [
        "sns.countplot(df, x=\"target\")"
      ],
      "metadata": {
        "colab": {
          "base_uri": "https://localhost:8080/",
          "height": 466
        },
        "id": "ZL5Up6uq6jUH",
        "outputId": "1e681465-a8cb-4c28-be8c-3c2ca629c90b"
      },
      "execution_count": 145,
      "outputs": [
        {
          "output_type": "execute_result",
          "data": {
            "text/plain": [
              "<Axes: xlabel='target', ylabel='count'>"
            ]
          },
          "metadata": {},
          "execution_count": 145
        },
        {
          "output_type": "display_data",
          "data": {
            "text/plain": [
              "<Figure size 640x480 with 1 Axes>"
            ],
            "image/png": "[encoded data removed]"
          },
          "metadata": {}
        }
      ]
    },
    {
      "cell_type": "markdown",
      "source": [
        "Посмотрим на корелляцию датчиков"
      ],
      "metadata": {
        "id": "j-7NbbcA7WlS"
      }
    },
    {
      "cell_type": "code",
      "source": [
        "corr_matrix = df.corr()\n",
        "sns.heatmap(corr_matrix, annot=True)\n",
        "plt.show()"
      ],
      "metadata": {
        "colab": {
          "base_uri": "https://localhost:8080/",
          "height": 435
        },
        "id": "dZGteIbq7RmF",
        "outputId": "41e573bb-6252-47e5-f904-3e46c0e91804"
      },
      "execution_count": 146,
      "outputs": [
        {
          "output_type": "display_data",
          "data": {
            "text/plain": [
              "<Figure size 640x480 with 2 Axes>"
            ],
            "image/png": "[encoded data removed]"
          },
          "metadata": {}
        }
      ]
    },
    {
      "cell_type": "markdown",
      "source": [
        "### Выберем по рангам наиболее значимые столбцы"
      ],
      "metadata": {
        "id": "3fzSAvRO8XG6"
      }
    },
    {
      "cell_type": "code",
      "source": [
        "X = pd.DataFrame(data=X)\n",
        "y = pd.DataFrame(data=y)"
      ],
      "metadata": {
        "id": "qLQAUsWQ9PhL"
      },
      "execution_count": 147,
      "outputs": []
    },
    {
      "cell_type": "code",
      "source": [
        "X = df.iloc[:, :9].values\n",
        "y = df['target'].values.astype(int)"
      ],
      "metadata": {
        "id": "Mm6cya3G7hAy"
      },
      "execution_count": 148,
      "outputs": []
    },
    {
      "cell_type": "code",
      "source": [
        "X = SelectKBest(k=9).fit_transform(X, y)"
      ],
      "metadata": {
        "id": "FK__nNJP8Pvc"
      },
      "execution_count": 149,
      "outputs": []
    },
    {
      "cell_type": "markdown",
      "source": [
        "### Обучение моделей"
      ],
      "metadata": {
        "id": "GsjwPSMv8jSx"
      }
    },
    {
      "cell_type": "code",
      "source": [
        "X_train, X_test, y_train, y_test = train_test_split(X, y, test_size = 0.3, random_state=42, shuffle=True)"
      ],
      "metadata": {
        "id": "Xig7D39R9p5N"
      },
      "execution_count": 150,
      "outputs": []
    },
    {
      "cell_type": "markdown",
      "source": [
        "### DecisionTreeClassifier"
      ],
      "metadata": {
        "id": "CtGORymj9o65"
      }
    },
    {
      "cell_type": "code",
      "source": [
        "model = DecisionTreeClassifier()\n",
        "model.fit(X_train, y_train)"
      ],
      "metadata": {
        "colab": {
          "base_uri": "https://localhost:8080/",
          "height": 74
        },
        "id": "fGdEPpHE9zBm",
        "outputId": "f00a87f1-29ca-4914-e872-95cbe2030c17"
      },
      "execution_count": 151,
      "outputs": [
        {
          "output_type": "execute_result",
          "data": {
            "text/plain": [
              "DecisionTreeClassifier()"
            ],
            "text/html": [
              "<style>#sk-container-id-8 {color: black;background-color: white;}#sk-container-id-8 pre{padding: 0;}#sk-container-id-8 div.sk-toggleable {background-color: white;}#sk-container-id-8 label.sk-toggleable__label {cursor: pointer;display: block;width: 100%;margin-bottom: 0;padding: 0.3em;box-sizing: border-box;text-align: center;}#sk-container-id-8 label.sk-toggleable__label-arrow:before {content: \"▸\";float: left;margin-right: 0.25em;color: #696969;}#sk-container-id-8 label.sk-toggleable__label-arrow:hover:before {color: black;}#sk-container-id-8 div.sk-estimator:hover label.sk-toggleable__label-arrow:before {color: black;}#sk-container-id-8 div.sk-toggleable__content {max-height: 0;max-width: 0;overflow: hidden;text-align: left;background-color: #f0f8ff;}#sk-container-id-8 div.sk-toggleable__content pre {margin: 0.2em;color: black;border-radius: 0.25em;background-color: #f0f8ff;}#sk-container-id-8 input.sk-toggleable__control:checked~div.sk-toggleable__content {max-height: 200px;max-width: 100%;overflow: auto;}#sk-container-id-8 input.sk-toggleable__control:checked~label.sk-toggleable__label-arrow:before {content: \"▾\";}#sk-container-id-8 div.sk-estimator input.sk-toggleable__control:checked~label.sk-toggleable__label {background-color: #d4ebff;}#sk-container-id-8 div.sk-label input.sk-toggleable__control:checked~label.sk-toggleable__label {background-color: #d4ebff;}#sk-container-id-8 input.sk-hidden--visually {border: 0;clip: rect(1px 1px 1px 1px);clip: rect(1px, 1px, 1px, 1px);height: 1px;margin: -1px;overflow: hidden;padding: 0;position: absolute;width: 1px;}#sk-container-id-8 div.sk-estimator {font-family: monospace;background-color: #f0f8ff;border: 1px dotted black;border-radius: 0.25em;box-sizing: border-box;margin-bottom: 0.5em;}#sk-container-id-8 div.sk-estimator:hover {background-color: #d4ebff;}#sk-container-id-8 div.sk-parallel-item::after {content: \"\";width: 100%;border-bottom: 1px solid gray;flex-grow: 1;}#sk-container-id-8 div.sk-label:hover label.sk-toggleable__label {background-color: #d4ebff;}#sk-container-id-8 div.sk-serial::before {content: \"\";position: absolute;border-left: 1px solid gray;box-sizing: border-box;top: 0;bottom: 0;left: 50%;z-index: 0;}#sk-container-id-8 div.sk-serial {display: flex;flex-direction: column;align-items: center;background-color: white;padding-right: 0.2em;padding-left: 0.2em;position: relative;}#sk-container-id-8 div.sk-item {position: relative;z-index: 1;}#sk-container-id-8 div.sk-parallel {display: flex;align-items: stretch;justify-content: center;background-color: white;position: relative;}#sk-container-id-8 div.sk-item::before, #sk-container-id-8 div.sk-parallel-item::before {content: \"\";position: absolute;border-left: 1px solid gray;box-sizing: border-box;top: 0;bottom: 0;left: 50%;z-index: -1;}#sk-container-id-8 div.sk-parallel-item {display: flex;flex-direction: column;z-index: 1;position: relative;background-color: white;}#sk-container-id-8 div.sk-parallel-item:first-child::after {align-self: flex-end;width: 50%;}#sk-container-id-8 div.sk-parallel-item:last-child::after {align-self: flex-start;width: 50%;}#sk-container-id-8 div.sk-parallel-item:only-child::after {width: 0;}#sk-container-id-8 div.sk-dashed-wrapped {border: 1px dashed gray;margin: 0 0.4em 0.5em 0.4em;box-sizing: border-box;padding-bottom: 0.4em;background-color: white;}#sk-container-id-8 div.sk-label label {font-family: monospace;font-weight: bold;display: inline-block;line-height: 1.2em;}#sk-container-id-8 div.sk-label-container {text-align: center;}#sk-container-id-8 div.sk-container {/* jupyter's `normalize.less` sets `[hidden] { display: none; }` but bootstrap.min.css set `[hidden] { display: none !important; }` so we also need the `!important` here to be able to override the default hidden behavior on the sphinx rendered scikit-learn.org. See: https://github.com/scikit-learn/scikit-learn/issues/21755 */display: inline-block !important;position: relative;}#sk-container-id-8 div.sk-text-repr-fallback {display: none;}</style><div id=\"sk-container-id-8\" class=\"sk-top-container\"><div class=\"sk-text-repr-fallback\"><pre>DecisionTreeClassifier()</pre><b>In a Jupyter environment, please rerun this cell to show the HTML representation or trust the notebook. <br />On GitHub, the HTML representation is unable to render, please try loading this page with nbviewer.org.</b></div><div class=\"sk-container\" hidden><div class=\"sk-item\"><div class=\"sk-estimator sk-toggleable\"><input class=\"sk-toggleable__control sk-hidden--visually\" id=\"sk-estimator-id-8\" type=\"checkbox\" checked><label for=\"sk-estimator-id-8\" class=\"sk-toggleable__label sk-toggleable__label-arrow\">DecisionTreeClassifier</label><div class=\"sk-toggleable__content\"><pre>DecisionTreeClassifier()</pre></div></div></div></div></div>"
            ]
          },
          "metadata": {},
          "execution_count": 151
        }
      ]
    },
    {
      "cell_type": "code",
      "source": [
        "y_pred = model.predict(X_test)"
      ],
      "metadata": {
        "id": "qpM7_1AI-AXI"
      },
      "execution_count": 152,
      "outputs": []
    },
    {
      "cell_type": "code",
      "source": [
        "precision = precision_score(y_test, y_pred, average='macro')\n",
        "recall = recall_score(y_test, y_pred, average='macro')\n",
        "y_pred = model.predict_proba(X_test)\n",
        "print(f'AUC ROC: {roc_auc_score(y_test, y_pred, average=\"micro\", multi_class=\"ovr\")}')\n",
        "print('Точность: {}'.format(precision))\n",
        "print('Полнота: {}'.format(recall))"
      ],
      "metadata": {
        "colab": {
          "base_uri": "https://localhost:8080/"
        },
        "id": "m3D1dwaX-FUz",
        "outputId": "60cac5c3-c2f1-4d1a-d61c-ad7253d08993"
      },
      "execution_count": 153,
      "outputs": [
        {
          "output_type": "stream",
          "name": "stdout",
          "text": [
            "AUC ROC: 0.9646689356279173\n",
            "Точность: 0.9358045264204797\n",
            "Полнота: 0.9355953395410914\n"
          ]
        }
      ]
    },
    {
      "cell_type": "markdown",
      "source": [
        "### RandomForestClassifier"
      ],
      "metadata": {
        "id": "PnGf1H3M--pH"
      }
    },
    {
      "cell_type": "code",
      "source": [
        "model = RandomForestClassifier(random_state=42,min_samples_leaf=3,min_samples_split=2,n_estimators=50)\n",
        "model.fit(X_train, y_train)\n",
        "y_pred = model.predict(X_test)"
      ],
      "metadata": {
        "id": "cZ9-ol4Y-HPX"
      },
      "execution_count": 154,
      "outputs": []
    },
    {
      "cell_type": "code",
      "source": [
        "precision = precision_score(y_test, y_pred, average='macro')\n",
        "recall = recall_score(y_test, y_pred, average='macro')\n",
        "y_pred = model.predict_proba(X_test)\n",
        "print(f'AUC ROC: {roc_auc_score(y_test, y_pred, average=\"micro\", multi_class=\"ovr\")}')\n",
        "print('Точность: {}'.format(precision))\n",
        "print('Полнота: {}'.format(recall))"
      ],
      "metadata": {
        "colab": {
          "base_uri": "https://localhost:8080/"
        },
        "id": "EQiDyR9O-K6D",
        "outputId": "96eee014-207a-4116-f3dc-6efcfbed1f5f"
      },
      "execution_count": 155,
      "outputs": [
        {
          "output_type": "stream",
          "name": "stdout",
          "text": [
            "AUC ROC: 0.9981040723090252\n",
            "Точность: 0.9528768237210534\n",
            "Полнота: 0.9517385805497213\n"
          ]
        }
      ]
    },
    {
      "cell_type": "markdown",
      "source": [
        "### KNN"
      ],
      "metadata": {
        "id": "kn-aRy8Z_KxT"
      }
    },
    {
      "cell_type": "code",
      "source": [
        "model = KNeighborsClassifier()\n",
        "model.fit(X_train, y_train)\n",
        "y_pred = model.predict(X_test)"
      ],
      "metadata": {
        "id": "MT0Tk5hx_MVE"
      },
      "execution_count": null,
      "outputs": []
    },
    {
      "cell_type": "code",
      "source": [
        "precision = precision_score(y_test, y_pred, average='macro')\n",
        "recall = recall_score(y_test, y_pred, average='macro')\n",
        "y_pred = model.predict_proba(X_test)\n",
        "print(f'AUC ROC: {roc_auc_score(y_test, y_pred, average=\"micro\", multi_class=\"ovr\")}')\n",
        "print('Точность: {}'.format(precision))\n",
        "print('Полнота: {}'.format(recall))"
      ],
      "metadata": {
        "colab": {
          "base_uri": "https://localhost:8080/"
        },
        "id": "xJSk9L2i_P6i",
        "outputId": "cdea9562-96f0-4f4e-f5c0-4e9eb012ffa5"
      },
      "execution_count": 157,
      "outputs": [
        {
          "output_type": "stream",
          "name": "stdout",
          "text": [
            "AUC ROC: 0.9885505075585562\n",
            "Точность: 0.907973099325921\n",
            "Полнота: 0.9023354036628284\n"
          ]
        }
      ]
    },
    {
      "cell_type": "markdown",
      "source": [
        "Во всех алгоритмах метрики показали результаты > 0,88, лучшие результаты у RandomForestClassifier"
      ],
      "metadata": {
        "id": "YIYRkQIIJQtu"
      }
    }
  ]
}