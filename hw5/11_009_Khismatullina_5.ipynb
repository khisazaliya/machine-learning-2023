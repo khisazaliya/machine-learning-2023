{
  "cells": [
    {
      "cell_type": "markdown",
      "metadata": {
        "id": "WfH7tJk-Xhew"
      },
      "source": [
        "# ДЗ:\n",
        "1. Сделать разведочный анализ данных, найти пропуски и выбросы. Примеры есть в ноутбуке EDA_AUTO из 4 задания.\n",
        "2. Заполнить пропуски. Заполнить медианой или обучить линейную регрессию и заполнить ею пропуски. Если заполните линейной регрессией пропуски, то с помощью таблицы корреляций найдите второй признак, который имеет сильную взаимосвязь с первым признаком. Создаете отдельный датафрейм из этих признаков, исключаете пропуски (не удаляете), обучаете линейну регрессию. Затем прогнозируете на исключенных данных с пропусками и заполняете эти пропуски предсказанным значением.\n",
        "3. Обучить множественную линейную регрессию. Она будет являться base line, т.е. базовая модель. С ней вы будете сравнивать другие модели.\n",
        "4. Используя кроссвалидацию, подбор гиперпараметров обучить модели Lasso regression, Ridge Regression, ElasticNet (модель где Ridge + Lasso вместе используется), DecisionTreeRegressor, SVR, RandomForestRegressor"
      ]
    },
    {
      "cell_type": "code",
      "execution_count": 53,
      "metadata": {
        "id": "MrcFMlP9Xhwv"
      },
      "outputs": [],
      "source": [
        "import numpy as np\n",
        "import pandas as pd\n",
        "import seaborn as sns\n",
        "import matplotlib.pyplot as plt\n",
        "\n",
        "from sklearn.model_selection import train_test_split\n",
        "from sklearn.preprocessing import StandardScaler\n",
        "from sklearn.model_selection import cross_val_score, cross_val_predict, cross_validate\n",
        "\n",
        "from sklearn.linear_model import LinearRegression, Ridge, Lasso, LassoCV, ElasticNet, ElasticNetCV # Линейна регрессия, Ридж и Лассо\n",
        "from sklearn.linear_model import LassoCV, RidgeCV, MultiTaskLassoCV # Ridge и Lasso Регрессия\n",
        "from sklearn.svm import SVR\n",
        "from sklearn.tree import DecisionTreeRegressor\n",
        "from sklearn.ensemble import RandomForestRegressor\n",
        "# from sklearn.ensemble import GradientBoostingRegressor\n",
        "\n",
        "from sklearn.metrics import make_scorer, r2_score\n",
        "\n",
        "from sklearn.pipeline import Pipeline\n",
        "from sklearn.pipeline import make_pipeline\n",
        "from sklearn.model_selection import GridSearchCV\n",
        "from sklearn.multioutput import MultiOutputRegressor\n",
        "\n",
        "import gc\n",
        "\n",
        "sns.set()\n",
        "%matplotlib inline\n",
        "\n",
        "import sys\n",
        "# np.set_printoptions(suppress=True)\n",
        "# np.set_printoptions(threshold=sys.maxsize)\n",
        "np.set_printoptions(precision=3)\n",
        "\n",
        "DISPLAY_MAX_ROWS = 20 #20\n",
        "pd.set_option('display.max_rows', DISPLAY_MAX_ROWS)\n",
        "pd.set_option('display.max_column',None)\n",
        "plt.style.use('seaborn-whitegrid')\n",
        "\n",
        "\n",
        "# plt.rcParams[\"figure.figsize\"] = (20, 15)\n",
        "\n",
        "import warnings\n",
        "warnings.filterwarnings('ignore')"
      ]
    },
    {
      "cell_type": "code",
      "execution_count": 54,
      "metadata": {
        "colab": {
          "base_uri": "https://localhost:8080/",
          "height": 423
        },
        "id": "Fj545keWcGNZ",
        "outputId": "63c85c4b-090c-4943-a226-287b6989a937"
      },
      "outputs": [
        {
          "data": {
            "text/html": [
              "\n",
              "  <div id=\"df-dc4dc91d-19a2-4701-aec8-e88c92a23cae\" class=\"colab-df-container\">\n",
              "    <div>\n",
              "<style scoped>\n",
              "    .dataframe tbody tr th:only-of-type {\n",
              "        vertical-align: middle;\n",
              "    }\n",
              "\n",
              "    .dataframe tbody tr th {\n",
              "        vertical-align: top;\n",
              "    }\n",
              "\n",
              "    .dataframe thead th {\n",
              "        text-align: right;\n",
              "    }\n",
              "</style>\n",
              "<table border=\"1\" class=\"dataframe\">\n",
              "  <thead>\n",
              "    <tr style=\"text-align: right;\">\n",
              "      <th></th>\n",
              "      <th>KS4_GPA5_Qtg.PV</th>\n",
              "      <th>KS4_GPA5_TC_T1.PV</th>\n",
              "      <th>KS4_GPA5_Nst.PV</th>\n",
              "      <th>KS4_GPA5_Nvd.PV</th>\n",
              "      <th>KS4_GPA5_Nnd.PV</th>\n",
              "      <th>KS4_GPA5_T4.PV</th>\n",
              "      <th>KS4_GPA5_Pk.PV</th>\n",
              "    </tr>\n",
              "  </thead>\n",
              "  <tbody>\n",
              "    <tr>\n",
              "      <th>0</th>\n",
              "      <td>50.074285</td>\n",
              "      <td>50.656771</td>\n",
              "      <td>500.475537</td>\n",
              "      <td>1207.542773</td>\n",
              "      <td>912.161426</td>\n",
              "      <td>119.562970</td>\n",
              "      <td>51.248955</td>\n",
              "    </tr>\n",
              "    <tr>\n",
              "      <th>1</th>\n",
              "      <td>50.074926</td>\n",
              "      <td>50.656771</td>\n",
              "      <td>500.379883</td>\n",
              "      <td>1209.190723</td>\n",
              "      <td>914.203027</td>\n",
              "      <td>119.683643</td>\n",
              "      <td>51.255357</td>\n",
              "    </tr>\n",
              "    <tr>\n",
              "      <th>2</th>\n",
              "      <td>50.074836</td>\n",
              "      <td>50.666920</td>\n",
              "      <td>499.359570</td>\n",
              "      <td>1210.159082</td>\n",
              "      <td>914.924512</td>\n",
              "      <td>119.665576</td>\n",
              "      <td>51.263570</td>\n",
              "    </tr>\n",
              "    <tr>\n",
              "      <th>3</th>\n",
              "      <td>50.074957</td>\n",
              "      <td>50.666920</td>\n",
              "      <td>500.535840</td>\n",
              "      <td>1210.641602</td>\n",
              "      <td>915.881055</td>\n",
              "      <td>119.674750</td>\n",
              "      <td>51.267725</td>\n",
              "    </tr>\n",
              "    <tr>\n",
              "      <th>4</th>\n",
              "      <td>50.075145</td>\n",
              "      <td>50.666920</td>\n",
              "      <td>500.198145</td>\n",
              "      <td>1211.398438</td>\n",
              "      <td>916.435645</td>\n",
              "      <td>119.692188</td>\n",
              "      <td>51.264826</td>\n",
              "    </tr>\n",
              "    <tr>\n",
              "      <th>...</th>\n",
              "      <td>...</td>\n",
              "      <td>...</td>\n",
              "      <td>...</td>\n",
              "      <td>...</td>\n",
              "      <td>...</td>\n",
              "      <td>...</td>\n",
              "      <td>...</td>\n",
              "    </tr>\n",
              "    <tr>\n",
              "      <th>29707</th>\n",
              "      <td>50.070496</td>\n",
              "      <td>52.706500</td>\n",
              "      <td>459.827393</td>\n",
              "      <td>1238.176660</td>\n",
              "      <td>914.571973</td>\n",
              "      <td>128.579962</td>\n",
              "      <td>51.102349</td>\n",
              "    </tr>\n",
              "    <tr>\n",
              "      <th>29708</th>\n",
              "      <td>50.070217</td>\n",
              "      <td>52.716716</td>\n",
              "      <td>459.400806</td>\n",
              "      <td>1237.532422</td>\n",
              "      <td>913.476074</td>\n",
              "      <td>128.521655</td>\n",
              "      <td>51.102543</td>\n",
              "    </tr>\n",
              "    <tr>\n",
              "      <th>29709</th>\n",
              "      <td>50.070292</td>\n",
              "      <td>52.696284</td>\n",
              "      <td>459.942578</td>\n",
              "      <td>1237.783984</td>\n",
              "      <td>913.913086</td>\n",
              "      <td>128.503632</td>\n",
              "      <td>51.102639</td>\n",
              "    </tr>\n",
              "    <tr>\n",
              "      <th>29710</th>\n",
              "      <td>50.070389</td>\n",
              "      <td>52.675853</td>\n",
              "      <td>460.185791</td>\n",
              "      <td>1237.441895</td>\n",
              "      <td>913.895508</td>\n",
              "      <td>128.481744</td>\n",
              "      <td>51.103799</td>\n",
              "    </tr>\n",
              "    <tr>\n",
              "      <th>29711</th>\n",
              "      <td>50.070426</td>\n",
              "      <td>52.778009</td>\n",
              "      <td>460.525000</td>\n",
              "      <td>1239.173828</td>\n",
              "      <td>914.839062</td>\n",
              "      <td>128.774774</td>\n",
              "      <td>51.098194</td>\n",
              "    </tr>\n",
              "  </tbody>\n",
              "</table>\n",
              "<p>29712 rows × 7 columns</p>\n",
              "</div>\n",
              "    <div class=\"colab-df-buttons\">\n",
              "\n",
              "  <div class=\"colab-df-container\">\n",
              "    <button class=\"colab-df-convert\" onclick=\"convertToInteractive('df-dc4dc91d-19a2-4701-aec8-e88c92a23cae')\"\n",
              "            title=\"Convert this dataframe to an interactive table.\"\n",
              "            style=\"display:none;\">\n",
              "\n",
              "  <svg xmlns=\"http://www.w3.org/2000/svg\" height=\"24px\" viewBox=\"0 -960 960 960\">\n",
              "    <path d=\"M120-120v-720h720v720H120Zm60-500h600v-160H180v160Zm220 220h160v-160H400v160Zm0 220h160v-160H400v160ZM180-400h160v-160H180v160Zm440 0h160v-160H620v160ZM180-180h160v-160H180v160Zm440 0h160v-160H620v160Z\"/>\n",
              "  </svg>\n",
              "    </button>\n",
              "\n",
              "  <style>\n",
              "    .colab-df-container {\n",
              "      display:flex;\n",
              "      gap: 12px;\n",
              "    }\n",
              "\n",
              "    .colab-df-convert {\n",
              "      background-color: #E8F0FE;\n",
              "      border: none;\n",
              "      border-radius: 50%;\n",
              "      cursor: pointer;\n",
              "      display: none;\n",
              "      fill: #1967D2;\n",
              "      height: 32px;\n",
              "      padding: 0 0 0 0;\n",
              "      width: 32px;\n",
              "    }\n",
              "\n",
              "    .colab-df-convert:hover {\n",
              "      background-color: #E2EBFA;\n",
              "      box-shadow: 0px 1px 2px rgba(60, 64, 67, 0.3), 0px 1px 3px 1px rgba(60, 64, 67, 0.15);\n",
              "      fill: #174EA6;\n",
              "    }\n",
              "\n",
              "    .colab-df-buttons div {\n",
              "      margin-bottom: 4px;\n",
              "    }\n",
              "\n",
              "    [theme=dark] .colab-df-convert {\n",
              "      background-color: #3B4455;\n",
              "      fill: #D2E3FC;\n",
              "    }\n",
              "\n",
              "    [theme=dark] .colab-df-convert:hover {\n",
              "      background-color: #434B5C;\n",
              "      box-shadow: 0px 1px 3px 1px rgba(0, 0, 0, 0.15);\n",
              "      filter: drop-shadow(0px 1px 2px rgba(0, 0, 0, 0.3));\n",
              "      fill: #FFFFFF;\n",
              "    }\n",
              "  </style>\n",
              "\n",
              "    <script>\n",
              "      const buttonEl =\n",
              "        document.querySelector('#df-dc4dc91d-19a2-4701-aec8-e88c92a23cae button.colab-df-convert');\n",
              "      buttonEl.style.display =\n",
              "        google.colab.kernel.accessAllowed ? 'block' : 'none';\n",
              "\n",
              "      async function convertToInteractive(key) {\n",
              "        const element = document.querySelector('#df-dc4dc91d-19a2-4701-aec8-e88c92a23cae');\n",
              "        const dataTable =\n",
              "          await google.colab.kernel.invokeFunction('convertToInteractive',\n",
              "                                                    [key], {});\n",
              "        if (!dataTable) return;\n",
              "\n",
              "        const docLinkHtml = 'Like what you see? Visit the ' +\n",
              "          '<a target=\"_blank\" href=https://colab.research.google.com/notebooks/data_table.ipynb>data table notebook</a>'\n",
              "          + ' to learn more about interactive tables.';\n",
              "        element.innerHTML = '';\n",
              "        dataTable['output_type'] = 'display_data';\n",
              "        await google.colab.output.renderOutput(dataTable, element);\n",
              "        const docLink = document.createElement('div');\n",
              "        docLink.innerHTML = docLinkHtml;\n",
              "        element.appendChild(docLink);\n",
              "      }\n",
              "    </script>\n",
              "  </div>\n",
              "\n",
              "\n",
              "<div id=\"df-bf181903-5427-4081-9394-4023c026ec85\">\n",
              "  <button class=\"colab-df-quickchart\" onclick=\"quickchart('df-bf181903-5427-4081-9394-4023c026ec85')\"\n",
              "            title=\"Suggest charts.\"\n",
              "            style=\"display:none;\">\n",
              "\n",
              "<svg xmlns=\"http://www.w3.org/2000/svg\" height=\"24px\"viewBox=\"0 0 24 24\"\n",
              "     width=\"24px\">\n",
              "    <g>\n",
              "        <path d=\"M19 3H5c-1.1 0-2 .9-2 2v14c0 1.1.9 2 2 2h14c1.1 0 2-.9 2-2V5c0-1.1-.9-2-2-2zM9 17H7v-7h2v7zm4 0h-2V7h2v10zm4 0h-2v-4h2v4z\"/>\n",
              "    </g>\n",
              "</svg>\n",
              "  </button>\n",
              "\n",
              "<style>\n",
              "  .colab-df-quickchart {\n",
              "      --bg-color: #E8F0FE;\n",
              "      --fill-color: #1967D2;\n",
              "      --hover-bg-color: #E2EBFA;\n",
              "      --hover-fill-color: #174EA6;\n",
              "      --disabled-fill-color: #AAA;\n",
              "      --disabled-bg-color: #DDD;\n",
              "  }\n",
              "\n",
              "  [theme=dark] .colab-df-quickchart {\n",
              "      --bg-color: #3B4455;\n",
              "      --fill-color: #D2E3FC;\n",
              "      --hover-bg-color: #434B5C;\n",
              "      --hover-fill-color: #FFFFFF;\n",
              "      --disabled-bg-color: #3B4455;\n",
              "      --disabled-fill-color: #666;\n",
              "  }\n",
              "\n",
              "  .colab-df-quickchart {\n",
              "    background-color: var(--bg-color);\n",
              "    border: none;\n",
              "    border-radius: 50%;\n",
              "    cursor: pointer;\n",
              "    display: none;\n",
              "    fill: var(--fill-color);\n",
              "    height: 32px;\n",
              "    padding: 0;\n",
              "    width: 32px;\n",
              "  }\n",
              "\n",
              "  .colab-df-quickchart:hover {\n",
              "    background-color: var(--hover-bg-color);\n",
              "    box-shadow: 0 1px 2px rgba(60, 64, 67, 0.3), 0 1px 3px 1px rgba(60, 64, 67, 0.15);\n",
              "    fill: var(--button-hover-fill-color);\n",
              "  }\n",
              "\n",
              "  .colab-df-quickchart-complete:disabled,\n",
              "  .colab-df-quickchart-complete:disabled:hover {\n",
              "    background-color: var(--disabled-bg-color);\n",
              "    fill: var(--disabled-fill-color);\n",
              "    box-shadow: none;\n",
              "  }\n",
              "\n",
              "  .colab-df-spinner {\n",
              "    border: 2px solid var(--fill-color);\n",
              "    border-color: transparent;\n",
              "    border-bottom-color: var(--fill-color);\n",
              "    animation:\n",
              "      spin 1s steps(1) infinite;\n",
              "  }\n",
              "\n",
              "  @keyframes spin {\n",
              "    0% {\n",
              "      border-color: transparent;\n",
              "      border-bottom-color: var(--fill-color);\n",
              "      border-left-color: var(--fill-color);\n",
              "    }\n",
              "    20% {\n",
              "      border-color: transparent;\n",
              "      border-left-color: var(--fill-color);\n",
              "      border-top-color: var(--fill-color);\n",
              "    }\n",
              "    30% {\n",
              "      border-color: transparent;\n",
              "      border-left-color: var(--fill-color);\n",
              "      border-top-color: var(--fill-color);\n",
              "      border-right-color: var(--fill-color);\n",
              "    }\n",
              "    40% {\n",
              "      border-color: transparent;\n",
              "      border-right-color: var(--fill-color);\n",
              "      border-top-color: var(--fill-color);\n",
              "    }\n",
              "    60% {\n",
              "      border-color: transparent;\n",
              "      border-right-color: var(--fill-color);\n",
              "    }\n",
              "    80% {\n",
              "      border-color: transparent;\n",
              "      border-right-color: var(--fill-color);\n",
              "      border-bottom-color: var(--fill-color);\n",
              "    }\n",
              "    90% {\n",
              "      border-color: transparent;\n",
              "      border-bottom-color: var(--fill-color);\n",
              "    }\n",
              "  }\n",
              "</style>\n",
              "\n",
              "  <script>\n",
              "    async function quickchart(key) {\n",
              "      const quickchartButtonEl =\n",
              "        document.querySelector('#' + key + ' button');\n",
              "      quickchartButtonEl.disabled = true;  // To prevent multiple clicks.\n",
              "      quickchartButtonEl.classList.add('colab-df-spinner');\n",
              "      try {\n",
              "        const charts = await google.colab.kernel.invokeFunction(\n",
              "            'suggestCharts', [key], {});\n",
              "      } catch (error) {\n",
              "        console.error('Error during call to suggestCharts:', error);\n",
              "      }\n",
              "      quickchartButtonEl.classList.remove('colab-df-spinner');\n",
              "      quickchartButtonEl.classList.add('colab-df-quickchart-complete');\n",
              "    }\n",
              "    (() => {\n",
              "      let quickchartButtonEl =\n",
              "        document.querySelector('#df-bf181903-5427-4081-9394-4023c026ec85 button');\n",
              "      quickchartButtonEl.style.display =\n",
              "        google.colab.kernel.accessAllowed ? 'block' : 'none';\n",
              "    })();\n",
              "  </script>\n",
              "</div>\n",
              "    </div>\n",
              "  </div>\n"
            ],
            "text/plain": [
              "       KS4_GPA5_Qtg.PV  KS4_GPA5_TC_T1.PV  KS4_GPA5_Nst.PV  KS4_GPA5_Nvd.PV  \\\n",
              "0            50.074285          50.656771       500.475537      1207.542773   \n",
              "1            50.074926          50.656771       500.379883      1209.190723   \n",
              "2            50.074836          50.666920       499.359570      1210.159082   \n",
              "3            50.074957          50.666920       500.535840      1210.641602   \n",
              "4            50.075145          50.666920       500.198145      1211.398438   \n",
              "...                ...                ...              ...              ...   \n",
              "29707        50.070496          52.706500       459.827393      1238.176660   \n",
              "29708        50.070217          52.716716       459.400806      1237.532422   \n",
              "29709        50.070292          52.696284       459.942578      1237.783984   \n",
              "29710        50.070389          52.675853       460.185791      1237.441895   \n",
              "29711        50.070426          52.778009       460.525000      1239.173828   \n",
              "\n",
              "       KS4_GPA5_Nnd.PV  KS4_GPA5_T4.PV  KS4_GPA5_Pk.PV  \n",
              "0           912.161426      119.562970       51.248955  \n",
              "1           914.203027      119.683643       51.255357  \n",
              "2           914.924512      119.665576       51.263570  \n",
              "3           915.881055      119.674750       51.267725  \n",
              "4           916.435645      119.692188       51.264826  \n",
              "...                ...             ...             ...  \n",
              "29707       914.571973      128.579962       51.102349  \n",
              "29708       913.476074      128.521655       51.102543  \n",
              "29709       913.913086      128.503632       51.102639  \n",
              "29710       913.895508      128.481744       51.103799  \n",
              "29711       914.839062      128.774774       51.098194  \n",
              "\n",
              "[29712 rows x 7 columns]"
            ]
          },
          "execution_count": 54,
          "metadata": {},
          "output_type": "execute_result"
        }
      ],
      "source": [
        "df = pd.read_csv(\"data.csv\")\n",
        "df"
      ]
    },
    {
      "cell_type": "markdown",
      "metadata": {
        "id": "tmVOiJ80enSv"
      },
      "source": [
        "# Разведочный анализ, заполнение пропусков и устранение выбросов"
      ]
    },
    {
      "cell_type": "code",
      "execution_count": 55,
      "metadata": {
        "colab": {
          "base_uri": "https://localhost:8080/",
          "height": 300
        },
        "id": "1S1oYAE9gjED",
        "outputId": "75cfdd58-70ee-4ee4-a031-b45d9aebb4c0"
      },
      "outputs": [
        {
          "data": {
            "text/html": [
              "\n",
              "  <div id=\"df-b2556fca-7ef1-4a16-bbd5-87a3cf0a0849\" class=\"colab-df-container\">\n",
              "    <div>\n",
              "<style scoped>\n",
              "    .dataframe tbody tr th:only-of-type {\n",
              "        vertical-align: middle;\n",
              "    }\n",
              "\n",
              "    .dataframe tbody tr th {\n",
              "        vertical-align: top;\n",
              "    }\n",
              "\n",
              "    .dataframe thead th {\n",
              "        text-align: right;\n",
              "    }\n",
              "</style>\n",
              "<table border=\"1\" class=\"dataframe\">\n",
              "  <thead>\n",
              "    <tr style=\"text-align: right;\">\n",
              "      <th></th>\n",
              "      <th>KS4_GPA5_Qtg.PV</th>\n",
              "      <th>KS4_GPA5_TC_T1.PV</th>\n",
              "      <th>KS4_GPA5_Nst.PV</th>\n",
              "      <th>KS4_GPA5_Nvd.PV</th>\n",
              "      <th>KS4_GPA5_Nnd.PV</th>\n",
              "      <th>KS4_GPA5_T4.PV</th>\n",
              "      <th>KS4_GPA5_Pk.PV</th>\n",
              "    </tr>\n",
              "  </thead>\n",
              "  <tbody>\n",
              "    <tr>\n",
              "      <th>count</th>\n",
              "      <td>29712.000000</td>\n",
              "      <td>29712.000000</td>\n",
              "      <td>29712.000000</td>\n",
              "      <td>29712.000000</td>\n",
              "      <td>27711.000000</td>\n",
              "      <td>29712.000000</td>\n",
              "      <td>29712.000000</td>\n",
              "    </tr>\n",
              "    <tr>\n",
              "      <th>mean</th>\n",
              "      <td>50.075761</td>\n",
              "      <td>51.582940</td>\n",
              "      <td>496.375057</td>\n",
              "      <td>1228.936047</td>\n",
              "      <td>925.288586</td>\n",
              "      <td>123.147985</td>\n",
              "      <td>51.579620</td>\n",
              "    </tr>\n",
              "    <tr>\n",
              "      <th>std</th>\n",
              "      <td>0.004490</td>\n",
              "      <td>0.718957</td>\n",
              "      <td>16.656003</td>\n",
              "      <td>9.293723</td>\n",
              "      <td>12.649640</td>\n",
              "      <td>2.293297</td>\n",
              "      <td>58.430508</td>\n",
              "    </tr>\n",
              "    <tr>\n",
              "      <th>min</th>\n",
              "      <td>50.067757</td>\n",
              "      <td>50.118885</td>\n",
              "      <td>458.647290</td>\n",
              "      <td>1207.311621</td>\n",
              "      <td>910.000195</td>\n",
              "      <td>118.375299</td>\n",
              "      <td>51.074956</td>\n",
              "    </tr>\n",
              "    <tr>\n",
              "      <th>25%</th>\n",
              "      <td>50.072440</td>\n",
              "      <td>50.940938</td>\n",
              "      <td>484.903076</td>\n",
              "      <td>1222.372168</td>\n",
              "      <td>915.022510</td>\n",
              "      <td>121.428400</td>\n",
              "      <td>51.183080</td>\n",
              "    </tr>\n",
              "    <tr>\n",
              "      <th>50%</th>\n",
              "      <td>50.074476</td>\n",
              "      <td>51.725804</td>\n",
              "      <td>490.411133</td>\n",
              "      <td>1228.801709</td>\n",
              "      <td>920.266797</td>\n",
              "      <td>123.233508</td>\n",
              "      <td>51.244438</td>\n",
              "    </tr>\n",
              "    <tr>\n",
              "      <th>75%</th>\n",
              "      <td>50.079485</td>\n",
              "      <td>52.134428</td>\n",
              "      <td>509.792322</td>\n",
              "      <td>1236.431030</td>\n",
              "      <td>936.632568</td>\n",
              "      <td>125.019626</td>\n",
              "      <td>51.271976</td>\n",
              "    </tr>\n",
              "    <tr>\n",
              "      <th>max</th>\n",
              "      <td>50.089918</td>\n",
              "      <td>53.053829</td>\n",
              "      <td>526.688867</td>\n",
              "      <td>1264.442773</td>\n",
              "      <td>977.826953</td>\n",
              "      <td>128.815308</td>\n",
              "      <td>10123.000000</td>\n",
              "    </tr>\n",
              "  </tbody>\n",
              "</table>\n",
              "</div>\n",
              "    <div class=\"colab-df-buttons\">\n",
              "\n",
              "  <div class=\"colab-df-container\">\n",
              "    <button class=\"colab-df-convert\" onclick=\"convertToInteractive('df-b2556fca-7ef1-4a16-bbd5-87a3cf0a0849')\"\n",
              "            title=\"Convert this dataframe to an interactive table.\"\n",
              "            style=\"display:none;\">\n",
              "\n",
              "  <svg xmlns=\"http://www.w3.org/2000/svg\" height=\"24px\" viewBox=\"0 -960 960 960\">\n",
              "    <path d=\"M120-120v-720h720v720H120Zm60-500h600v-160H180v160Zm220 220h160v-160H400v160Zm0 220h160v-160H400v160ZM180-400h160v-160H180v160Zm440 0h160v-160H620v160ZM180-180h160v-160H180v160Zm440 0h160v-160H620v160Z\"/>\n",
              "  </svg>\n",
              "    </button>\n",
              "\n",
              "  <style>\n",
              "    .colab-df-container {\n",
              "      display:flex;\n",
              "      gap: 12px;\n",
              "    }\n",
              "\n",
              "    .colab-df-convert {\n",
              "      background-color: #E8F0FE;\n",
              "      border: none;\n",
              "      border-radius: 50%;\n",
              "      cursor: pointer;\n",
              "      display: none;\n",
              "      fill: #1967D2;\n",
              "      height: 32px;\n",
              "      padding: 0 0 0 0;\n",
              "      width: 32px;\n",
              "    }\n",
              "\n",
              "    .colab-df-convert:hover {\n",
              "      background-color: #E2EBFA;\n",
              "      box-shadow: 0px 1px 2px rgba(60, 64, 67, 0.3), 0px 1px 3px 1px rgba(60, 64, 67, 0.15);\n",
              "      fill: #174EA6;\n",
              "    }\n",
              "\n",
              "    .colab-df-buttons div {\n",
              "      margin-bottom: 4px;\n",
              "    }\n",
              "\n",
              "    [theme=dark] .colab-df-convert {\n",
              "      background-color: #3B4455;\n",
              "      fill: #D2E3FC;\n",
              "    }\n",
              "\n",
              "    [theme=dark] .colab-df-convert:hover {\n",
              "      background-color: #434B5C;\n",
              "      box-shadow: 0px 1px 3px 1px rgba(0, 0, 0, 0.15);\n",
              "      filter: drop-shadow(0px 1px 2px rgba(0, 0, 0, 0.3));\n",
              "      fill: #FFFFFF;\n",
              "    }\n",
              "  </style>\n",
              "\n",
              "    <script>\n",
              "      const buttonEl =\n",
              "        document.querySelector('#df-b2556fca-7ef1-4a16-bbd5-87a3cf0a0849 button.colab-df-convert');\n",
              "      buttonEl.style.display =\n",
              "        google.colab.kernel.accessAllowed ? 'block' : 'none';\n",
              "\n",
              "      async function convertToInteractive(key) {\n",
              "        const element = document.querySelector('#df-b2556fca-7ef1-4a16-bbd5-87a3cf0a0849');\n",
              "        const dataTable =\n",
              "          await google.colab.kernel.invokeFunction('convertToInteractive',\n",
              "                                                    [key], {});\n",
              "        if (!dataTable) return;\n",
              "\n",
              "        const docLinkHtml = 'Like what you see? Visit the ' +\n",
              "          '<a target=\"_blank\" href=https://colab.research.google.com/notebooks/data_table.ipynb>data table notebook</a>'\n",
              "          + ' to learn more about interactive tables.';\n",
              "        element.innerHTML = '';\n",
              "        dataTable['output_type'] = 'display_data';\n",
              "        await google.colab.output.renderOutput(dataTable, element);\n",
              "        const docLink = document.createElement('div');\n",
              "        docLink.innerHTML = docLinkHtml;\n",
              "        element.appendChild(docLink);\n",
              "      }\n",
              "    </script>\n",
              "  </div>\n",
              "\n",
              "\n",
              "<div id=\"df-bb18d5f2-4b9c-4113-9dcd-806efe2dfc4d\">\n",
              "  <button class=\"colab-df-quickchart\" onclick=\"quickchart('df-bb18d5f2-4b9c-4113-9dcd-806efe2dfc4d')\"\n",
              "            title=\"Suggest charts.\"\n",
              "            style=\"display:none;\">\n",
              "\n",
              "<svg xmlns=\"http://www.w3.org/2000/svg\" height=\"24px\"viewBox=\"0 0 24 24\"\n",
              "     width=\"24px\">\n",
              "    <g>\n",
              "        <path d=\"M19 3H5c-1.1 0-2 .9-2 2v14c0 1.1.9 2 2 2h14c1.1 0 2-.9 2-2V5c0-1.1-.9-2-2-2zM9 17H7v-7h2v7zm4 0h-2V7h2v10zm4 0h-2v-4h2v4z\"/>\n",
              "    </g>\n",
              "</svg>\n",
              "  </button>\n",
              "\n",
              "<style>\n",
              "  .colab-df-quickchart {\n",
              "      --bg-color: #E8F0FE;\n",
              "      --fill-color: #1967D2;\n",
              "      --hover-bg-color: #E2EBFA;\n",
              "      --hover-fill-color: #174EA6;\n",
              "      --disabled-fill-color: #AAA;\n",
              "      --disabled-bg-color: #DDD;\n",
              "  }\n",
              "\n",
              "  [theme=dark] .colab-df-quickchart {\n",
              "      --bg-color: #3B4455;\n",
              "      --fill-color: #D2E3FC;\n",
              "      --hover-bg-color: #434B5C;\n",
              "      --hover-fill-color: #FFFFFF;\n",
              "      --disabled-bg-color: #3B4455;\n",
              "      --disabled-fill-color: #666;\n",
              "  }\n",
              "\n",
              "  .colab-df-quickchart {\n",
              "    background-color: var(--bg-color);\n",
              "    border: none;\n",
              "    border-radius: 50%;\n",
              "    cursor: pointer;\n",
              "    display: none;\n",
              "    fill: var(--fill-color);\n",
              "    height: 32px;\n",
              "    padding: 0;\n",
              "    width: 32px;\n",
              "  }\n",
              "\n",
              "  .colab-df-quickchart:hover {\n",
              "    background-color: var(--hover-bg-color);\n",
              "    box-shadow: 0 1px 2px rgba(60, 64, 67, 0.3), 0 1px 3px 1px rgba(60, 64, 67, 0.15);\n",
              "    fill: var(--button-hover-fill-color);\n",
              "  }\n",
              "\n",
              "  .colab-df-quickchart-complete:disabled,\n",
              "  .colab-df-quickchart-complete:disabled:hover {\n",
              "    background-color: var(--disabled-bg-color);\n",
              "    fill: var(--disabled-fill-color);\n",
              "    box-shadow: none;\n",
              "  }\n",
              "\n",
              "  .colab-df-spinner {\n",
              "    border: 2px solid var(--fill-color);\n",
              "    border-color: transparent;\n",
              "    border-bottom-color: var(--fill-color);\n",
              "    animation:\n",
              "      spin 1s steps(1) infinite;\n",
              "  }\n",
              "\n",
              "  @keyframes spin {\n",
              "    0% {\n",
              "      border-color: transparent;\n",
              "      border-bottom-color: var(--fill-color);\n",
              "      border-left-color: var(--fill-color);\n",
              "    }\n",
              "    20% {\n",
              "      border-color: transparent;\n",
              "      border-left-color: var(--fill-color);\n",
              "      border-top-color: var(--fill-color);\n",
              "    }\n",
              "    30% {\n",
              "      border-color: transparent;\n",
              "      border-left-color: var(--fill-color);\n",
              "      border-top-color: var(--fill-color);\n",
              "      border-right-color: var(--fill-color);\n",
              "    }\n",
              "    40% {\n",
              "      border-color: transparent;\n",
              "      border-right-color: var(--fill-color);\n",
              "      border-top-color: var(--fill-color);\n",
              "    }\n",
              "    60% {\n",
              "      border-color: transparent;\n",
              "      border-right-color: var(--fill-color);\n",
              "    }\n",
              "    80% {\n",
              "      border-color: transparent;\n",
              "      border-right-color: var(--fill-color);\n",
              "      border-bottom-color: var(--fill-color);\n",
              "    }\n",
              "    90% {\n",
              "      border-color: transparent;\n",
              "      border-bottom-color: var(--fill-color);\n",
              "    }\n",
              "  }\n",
              "</style>\n",
              "\n",
              "  <script>\n",
              "    async function quickchart(key) {\n",
              "      const quickchartButtonEl =\n",
              "        document.querySelector('#' + key + ' button');\n",
              "      quickchartButtonEl.disabled = true;  // To prevent multiple clicks.\n",
              "      quickchartButtonEl.classList.add('colab-df-spinner');\n",
              "      try {\n",
              "        const charts = await google.colab.kernel.invokeFunction(\n",
              "            'suggestCharts', [key], {});\n",
              "      } catch (error) {\n",
              "        console.error('Error during call to suggestCharts:', error);\n",
              "      }\n",
              "      quickchartButtonEl.classList.remove('colab-df-spinner');\n",
              "      quickchartButtonEl.classList.add('colab-df-quickchart-complete');\n",
              "    }\n",
              "    (() => {\n",
              "      let quickchartButtonEl =\n",
              "        document.querySelector('#df-bb18d5f2-4b9c-4113-9dcd-806efe2dfc4d button');\n",
              "      quickchartButtonEl.style.display =\n",
              "        google.colab.kernel.accessAllowed ? 'block' : 'none';\n",
              "    })();\n",
              "  </script>\n",
              "</div>\n",
              "    </div>\n",
              "  </div>\n"
            ],
            "text/plain": [
              "       KS4_GPA5_Qtg.PV  KS4_GPA5_TC_T1.PV  KS4_GPA5_Nst.PV  KS4_GPA5_Nvd.PV  \\\n",
              "count     29712.000000       29712.000000     29712.000000     29712.000000   \n",
              "mean         50.075761          51.582940       496.375057      1228.936047   \n",
              "std           0.004490           0.718957        16.656003         9.293723   \n",
              "min          50.067757          50.118885       458.647290      1207.311621   \n",
              "25%          50.072440          50.940938       484.903076      1222.372168   \n",
              "50%          50.074476          51.725804       490.411133      1228.801709   \n",
              "75%          50.079485          52.134428       509.792322      1236.431030   \n",
              "max          50.089918          53.053829       526.688867      1264.442773   \n",
              "\n",
              "       KS4_GPA5_Nnd.PV  KS4_GPA5_T4.PV  KS4_GPA5_Pk.PV  \n",
              "count     27711.000000    29712.000000    29712.000000  \n",
              "mean        925.288586      123.147985       51.579620  \n",
              "std          12.649640        2.293297       58.430508  \n",
              "min         910.000195      118.375299       51.074956  \n",
              "25%         915.022510      121.428400       51.183080  \n",
              "50%         920.266797      123.233508       51.244438  \n",
              "75%         936.632568      125.019626       51.271976  \n",
              "max         977.826953      128.815308    10123.000000  "
            ]
          },
          "execution_count": 55,
          "metadata": {},
          "output_type": "execute_result"
        }
      ],
      "source": [
        "df.describe()"
      ]
    },
    {
      "cell_type": "code",
      "execution_count": 56,
      "metadata": {
        "colab": {
          "base_uri": "https://localhost:8080/"
        },
        "id": "8AIjnZRcg0gH",
        "outputId": "10130943-4490-4dc6-dfd1-78bf7343cd41"
      },
      "outputs": [
        {
          "data": {
            "text/plain": [
              "20100    10123.000000\n",
              "7611        51.402325\n",
              "7613        51.401648\n",
              "7623        51.401648\n",
              "7633        51.401358\n",
              "             ...     \n",
              "29664       51.096454\n",
              "29671       51.096261\n",
              "29672       51.095778\n",
              "29674       51.095585\n",
              "28419       51.074956\n",
              "Name: KS4_GPA5_Pk.PV, Length: 29712, dtype: float64"
            ]
          },
          "execution_count": 56,
          "metadata": {},
          "output_type": "execute_result"
        }
      ],
      "source": [
        "df['KS4_GPA5_Pk.PV'].sort_values(ascending=False)"
      ]
    },
    {
      "cell_type": "code",
      "execution_count": 57,
      "metadata": {
        "id": "AJeAyXNtjSO_"
      },
      "outputs": [],
      "source": [
        "df.at[20100, 'KS4_GPA5_Pk.PV'] = df['KS4_GPA5_Pk.PV'].median()"
      ]
    },
    {
      "cell_type": "code",
      "execution_count": 58,
      "metadata": {
        "colab": {
          "base_uri": "https://localhost:8080/"
        },
        "id": "g4OOQlEQddrA",
        "outputId": "600d3319-65a7-4afa-9361-e81362b71cd3"
      },
      "outputs": [
        {
          "name": "stdout",
          "output_type": "stream",
          "text": [
            "KS4_GPA5_Qtg.PV      False\n",
            "KS4_GPA5_TC_T1.PV    False\n",
            "KS4_GPA5_Nst.PV      False\n",
            "KS4_GPA5_Nvd.PV      False\n",
            "KS4_GPA5_Nnd.PV       True\n",
            "KS4_GPA5_T4.PV       False\n",
            "KS4_GPA5_Pk.PV       False\n",
            "dtype: bool\n",
            "KS4_GPA5_Qtg.PV      False\n",
            "KS4_GPA5_TC_T1.PV    False\n",
            "KS4_GPA5_Nst.PV      False\n",
            "KS4_GPA5_Nvd.PV      False\n",
            "KS4_GPA5_Nnd.PV       True\n",
            "KS4_GPA5_T4.PV       False\n",
            "KS4_GPA5_Pk.PV       False\n",
            "dtype: bool\n"
          ]
        }
      ],
      "source": [
        "print(df.isnull().any())\n",
        "print(df.isna().any())"
      ]
    },
    {
      "cell_type": "code",
      "execution_count": 59,
      "metadata": {
        "colab": {
          "base_uri": "https://localhost:8080/"
        },
        "id": "zmY5Rf4ZdeC4",
        "outputId": "3e7756e2-f9bb-4ae5-f962-8d322936d8ab"
      },
      "outputs": [
        {
          "name": "stdout",
          "output_type": "stream",
          "text": [
            "KS4_GPA5_Qtg.PV         0\n",
            "KS4_GPA5_TC_T1.PV       0\n",
            "KS4_GPA5_Nst.PV         0\n",
            "KS4_GPA5_Nvd.PV         0\n",
            "KS4_GPA5_Nnd.PV      2001\n",
            "KS4_GPA5_T4.PV          0\n",
            "KS4_GPA5_Pk.PV          0\n",
            "dtype: int64\n",
            "KS4_GPA5_Qtg.PV         0\n",
            "KS4_GPA5_TC_T1.PV       0\n",
            "KS4_GPA5_Nst.PV         0\n",
            "KS4_GPA5_Nvd.PV         0\n",
            "KS4_GPA5_Nnd.PV      2001\n",
            "KS4_GPA5_T4.PV          0\n",
            "KS4_GPA5_Pk.PV          0\n",
            "dtype: int64\n"
          ]
        }
      ],
      "source": [
        "print(df.isnull().sum())\n",
        "print(df.isna().sum())"
      ]
    },
    {
      "cell_type": "code",
      "execution_count": 60,
      "metadata": {
        "id": "60ktcHkyeNLA"
      },
      "outputs": [],
      "source": [
        "df.fillna(df.mean(), inplace=True)"
      ]
    },
    {
      "cell_type": "code",
      "execution_count": 61,
      "metadata": {
        "colab": {
          "base_uri": "https://localhost:8080/"
        },
        "id": "HZHrdS4tePBW",
        "outputId": "6a137416-cf51-4f57-9fff-72c2c14d1eb1"
      },
      "outputs": [
        {
          "name": "stdout",
          "output_type": "stream",
          "text": [
            "KS4_GPA5_Qtg.PV      0\n",
            "KS4_GPA5_TC_T1.PV    0\n",
            "KS4_GPA5_Nst.PV      0\n",
            "KS4_GPA5_Nvd.PV      0\n",
            "KS4_GPA5_Nnd.PV      0\n",
            "KS4_GPA5_T4.PV       0\n",
            "KS4_GPA5_Pk.PV       0\n",
            "dtype: int64\n"
          ]
        }
      ],
      "source": [
        "print(df.isnull().sum())"
      ]
    },
    {
      "cell_type": "markdown",
      "metadata": {
        "id": "YDeO4059exeN"
      },
      "source": [
        "# Linear Regression"
      ]
    },
    {
      "cell_type": "code",
      "execution_count": 62,
      "metadata": {
        "colab": {
          "base_uri": "https://localhost:8080/"
        },
        "id": "-7EE4rp7ekS2",
        "outputId": "29548fd5-9048-45ae-c8ac-2e2f11fdacda"
      },
      "outputs": [
        {
          "name": "stdout",
          "output_type": "stream",
          "text": [
            "Оценка точности модели: (0.8782805879005511, 0.8785388630322588)\n"
          ]
        }
      ],
      "source": [
        "inputs = df[['KS4_GPA5_Qtg.PV', 'KS4_GPA5_TC_T1.PV', 'KS4_GPA5_Nst.PV']] # предикторы\n",
        "outputs = df[['KS4_GPA5_Nvd.PV', 'KS4_GPA5_Nnd.PV', 'KS4_GPA5_T4.PV', 'KS4_GPA5_Pk.PV']] # отклики, целевые признаки\n",
        "X_train, X_test, y_train, y_test = train_test_split(inputs, outputs, test_size = 0.2, random_state = 0)\n",
        "model = LinearRegression()\n",
        "model.fit(X_train, y_train)\n",
        "print(f'Оценка точности модели: {model.score(X_train, y_train), model.score(X_test, y_test)}')"
      ]
    },
    {
      "cell_type": "markdown",
      "metadata": {
        "id": "EpkwNNrWhP-5"
      },
      "source": [
        "# Lasso regression"
      ]
    },
    {
      "cell_type": "code",
      "execution_count": 63,
      "metadata": {
        "id": "t7XX6WH1rGuL"
      },
      "outputs": [],
      "source": [
        "alphas=[0.0001, 0.001, 0.01, 0.1, 1, 10]"
      ]
    },
    {
      "cell_type": "code",
      "execution_count": 64,
      "metadata": {
        "colab": {
          "base_uri": "https://localhost:8080/"
        },
        "id": "BiIlW82hrHuU",
        "outputId": "e2be2805-fb04-474f-bb1c-433346c9f17c"
      },
      "outputs": [
        {
          "name": "stdout",
          "output_type": "stream",
          "text": [
            "Оценка точности модели: (0.8782674161733935, 0.8784252212206272)\n",
            "Наилучшее значение параметра: 0.0001\n"
          ]
        }
      ],
      "source": [
        "model = MultiTaskLassoCV(cv=5, random_state=42, alphas=alphas)\n",
        "model.fit(X_train, y_train)\n",
        "print(f'Оценка точности модели: {model.score(X_train, y_train), model.score(X_test, y_test)}')\n",
        "print(\"Наилучшее значение параметра:\", model.alpha_)"
      ]
    },
    {
      "cell_type": "markdown",
      "metadata": {
        "id": "v5ilgwF4r9Md"
      },
      "source": [
        "# Ridge Regression"
      ]
    },
    {
      "cell_type": "code",
      "execution_count": 65,
      "metadata": {
        "colab": {
          "base_uri": "https://localhost:8080/"
        },
        "id": "Z4KhDNAusAtz",
        "outputId": "763d72ba-a3dd-4724-f65a-533bac59dcf6"
      },
      "outputs": [
        {
          "name": "stdout",
          "output_type": "stream",
          "text": [
            "Оценка точности модели: (0.8782804382225461, 0.8785280035423259)\n",
            "Наилучшее значение параметра: 0.0001\n"
          ]
        }
      ],
      "source": [
        "model = RidgeCV(cv=5, alphas=alphas)\n",
        "model.fit(X_train, y_train)\n",
        "print(f'Оценка точности модели: {model.score(X_train, y_train), model.score(X_test, y_test)}')\n",
        "print(\"Наилучшее значение параметра:\", model.alpha_)"
      ]
    },
    {
      "cell_type": "markdown",
      "metadata": {
        "id": "JCbHo1HesVvx"
      },
      "source": [
        "# ElasticNet"
      ]
    },
    {
      "cell_type": "code",
      "execution_count": 67,
      "metadata": {
        "colab": {
          "base_uri": "https://localhost:8080/"
        },
        "id": "-skDwZrdsWY5",
        "outputId": "288aba8f-a57c-46d6-d3ee-df38dc74f8c3"
      },
      "outputs": [
        {
          "name": "stdout",
          "output_type": "stream",
          "text": [
            "Оценка точности модели: (0.8740428971812804, 0.873719150150546)\n",
            "Наилучшее значение параметров: ElasticNet(alpha=0.0001, l1_ratio=1)\n"
          ]
        }
      ],
      "source": [
        "elastic_regressor = ElasticNet()\n",
        "model = GridSearchCV(elastic_regressor, {\n",
        "    'alpha': [0.0001, 0.001, 0.01, 0.1, 1, 10],\n",
        "    'l1_ratio': [0.01, 0.1, 0.5, 1],\n",
        "}, cv=5)\n",
        "\n",
        "model.fit(X_train, y_train)\n",
        "print(f'Оценка точности модели: {model.best_estimator_.score(X_train, y_train), model.best_estimator_.score(X_test, y_test)}')\n",
        "print(\"Наилучшее значение параметров:\", model.best_estimator_)"
      ]
    },
    {
      "cell_type": "markdown",
      "metadata": {
        "id": "8kepDHeMuE9I"
      },
      "source": [
        "# DecisionTreeRegressor"
      ]
    },
    {
      "cell_type": "code",
      "execution_count": 68,
      "metadata": {
        "colab": {
          "base_uri": "https://localhost:8080/"
        },
        "id": "3VOucgP5uEau",
        "outputId": "bfd0220e-b761-4023-a4c4-0c5cd8db1fdb"
      },
      "outputs": [
        {
          "name": "stdout",
          "output_type": "stream",
          "text": [
            "Оценка точности модели: (0.9999998625876905, 0.98505863576914)\n",
            "Наилучшее значение параметров:  {'max_features': 3}\n"
          ]
        }
      ],
      "source": [
        "dec_tree_regressor = DecisionTreeRegressor()\n",
        "model = GridSearchCV(dec_tree_regressor,param_grid={\n",
        "    'max_features': [1, 2, 3]\n",
        "})\n",
        "model.fit(X_train, y_train)\n",
        "print(f'Оценка точности модели: {model.score(X_train, y_train), model.score(X_test, y_test)}')\n",
        "print(\"Наилучшее значение параметров: \", model.best_params_)"
      ]
    },
    {
      "cell_type": "markdown",
      "metadata": {
        "id": "lX0QAxnxuid5"
      },
      "source": [
        "# SVR"
      ]
    },
    {
      "cell_type": "code",
      "execution_count": 69,
      "metadata": {
        "colab": {
          "base_uri": "https://localhost:8080/"
        },
        "id": "K7_9Q9IFukaR",
        "outputId": "b9d6be45-fb93-4875-c5a2-07b680a77ec7"
      },
      "outputs": [
        {
          "name": "stdout",
          "output_type": "stream",
          "text": [
            "Оценка точности модели: (0.5286461118652093, 0.5238066990027468)\n",
            "Наилучшее значение параметров:  {'estimator__C': 0.01, 'estimator__gamma': 0.01}\n"
          ]
        }
      ],
      "source": [
        "model = GridSearchCV(MultiOutputRegressor(SVR()), param_grid={\n",
        "    'estimator__gamma': [0.001, 0.01],\n",
        "    'estimator__C': [0.001, 0.01],\n",
        "}, n_jobs=-1)\n",
        "model.fit(X_train, y_train)\n",
        "print(f'Оценка точности модели: {model.score(X_train, y_train), model.score(X_test, y_test)}')\n",
        "print(\"Наилучшее значение параметров: \", model.best_params_)\n"
      ]
    },
    {
      "cell_type": "markdown",
      "metadata": {
        "id": "13-0_NEbvL7_"
      },
      "source": [
        "# RandomForestRegressor"
      ]
    },
    {
      "cell_type": "code",
      "execution_count": 70,
      "metadata": {
        "colab": {
          "base_uri": "https://localhost:8080/"
        },
        "id": "N3d_WFmqvMir",
        "outputId": "7bd9e1a4-eb97-4b48-f393-9adc2d8d2be3"
      },
      "outputs": [
        {
          "name": "stdout",
          "output_type": "stream",
          "text": [
            "Оценка точности модели: (0.9988816651434768, 0.9912427981202456)\n",
            "Наилучшее значение параметров:  RandomForestRegressor(max_features=2)\n"
          ]
        }
      ],
      "source": [
        "model = GridSearchCV(RandomForestRegressor(), param_grid={\n",
        "    'max_features': [1, 2, 3]\n",
        "})\n",
        "model.fit(X_train, y_train)\n",
        "print(f'Оценка точности модели: {model.best_estimator_.score(X_train, y_train), model.best_estimator_.score(X_test, y_test)}')\n",
        "print(\"Наилучшее значение параметров: \", model.best_estimator_)"
      ]
    },
    {
      "cell_type": "markdown",
      "metadata": {
        "id": "HoZyAGdW3XDQ"
      },
      "source": [
        "Лучшие модели: RandomForest (0.9988816651434768, 0.9912427981202456), DecisionTree (0.9999998625876905, 0.98505863576914)"
      ]
    },
    {
      "cell_type": "code",
      "execution_count": 70,
      "metadata": {
        "id": "RuN6oFPW3pD1"
      },
      "outputs": [],
      "source": []
    }
  ],
  "metadata": {
    "colab": {
      "provenance": []
    },
    "kernelspec": {
      "display_name": "Python 3",
      "name": "python3"
    },
    "language_info": {
      "name": "python"
    }
  },
  "nbformat": 4,
  "nbformat_minor": 0
}
