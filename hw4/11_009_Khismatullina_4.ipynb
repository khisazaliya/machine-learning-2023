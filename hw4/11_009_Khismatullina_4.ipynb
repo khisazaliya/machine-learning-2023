{
  "nbformat": 4,
  "nbformat_minor": 0,
  "metadata": {
    "colab": {
      "provenance": []
    },
    "kernelspec": {
      "name": "python3",
      "display_name": "Python 3"
    },
    "language_info": {
      "name": "python"
    }
  },
  "cells": [
    {
      "cell_type": "markdown",
      "source": [
        "## ДЗ №1"
      ],
      "metadata": {
        "id": "UtYZRMpYgE6s"
      }
    },
    {
      "cell_type": "code",
      "source": [
        "import numpy as np\n",
        "import pandas as pd\n",
        "import seaborn as sns\n",
        "import matplotlib.pyplot as plt\n",
        "\n",
        "from sklearn.model_selection import train_test_split # разбиение данных на тренировочные и тестовы\n",
        "\n",
        "from sklearn.compose import ColumnTransformer # преобразование столбцов\n",
        "from sklearn.preprocessing import OneHotEncoder # кодирование категориальных переменных\n",
        "\n",
        "from sklearn.preprocessing import StandardScaler, MinMaxScaler # нормализация и масштабирование данных\n",
        "\n",
        "from sklearn.linear_model import LinearRegression # Простая линейная регрессия\n",
        "from sklearn.preprocessing import PolynomialFeatures # для полиномиальной регрессии\n",
        "from sklearn.svm import SVR # метод опорных векторов\n",
        "from sklearn.tree import DecisionTreeRegressor # Дерево решений\n",
        "from sklearn.ensemble import RandomForestRegressor # Лес деревье решений\n",
        "\n",
        "from sklearn.metrics import mean_absolute_error, mean_squared_error, r2_score, median_absolute_error\n",
        "\n",
        "import gc\n",
        "\n",
        "from sklearn.preprocessing import LabelEncoder"
      ],
      "metadata": {
        "id": "_VhedbmUgIo1"
      },
      "execution_count": null,
      "outputs": []
    },
    {
      "cell_type": "code",
      "source": [
        "def calculate(data, alpha):\n",
        "\n",
        "  df = pd.DataFrame(data=data, columns=['t', 'a'])\n",
        "  t = df['t'].values.reshape((-1, 1))\n",
        "  a = df['a'].values.reshape((-1, 1))\n",
        "  X_train, X_test, y_train, y_test = train_test_split(a, t, test_size=1/3, shuffle=True, random_state=1)\n",
        "  regressor = LinearRegression()\n",
        "  regressor.fit(X_train, y_train)\n",
        "  alpha_pred = regressor.predict([[alpha]])\n",
        "  alpha_pred_round = round(alpha_pred[0][0], 2)\n",
        "  y_pred = regressor.predict(X_test)\n",
        "\n",
        "  print(f'Коэффициенты модели: {regressor.coef_, regressor.intercept_}')\n",
        "  print(f'Значение при альфа: {alpha_pred_round}')\n",
        "  print(f'Оценка точности модели: {regressor.score(X_train, y_train), regressor.score(X_test, y_test)}')\n",
        "  print(f'Средняя абсолютная ошибка: {mean_absolute_error(y_test, y_pred)}')\n",
        "  print(f'средняя квадратичная ошибка: {mean_squared_error(y_test, y_pred)}')\n",
        "  print(f'Коэффициент детерминации: {r2_score(y_test, y_pred)}')\n",
        "  print(f'Медианная абсолютная ошибка: {median_absolute_error(y_test, y_pred)}')\n",
        "\n",
        "\n",
        "  plt.scatter(a, t, color = 'red')\n",
        "  plt.plot(a, regressor.predict(a), color = 'blue')\n",
        "  plt.show()"
      ],
      "metadata": {
        "id": "zTTRlRRb4Gs0"
      },
      "execution_count": null,
      "outputs": []
    },
    {
      "cell_type": "markdown",
      "source": [
        "1. Построить функцию линейной регрессии. Найти значение при $\\alpha=20000$ с точностью двух знаков после запятой.\n",
        "$$\n",
        "\\begin{array}{c|c|c|c|c|c|c|c}\n",
        "t & 0 & 100 & 150 & 200 & 250 & 300 & 360\n",
        "\\\\\n",
        "\\hline\n",
        "\\alpha & 18179 & 18216 & 18261 & 18323 & 18403 & 18500 & 18641\n",
        "\\end{array}\n",
        "$$"
      ],
      "metadata": {
        "id": "umOE7-PDa6_6"
      }
    },
    {
      "cell_type": "code",
      "source": [
        "data = np.array([\n",
        "    [0, 18179],\n",
        "    [100, 18216],\n",
        "    [150, 18261],\n",
        "    [200, 18323],\n",
        "    [250, 18403],\n",
        "    [300, 18500],\n",
        "    [360, 18641],\n",
        "])\n",
        "\n",
        "alpha = 20000\n",
        "\n",
        "calculate(data, alpha)"
      ],
      "metadata": {
        "colab": {
          "base_uri": "https://localhost:8080/",
          "height": 551
        },
        "id": "UnFVk-n3bCMm",
        "outputId": "0256ab58-a2fc-4894-c9f5-9d4ffe73419a"
      },
      "execution_count": null,
      "outputs": [
        {
          "output_type": "stream",
          "name": "stdout",
          "text": [
            "Коэффициенты модели: (array([[0.93920603]]), array([-17048.1046266]))\n",
            "Значение при альфа: 1736.02\n",
            "Оценка точности модели: (0.939884972403827, 0.6394909281728258)\n",
            "Средняя абсолютная ошибка: 62.14196869162333\n",
            "средняя квадратичная ошибка: 4574.459555851477\n",
            "Коэффициент детерминации: 0.6394909281728258\n",
            "Медианная абсолютная ошибка: 47.2633440528989\n"
          ]
        },
        {
          "output_type": "display_data",
          "data": {
            "text/plain": [
              "<Figure size 640x480 with 1 Axes>"
            ],
            "image/png": "[encoded data removed]"
          },
          "metadata": {}
        }
      ]
    },
    {
      "cell_type": "markdown",
      "source": [
        "2. Построить функцию линейной регрессии. Найти значение при $S=100$ с точностью двух знаков после запятой.\n",
        "$$\n",
        "\\begin{array}{c|c|c|c|c|c|c|c|c}\n",
        "\\theta & 273 & 283 & 288 & 294 & 313 & 333 & 353 & 373\n",
        "\\\\\n",
        "\\hline\n",
        "S & 29,4 & 33,3 & 35,2 & 37,2 & 45,8 & 55,2 & 65,6 & 77,3\n",
        "\\end{array}\n",
        "$$"
      ],
      "metadata": {
        "id": "o5JAYnAChq7e"
      }
    },
    {
      "cell_type": "code",
      "source": [
        "data = np.array([\n",
        "    [273, 29.4],\n",
        "    [283, 33.3],\n",
        "    [288, 35.2],\n",
        "    [294, 37.2],\n",
        "    [313, 45.8],\n",
        "    [333, 55.2],\n",
        "    [353, 65.6],\n",
        "    [373, 77.3],\n",
        "])\n",
        "\n",
        "alpha = 100\n",
        "\n",
        "calculate(data, alpha)"
      ],
      "metadata": {
        "colab": {
          "base_uri": "https://localhost:8080/",
          "height": 551
        },
        "id": "cnu8f521s0dl",
        "outputId": "3339449d-7451-4343-b252-737cc123946e"
      },
      "execution_count": null,
      "outputs": [
        {
          "output_type": "stream",
          "name": "stdout",
          "text": [
            "Коэффициенты модели: (array([[2.19392236]]), array([210.87546109]))\n",
            "Значение при альфа: 430.27\n",
            "Оценка точности модели: (0.9962383864950465, 0.9889347860764158)\n",
            "Средняя абсолютная ошибка: 2.833421160489498\n",
            "средняя квадратичная ошибка: 18.8723370807797\n",
            "Коэффициент детерминации: 0.9889347860764158\n",
            "Медианная абсолютная ошибка: 0.9330757070085838\n"
          ]
        },
        {
          "output_type": "display_data",
          "data": {
            "text/plain": [
              "<Figure size 640x480 with 1 Axes>"
            ],
            "image/png": "[encoded data removed]"
          },
          "metadata": {}
        }
      ]
    },
    {
      "cell_type": "markdown",
      "source": [
        "3. Построить функцию линейной регрессии. Найти значение при $P=20$ с точностью двух знаков после запятой.\n",
        "$$\n",
        "\\begin{array}{c|c|c|c|c|c|c|c}\n",
        "\\nu & 3,33 & 1,63 & 0,87 & 0,43 & 0,27 & 0,17 & 0,12\n",
        "\\\\\n",
        "\\hline\n",
        "P & 0,48 & 1,04 & 2,03 & 4,25 & 7,16 & 11,49 & 17,59\n",
        "\\end{array}\n",
        "$$"
      ],
      "metadata": {
        "id": "uhdbFxbetH6p"
      }
    },
    {
      "cell_type": "code",
      "source": [
        "data = np.array([\n",
        "    [3.33, 0.48],\n",
        "    [1.63, 1.04],\n",
        "    [0.87, 2.03],\n",
        "    [0.43, 4.25],\n",
        "    [0.27, 7.16],\n",
        "    [0.17, 11.49],\n",
        "    [0.12, 17.59],\n",
        "])\n",
        "\n",
        "alpha = 20\n",
        "\n",
        "calculate(data, alpha)"
      ],
      "metadata": {
        "colab": {
          "base_uri": "https://localhost:8080/",
          "height": 551
        },
        "id": "4Phe1Q8ztKGS",
        "outputId": "6e2e356c-6a43-4b29-d8e5-e4ba73b80c41"
      },
      "execution_count": null,
      "outputs": [
        {
          "output_type": "stream",
          "name": "stdout",
          "text": [
            "Коэффициенты модели: (array([[-0.26549501]]), array([2.60181835]))\n",
            "Значение при альфа: -2.71\n",
            "Оценка точности модели: (0.6569759024333078, -4.8727410427932085)\n",
            "Средняя абсолютная ошибка: 1.3589353151834878\n",
            "средняя квадратичная ошибка: 2.231772101617925\n",
            "Коэффициент детерминации: -4.8727410427932085\n",
            "Медианная абсолютная ошибка: 1.1928634756825445\n"
          ]
        },
        {
          "output_type": "display_data",
          "data": {
            "text/plain": [
              "<Figure size 640x480 with 1 Axes>"
            ],
            "image/png": "[encoded data removed]"
          },
          "metadata": {}
        }
      ]
    },
    {
      "cell_type": "markdown",
      "source": [
        "4. Построить функцию линейной регрессии. Найти значение при $S=1$ с точностью двух знаков после запятой.\n",
        "$$\n",
        "\\begin{array}{c|c|c|c|c|c|c|c}\n",
        "V & 2,40 & 3,50 & 5,20 & 6,89 & 10,00 & 12,55 & 13,67\n",
        "\\\\\n",
        "\\hline\n",
        "S & 0,014 & 0,028 & 0,056 & 0,119 & 0,226 & 0,315 & 0,566\n",
        "\\end{array}\n",
        "$$\n"
      ],
      "metadata": {
        "id": "9iaYTEpWun8m"
      }
    },
    {
      "cell_type": "code",
      "source": [
        "data = np.array([\n",
        "    [2.4, 0.014],\n",
        "    [3.5, 0.028],\n",
        "    [5.2, 0.056],\n",
        "    [6.89, 0.119],\n",
        "    [10.0, 0.226],\n",
        "    [12.55, 0.315],\n",
        "    [13.67, 0.566],\n",
        "])\n",
        "\n",
        "alpha = 1\n",
        "\n",
        "calculate(data, alpha)"
      ],
      "metadata": {
        "colab": {
          "base_uri": "https://localhost:8080/",
          "height": 551
        },
        "id": "PyFsbRWtusKT",
        "outputId": "425232c3-7691-44f8-ffa3-89ad2921a2ab"
      },
      "execution_count": null,
      "outputs": [
        {
          "output_type": "stream",
          "name": "stdout",
          "text": [
            "Коэффициенты модели: (array([[33.30893147]]), array([2.34744505]))\n",
            "Значение при альфа: 35.66\n",
            "Оценка точности модели: (0.9894267033251336, 0.02737531685837069)\n",
            "Средняя абсолютная ошибка: 2.912486640959892\n",
            "средняя квадратичная ошибка: 19.242817395029096\n",
            "Коэффициент детерминации: 0.02737531685837069\n",
            "Медианная абсолютная ошибка: 0.9872547906594376\n"
          ]
        },
        {
          "output_type": "display_data",
          "data": {
            "text/plain": [
              "<Figure size 640x480 with 1 Axes>"
            ],
            "image/png": "[encoded data removed]"
          },
          "metadata": {}
        }
      ]
    },
    {
      "cell_type": "markdown",
      "source": [
        "# ДЗ №2\n",
        "В папке `practice_4` есть ноутбук EDA_AUTO. В этом ноутбуке проведен разведочный анализ данных, поиск и замена пропусков, визуализация данных, поиск выбросов/аномалий. Выполнить следующие задания:\n",
        "\n",
        "1. Изучить ноутбук самостоятельно.\n",
        "2. Столбец `price` - отклик, таргет. Остальные предикторы.\n",
        "3. Столбец `make` не использовать для моделирования.  \n",
        "4. Построить модель линейной регрессии и полиномиальной регрессии `price~horsepower`. Т.е. `price` - целевой отклик, `horsepower` - предиктор.\n",
        "5. Построить модели множественной регрессии, SVM, Decision Tree, Random Forest, используя только числовые предикторы.\n",
        "6. Построить модели множественной регрессии, SVM, Decision Tree, Random Forest, используя совместно с категориальными и числовыми предикторами.\n",
        "7. Сравнить между собой модели. Рассчитать метрики и сделать визуализации\n",
        "8. Использовать масштабирование признаков StandardScaler, и преобразование категориальных переменных\n"
      ],
      "metadata": {
        "id": "XRWMtoMSvHZT"
      }
    },
    {
      "cell_type": "code",
      "source": [
        "url = \"https://archive.ics.uci.edu/ml/machine-learning-databases/autos/imports-85.data\"\n",
        "columns = [\"symboling\", \"normalized-losses\", \"make\", \"fuel-type\", \"aspiration\", \"num-of-doors\",\n",
        "           \"body-style\", \"drive-wheels\", \"engine-location\", \"wheel-base\", \"length\", \"width\",\n",
        "           \"height\", \"curb-weight\", \"engine-type\", \"num-of-cylinders\", \"engine-size\",\n",
        "           \"fuel-system\", \"bore\", \"stroke\", \"compression-ratio\", \"horsepower\", \"peak-rpm\",\n",
        "           \"city-mpg\", \"highway-mpg\", \"price\"]\n",
        "df = pd.read_csv(url, names=columns, na_values=\"?\")"
      ],
      "metadata": {
        "id": "0fLpSDYRvONK"
      },
      "execution_count": null,
      "outputs": []
    },
    {
      "cell_type": "markdown",
      "source": [
        "4. Построить модель линейной регрессии и полиномиальной регрессии `price~horsepower`. Т.е. `price` - целевой отклик, `horsepower` - предиктор."
      ],
      "metadata": {
        "id": "Jwwgiw26LO4p"
      }
    },
    {
      "cell_type": "code",
      "source": [
        "df.dropna(inplace=True)\n",
        "y = df['price'].values.reshape((-1, 1))\n",
        "X = df['horsepower'].values.reshape((-1, 1))\n",
        "\n",
        "regressor = LinearRegression()\n",
        "X_train, X_test, y_train, y_test = train_test_split(X, y, train_size=1/3, random_state=0, shuffle=True)\n",
        "regressor.fit(X_train, y_train)\n",
        "\n",
        "print(f'Коэффициенты: {regressor.coef_, regressor.intercept_}')\n",
        "y_pred = regressor.predict(X_test)\n",
        "print(f'Предсказание модели: {y_pred}')\n",
        "print(f'Оценка точности модели: {regressor.score(X_train, y_train), regressor.score(X_test, y_test)}')\n",
        "print(f'Средняя абсолютная ошибка: {mean_absolute_error(y_test, y_pred)}')\n",
        "print(f'средняя квадратичная ошибка: {mean_squared_error(y_test, y_pred)}')\n",
        "print(f'Коэффициент детерминации: {r2_score(y_test, y_pred)}')\n",
        "print(f'Медианная абсолютная ошибка: {median_absolute_error(y_test, y_pred)}')\n"
      ],
      "metadata": {
        "colab": {
          "base_uri": "https://localhost:8080/"
        },
        "id": "uVwiA5ovK-ZX",
        "outputId": "81490e79-2c20-473d-82b0-ee6c7ada4349"
      },
      "execution_count": null,
      "outputs": [
        {
          "output_type": "stream",
          "name": "stdout",
          "text": [
            "Коэффициенты: (array([[138.40598698]]), array([-1669.49636274]))\n",
            "Предсказание модели: [[15077.62806195]\n",
            " [ 9956.60654366]\n",
            " [20475.46155421]\n",
            " [15354.44003592]\n",
            " [ 6911.67483008]\n",
            " [ 8018.92272592]\n",
            " [ 7880.51673894]\n",
            " [14385.59812705]\n",
            " [ 7742.11075196]\n",
            " [17984.15378855]\n",
            " [14385.59812705]\n",
            " [11063.85443951]\n",
            " [ 5942.83292121]\n",
            " [14385.59812705]\n",
            " [ 7880.51673894]\n",
            " [ 7742.11075196]\n",
            " [15354.44003592]\n",
            " [ 5527.61496027]\n",
            " [12447.91430932]\n",
            " [10233.41851762]\n",
            " [ 7880.51673894]\n",
            " [10510.23049158]\n",
            " [ 7742.11075196]\n",
            " [10095.01253064]\n",
            " [ 7880.51673894]\n",
            " [ 4973.99101234]\n",
            " [ 8849.35864781]\n",
            " [10510.23049158]\n",
            " [ 8018.92272592]\n",
            " [14108.78615309]\n",
            " [ 6358.05088215]\n",
            " [18122.55977553]\n",
            " [10095.01253064]\n",
            " [14385.59812705]\n",
            " [ 7742.11075196]\n",
            " [20475.46155421]\n",
            " [ 9679.7945697 ]\n",
            " [ 8849.35864781]\n",
            " [ 6911.67483008]\n",
            " [10510.23049158]\n",
            " [ 6911.67483008]\n",
            " [20475.46155421]\n",
            " [ 7880.51673894]\n",
            " [10233.41851762]\n",
            " [13001.53825724]\n",
            " [ 9679.7945697 ]\n",
            " [ 7742.11075196]\n",
            " [ 9679.7945697 ]\n",
            " [18399.3717495 ]\n",
            " [13693.56819214]\n",
            " [12309.50832233]\n",
            " [19368.21365836]\n",
            " [16876.90589271]\n",
            " [13555.16220516]\n",
            " [11479.07240045]\n",
            " [14939.22207497]\n",
            " [19368.21365836]\n",
            " [ 8018.92272592]\n",
            " [14108.78615309]\n",
            " [11063.85443951]\n",
            " [20752.27352817]\n",
            " [12171.10233535]\n",
            " [ 7880.51673894]\n",
            " [13555.16220516]\n",
            " [13555.16220516]\n",
            " [ 7742.11075196]\n",
            " [10095.01253064]\n",
            " [13831.97417913]\n",
            " [ 8018.92272592]\n",
            " [ 7742.11075196]\n",
            " [ 8434.14068687]\n",
            " [13555.16220516]\n",
            " [ 7880.51673894]\n",
            " [ 6081.23890819]\n",
            " [11340.66641347]\n",
            " [11755.88437441]\n",
            " [ 7742.11075196]\n",
            " [19783.43161931]\n",
            " [12447.91430932]\n",
            " [20613.86754119]\n",
            " [ 8849.35864781]\n",
            " [ 6911.67483008]\n",
            " [ 8849.35864781]\n",
            " [ 7742.11075196]\n",
            " [11479.07240045]\n",
            " [12447.91430932]\n",
            " [20475.46155421]\n",
            " [17707.34181459]\n",
            " [14108.78615309]\n",
            " [11063.85443951]\n",
            " [15077.62806195]\n",
            " [ 7880.51673894]\n",
            " [26011.70103345]\n",
            " [ 7742.11075196]\n",
            " [ 6911.67483008]\n",
            " [ 7742.11075196]\n",
            " [ 8018.92272592]\n",
            " [ 7742.11075196]\n",
            " [ 8018.92272592]\n",
            " [13555.16220516]\n",
            " [11063.85443951]\n",
            " [15354.44003592]\n",
            " [ 7742.11075196]\n",
            " [11340.66641347]\n",
            " [ 7742.11075196]\n",
            " [14385.59812705]]\n",
            "Оценка точности модели: (0.5401162822374563, 0.5895533459175955)\n",
            "Средняя абсолютная ошибка: 2699.148238138127\n",
            "средняя квадратичная ошибка: 14873999.313834744\n",
            "Коэффициент детерминации: 0.5895533459175955\n",
            "Медианная абсолютная ошибка: 1865.837700562076\n"
          ]
        }
      ]
    },
    {
      "cell_type": "code",
      "source": [
        "plt.scatter(X, y, color='red')\n",
        "plt.plot(X, regressor.predict(X), color='red')\n",
        "plt.title('Linear Regression')\n",
        "plt.xlabel('Horsepower')\n",
        "plt.ylabel('Price')\n",
        "plt.show()"
      ],
      "metadata": {
        "colab": {
          "base_uri": "https://localhost:8080/",
          "height": 472
        },
        "id": "aQejASrzMsM2",
        "outputId": "c8bdfec3-11ab-471a-fbc1-b03fdbc6c7ee"
      },
      "execution_count": null,
      "outputs": [
        {
          "output_type": "display_data",
          "data": {
            "text/plain": [
              "<Figure size 640x480 with 1 Axes>"
            ],
            "image/png": "[encoded data removed]"
          },
          "metadata": {}
        }
      ]
    },
    {
      "cell_type": "code",
      "source": [
        "X_train, X_test, y_train, y_test = train_test_split(df[['wheel-base', 'curb-weight', 'horsepower']], df['price'], test_size=1/3, random_state=0, shuffle=True)"
      ],
      "metadata": {
        "id": "J1KM0nz-NoK8"
      },
      "execution_count": null,
      "outputs": []
    },
    {
      "cell_type": "markdown",
      "source": [
        "Построить модели множественной регрессии, SVM, Decision Tree, Random Forest, используя только числовые предикторы."
      ],
      "metadata": {
        "id": "UmgwwJhkNhk9"
      }
    },
    {
      "cell_type": "code",
      "source": [
        "regressor = LinearRegression()\n",
        "regressor.fit(X_train, y_train)\n",
        "y_pred = regressor.predict(X_test)\n",
        "print(f'Оценка точности модели: {regressor.score(X_test, y_test), regressor.score(X_train, y_train)}')\n",
        "print(f'Средняя абсолютная ошибка: {mean_absolute_error(y_test, y_pred)}')\n",
        "print(f'средняя квадратичная ошибка: {mean_squared_error(y_test, y_pred)}')\n",
        "print(f'Коэффициент детерминации: {r2_score(y_test, y_pred)}')\n",
        "print(f'Медианная абсолютная ошибка: {median_absolute_error(y_test, y_pred)}')"
      ],
      "metadata": {
        "colab": {
          "base_uri": "https://localhost:8080/"
        },
        "id": "AFk5wePCXCg5",
        "outputId": "5be1e324-55a7-4334-8687-b1d793bb71d1"
      },
      "execution_count": null,
      "outputs": [
        {
          "output_type": "stream",
          "name": "stdout",
          "text": [
            "Оценка точности модели: (0.8244361699356269, 0.799582281095247)\n",
            "Средняя абсолютная ошибка: 1812.067968590325\n",
            "средняя квадратичная ошибка: 5766570.5319267465\n",
            "Коэффициент детерминации: 0.8244361699356269\n",
            "Медианная абсолютная ошибка: 1433.1873816974985\n"
          ]
        }
      ]
    },
    {
      "cell_type": "code",
      "source": [
        "poly_regressor = PolynomialFeatures(degree = 3)\n",
        "X_train_poly = poly_regressor.fit_transform(X_train)\n",
        "X_test_poly = poly_regressor.fit_transform(X_test)\n",
        "lin_reg_2 = LinearRegression()\n",
        "lin_reg_2.fit(X_train_poly, y_train)\n",
        "y_pred = lin_reg_2.predict(X_test_poly)\n",
        "print(f'Оценка точности модели: {lin_reg_2.score(X_test_poly, y_test), lin_reg_2.score(X_test_poly, y_test)}')\n",
        "print(f'Средняя абсолютная ошибка: {mean_absolute_error(y_test, y_pred)}')\n",
        "print(f'средняя квадратичная ошибка: {mean_squared_error(y_test, y_pred)}')\n",
        "print(f'Коэффициент детерминации: {r2_score(y_test, y_pred)}')\n",
        "print(f'Медианная абсолютная ошибка: {median_absolute_error(y_test, y_pred)}')"
      ],
      "metadata": {
        "colab": {
          "base_uri": "https://localhost:8080/"
        },
        "id": "wPMnuOTWZgtr",
        "outputId": "5baf3ddd-2b34-4693-f662-9e3b5d9bed4b"
      },
      "execution_count": null,
      "outputs": [
        {
          "output_type": "stream",
          "name": "stdout",
          "text": [
            "Оценка точности модели: (0.754136296524598, 0.754136296524598)\n",
            "Средняя абсолютная ошибка: 1957.2434119826253\n",
            "средняя квадратичная ошибка: 8075640.562248924\n",
            "Коэффициент детерминации: 0.754136296524598\n",
            "Медианная абсолютная ошибка: 935.0052373567596\n"
          ]
        }
      ]
    },
    {
      "cell_type": "code",
      "source": [
        "sc_X = StandardScaler()\n",
        "sc_y = StandardScaler()\n",
        "X_train_sc = sc_X.fit_transform(X_train)\n",
        "y_train_sc = sc_y.fit_transform(y_train.values.reshape((-1, 1)))\n",
        "\n",
        "svr_regressor = SVR()\n",
        "svr_regressor.fit(X_train_sc,y_train_sc)\n",
        "y_pred = svr_regressor.predict(X_test)\n",
        "print(f'Оценка точности модели: {svr_regressor.score(sc_X.fit_transform(X_test), sc_y.fit_transform(y_test.values.reshape((-1, 1)))), svr_regressor.score(sc_X.fit_transform(X_train), sc_y.fit_transform(y_train.values.reshape((-1, 1))))}')\n",
        "print(f'Средняя абсолютная ошибка: {mean_absolute_error(y_test, y_pred)}')\n",
        "print(f'средняя квадратичная ошибка: {mean_squared_error(y_test, y_pred)}')\n",
        "print(f'Коэффициент детерминации: {r2_score(y_test, y_pred)}')\n",
        "print(f'Медианная абсолютная ошибка: {median_absolute_error(y_test, y_pred)}')"
      ],
      "metadata": {
        "colab": {
          "base_uri": "https://localhost:8080/"
        },
        "id": "McXwd2iOePit",
        "outputId": "75448469-b3f2-48dd-b428-14db607e1305"
      },
      "execution_count": null,
      "outputs": [
        {
          "output_type": "stream",
          "name": "stdout",
          "text": [
            "Оценка точности модели: (0.8461526458321188, 0.8182350522970726)\n",
            "Средняя абсолютная ошибка: 10871.595601017685\n",
            "средняя квадратичная ошибка: 151037596.43502906\n",
            "Коэффициент детерминации: -3.598355082460242\n",
            "Медианная абсолютная ошибка: 8194.388053847877\n"
          ]
        },
        {
          "output_type": "stream",
          "name": "stderr",
          "text": [
            "/usr/local/lib/python3.10/dist-packages/sklearn/utils/validation.py:1143: DataConversionWarning: A column-vector y was passed when a 1d array was expected. Please change the shape of y to (n_samples, ), for example using ravel().\n",
            "  y = column_or_1d(y, warn=True)\n",
            "/usr/local/lib/python3.10/dist-packages/sklearn/base.py:432: UserWarning: X has feature names, but SVR was fitted without feature names\n",
            "  warnings.warn(\n"
          ]
        }
      ]
    },
    {
      "cell_type": "code",
      "source": [
        "dec_tree_regressor = DecisionTreeRegressor(random_state=0)\n",
        "dec_tree_regressor.fit(X_train, y_train)\n",
        "dec_tree_regressor.score(X_train, y_train), dec_tree_regressor.score(X_test, y_test)\n",
        "y_pred = dec_tree_regressor.predict(X_test)\n",
        "print(f'Оценка точности модели: {dec_tree_regressor.score(X_test, y_test), dec_tree_regressor.score(X_test, y_test)}')\n",
        "print(f'Средняя абсолютная ошибка: {mean_absolute_error(y_test, y_pred)}')\n",
        "print(f'средняя квадратичная ошибка: {mean_squared_error(y_test, y_pred)}')\n",
        "print(f'Коэффициент детерминации: {r2_score(y_test, y_pred)}')\n",
        "print(f'Медианная абсолютная ошибка: {median_absolute_error(y_test, y_pred)}')"
      ],
      "metadata": {
        "colab": {
          "base_uri": "https://localhost:8080/"
        },
        "id": "NYxh3v6SRgnE",
        "outputId": "2ba78d31-a388-490e-f828-b2cfc974e616"
      },
      "execution_count": null,
      "outputs": [
        {
          "output_type": "stream",
          "name": "stdout",
          "text": [
            "Оценка точности модели: (0.8394174340204223, 0.8394174340204223)\n",
            "Средняя абсолютная ошибка: 1485.8490566037735\n",
            "средняя квадратичная ошибка: 5274495.849056603\n",
            "Коэффициент детерминации: 0.8394174340204223\n",
            "Медианная абсолютная ошибка: 1150.0\n"
          ]
        }
      ]
    },
    {
      "cell_type": "code",
      "source": [
        "rand_tree_regressor = RandomForestRegressor(n_estimators=10, random_state=0)\n",
        "rand_tree_regressor.fit(X_train, y_train.ravel())\n",
        "rand_tree_regressor.score(X_train, y_train.ravel()), rand_tree_regressor.score(X_test, y_test.ravel())\n",
        "y_pred = rand_tree_regressor.predict(X_test)\n",
        "print(f'Оценка точности модели: {rand_tree_regressor.score(X_test, y_test), rand_tree_regressor.score(X_test, y_test)}')\n",
        "print(f'Средняя абсолютная ошибка: {mean_absolute_error(y_test, y_pred)}')\n",
        "print(f'средняя квадратичная ошибка: {mean_squared_error(y_test, y_pred)}')\n",
        "print(f'Коэффициент детерминации: {r2_score(y_test, y_pred)}')\n",
        "print(f'Медианная абсолютная ошибка: {median_absolute_error(y_test, y_pred)}')"
      ],
      "metadata": {
        "colab": {
          "base_uri": "https://localhost:8080/"
        },
        "id": "VFWOq2f6R48O",
        "outputId": "4ad5af40-9826-4139-d5eb-35dd0e8311ca"
      },
      "execution_count": null,
      "outputs": [
        {
          "output_type": "stream",
          "name": "stdout",
          "text": [
            "Оценка точности модели: (0.8974206034126465, 0.8974206034126465)\n",
            "Средняя абсолютная ошибка: 1264.969433962264\n",
            "средняя квадратичная ошибка: 3369323.426850314\n",
            "Коэффициент детерминации: 0.8974206034126465\n",
            "Медианная абсолютная ошибка: 703.8000000000002\n"
          ]
        }
      ]
    },
    {
      "cell_type": "markdown",
      "source": [
        "6. Построить модели множественной регрессии, SVM, Decision Tree, Random Forest, используя совместно с категориальными и числовыми предикторами."
      ],
      "metadata": {
        "id": "sf7ek4BGRbjI"
      }
    },
    {
      "cell_type": "code",
      "source": [
        "df = pd.read_csv(url, names=columns, na_values=\"?\")\n",
        "df.dropna(inplace=True)\n",
        "\n",
        "encoder = LabelEncoder()\n",
        "\n",
        "X_cat = df.loc[:, ['horsepower', 'engine-size', 'fuel-system', 'body-style']]\n",
        "\n",
        "encoder.fit(X_cat['fuel-system'].values)\n",
        "X_cat['fuel-system'] = encoder.fit_transform(X_cat['fuel-system'])\n",
        "X_cat['body-style'] = X_cat['body-style'].apply(lambda x: 0 if x == 'front' else 1)\n",
        "y_cat = df['price']\n",
        "X_cat_train, X_cat_test, y_cat_train, y_cat_test = train_test_split(X_cat, y_cat, train_size=1/3, random_state=0, shuffle=True)"
      ],
      "metadata": {
        "id": "QnEE2IclRaRe"
      },
      "execution_count": null,
      "outputs": []
    },
    {
      "cell_type": "code",
      "source": [
        "regressor = LinearRegression()\n",
        "regressor.fit(X_cat_train, y_cat_train)\n",
        "y_cat_pred = regressor.predict(X_cat_test)\n",
        "print(f'Оценка точности модели: {regressor.score(X_cat_test, y_cat_test), regressor.score(X_cat_train, y_cat_train)}')\n",
        "print(f'Средняя абсолютная ошибка: {mean_absolute_error(y_cat_test, y_cat_pred)}')\n",
        "print(f'средняя квадратичная ошибка: {mean_squared_error(y_cat_test, y_cat_pred)}')\n",
        "print(f'Коэффициент детерминации: {r2_score(y_cat_test, y_cat_pred)}')\n",
        "print(f'Медианная абсолютная ошибка: {median_absolute_error(y_cat_test, y_cat_pred)}')"
      ],
      "metadata": {
        "colab": {
          "base_uri": "https://localhost:8080/"
        },
        "id": "45e5ej1cYDP3",
        "outputId": "80bd805d-2bb2-4219-e113-802bb77dc168"
      },
      "execution_count": null,
      "outputs": [
        {
          "output_type": "stream",
          "name": "stdout",
          "text": [
            "Оценка точности модели: (0.7260769699967637, 0.699899941611505)\n",
            "Средняя абсолютная ошибка: 2259.0868483114814\n",
            "средняя квадратичная ошибка: 9926578.569437366\n",
            "Коэффициент детерминации: 0.7260769699967637\n",
            "Медианная абсолютная ошибка: 1616.8192881768537\n"
          ]
        }
      ]
    },
    {
      "cell_type": "code",
      "source": [
        "poly_regressor = PolynomialFeatures(degree=2)\n",
        "X_train_poly, X_test_poly = poly_regressor.fit_transform(X_cat_train), poly_regressor.fit_transform(X_cat_test)\n",
        "lin_reg_2 = LinearRegression()\n",
        "lin_reg_2.fit(X_train_poly, y_cat_train)\n",
        "y_cat_pred = lin_reg_2.predict(X_test_poly)\n",
        "print(f'Оценка точности модели: {lin_reg_2.score(X_test_poly, y_cat_test), lin_reg_2.score(X_train_poly, y_cat_train)}')\n",
        "print(f'Средняя абсолютная ошибка: {mean_absolute_error(y_cat_test, y_cat_pred)}')\n",
        "print(f'средняя квадратичная ошибка: {mean_squared_error(y_cat_test, y_cat_pred)}')\n",
        "print(f'Коэффициент детерминации: {r2_score(y_cat_test, y_cat_pred)}')\n",
        "print(f'Медианная абсолютная ошибка: {median_absolute_error(y_cat_test, y_cat_pred)}')"
      ],
      "metadata": {
        "colab": {
          "base_uri": "https://localhost:8080/"
        },
        "id": "zJ_DTVQwYJhv",
        "outputId": "f4eb836c-7a75-44ff-e5cf-f28dbf8a8ab9"
      },
      "execution_count": null,
      "outputs": [
        {
          "output_type": "stream",
          "name": "stdout",
          "text": [
            "Оценка точности модели: (0.7368114208174232, 0.7931923897401071)\n",
            "Средняя абсолютная ошибка: 2331.4106721730986\n",
            "средняя квадратичная ошибка: 9537577.434812877\n",
            "Коэффициент детерминации: 0.7368114208174232\n",
            "Медианная абсолютная ошибка: 1657.3133927724039\n"
          ]
        }
      ]
    },
    {
      "cell_type": "code",
      "source": [
        "svr_regressor = SVR()\n",
        "sc_x, sc_y = StandardScaler(), StandardScaler()\n",
        "sc_x.fit(X_cat_train.to_numpy())\n",
        "sc_y.fit(y_cat_train.values.reshape((-1, 1)))\n",
        "X_train_sc = sc_x.fit_transform(X_cat_train.to_numpy())\n",
        "y_train_sc = sc_y.fit_transform(y_cat_train.values.reshape((-1, 1)))\n",
        "svr_regressor.fit(X_train_sc, y_train_sc)\n",
        "\n",
        "X_train, X_test, y_train, y_test = train_test_split(X_train_sc ,y_train_sc, test_size = 1/3, random_state = 0)\n",
        "y_pred = svr_regressor.predict(X_test)\n",
        "print(f'Оценка точности модели: {svr_regressor.score(X_train_sc, y_train_sc), svr_regressor.score(sc_x.fit_transform(X_cat_test), sc_y.fit_transform(y_cat_test.values.reshape((-1, 1))))}')\n",
        "print(f'Средняя абсолютная ошибка: {mean_absolute_error(y_test, y_pred)}')\n",
        "print(f'средняя квадратичная ошибка: {mean_squared_error(y_test, y_pred)}')\n",
        "print(f'Коэффициент детерминации: {r2_score(y_test, y_pred)}')\n",
        "print(f'Медианная абсолютная ошибка: {median_absolute_error(y_test, y_pred)}')\n"
      ],
      "metadata": {
        "colab": {
          "base_uri": "https://localhost:8080/"
        },
        "id": "DvsRT0T9Ydek",
        "outputId": "44d90c5c-5ff9-4b09-dbc5-7e17148988f5"
      },
      "execution_count": null,
      "outputs": [
        {
          "output_type": "stream",
          "name": "stdout",
          "text": [
            "Оценка точности модели: (0.688092456686081, 0.6644172490593561)\n",
            "Средняя абсолютная ошибка: 0.4529082971551245\n",
            "средняя квадратичная ошибка: 0.677478312531963\n",
            "Коэффициент детерминации: 0.6353364611649265\n",
            "Медианная абсолютная ошибка: 0.18525764356463242\n"
          ]
        },
        {
          "output_type": "stream",
          "name": "stderr",
          "text": [
            "/usr/local/lib/python3.10/dist-packages/sklearn/utils/validation.py:1143: DataConversionWarning: A column-vector y was passed when a 1d array was expected. Please change the shape of y to (n_samples, ), for example using ravel().\n",
            "  y = column_or_1d(y, warn=True)\n"
          ]
        }
      ]
    },
    {
      "cell_type": "code",
      "source": [
        "dec_tree_regressor = DecisionTreeRegressor(random_state=0)\n",
        "dec_tree_regressor.fit(X_cat_train, y_cat_train)\n",
        "y_cat_pred = dec_tree_regressor.predict(X_cat_test)\n",
        "print(f'Оценка точности модели: {dec_tree_regressor.score(X_cat_test, y_cat_test), dec_tree_regressor.score(X_cat_train, y_cat_train)}')\n",
        "print(f'Средняя абсолютная ошибка: {mean_absolute_error(y_cat_test, y_cat_pred)}')\n",
        "print(f'средняя квадратичная ошибка: {mean_squared_error(y_cat_test, y_cat_pred)}')\n",
        "print(f'Коэффициент детерминации: {r2_score(y_cat_test, y_cat_pred)}')\n",
        "print(f'Медианная абсолютная ошибка: {median_absolute_error(y_cat_test, y_cat_pred)}')"
      ],
      "metadata": {
        "colab": {
          "base_uri": "https://localhost:8080/"
        },
        "id": "u_hR8fD4Y1vz",
        "outputId": "73e72b7f-4702-40b4-a328-09e4965e8b4f"
      },
      "execution_count": null,
      "outputs": [
        {
          "output_type": "stream",
          "name": "stdout",
          "text": [
            "Оценка точности модели: (0.6137029182440714, 0.9816900372952972)\n",
            "Средняя абсолютная ошибка: 2456.448113207547\n",
            "средняя квадратичная ошибка: 13998853.375524107\n",
            "Коэффициент детерминации: 0.6137029182440714\n",
            "Медианная абсолютная ошибка: 1185.0\n"
          ]
        }
      ]
    },
    {
      "cell_type": "code",
      "source": [
        "rand_tree_regressor = RandomForestRegressor(random_state=0, n_estimators=10)\n",
        "rand_tree_regressor.fit(X_cat_train, y_cat_train)\n",
        "y_cat_pred = rand_tree_regressor.predict(X_cat_test)\n",
        "print(f'Оценка точности модели: {rand_tree_regressor.score(X_cat_test, y_cat_test), rand_tree_regressor.score(X_cat_train, y_cat_train)}')\n",
        "print(f'Средняя абсолютная ошибка: {mean_absolute_error(y_cat_test, y_cat_pred)}')\n",
        "print(f'средняя квадратичная ошибка: {mean_squared_error(y_cat_test, y_cat_pred)}')\n",
        "print(f'Коэффициент детерминации: {r2_score(y_cat_test, y_cat_pred)}')\n",
        "print(f'Медианная абсолютная ошибка: {median_absolute_error(y_cat_test, y_cat_pred)}')"
      ],
      "metadata": {
        "colab": {
          "base_uri": "https://localhost:8080/"
        },
        "id": "fsshE6_ZZNZX",
        "outputId": "1e52d11a-b1b7-48b7-dcf3-36eeafeb5241"
      },
      "execution_count": null,
      "outputs": [
        {
          "output_type": "stream",
          "name": "stdout",
          "text": [
            "Оценка точности модели: (0.7184747849561519, 0.8939995836844433)\n",
            "Средняя абсолютная ошибка: 2242.06\n",
            "средняя квадратичная ошибка: 10202070.875083016\n",
            "Коэффициент детерминации: 0.7184747849561519\n",
            "Медианная абсолютная ошибка: 1300.1750000000002\n"
          ]
        }
      ]
    }
  ]
}