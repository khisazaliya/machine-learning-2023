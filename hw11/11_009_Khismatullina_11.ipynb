{
  "nbformat": 4,
  "nbformat_minor": 0,
  "metadata": {
    "colab": {
      "provenance": []
    },
    "kernelspec": {
      "name": "python3",
      "display_name": "Python 3"
    },
    "language_info": {
      "name": "python"
    }
  },
  "cells": [
    {
      "cell_type": "markdown",
      "metadata": {
        "id": "Sx9naxEGycrZ"
      },
      "source": [
        "# Предсказание цен машин с Юлы\n",
        "\n",
        "\n"
      ]
    },
    {
      "cell_type": "code",
      "source": [
        "from tensorflow import keras\n",
        "from tensorflow.keras.models import Sequential # НС прямого распространения\n",
        "from tensorflow.keras.layers import Dense, Activation, Dropout, BatchNormalization # Основные слои\n",
        "from tensorflow.keras import utils # Утилиты для to_categorical\n",
        "from tensorflow.keras.preprocessing import image # Для отрисовки изображения\n",
        "from tensorflow.keras.optimizers import Adam, Adadelta # Алгоритмы оптимизации, для настройки скорости обучения\n",
        "import numpy as np # Библиотека работы с массивами\n",
        "import matplotlib.pyplot as plt # Отрисовка изображений\n",
        "from PIL import Image # Отрисовка изображений\n",
        "import pandas as pd # Библиотека pandas\n",
        "from google.colab import files # Импорт файлов\n",
        "from sklearn.preprocessing import LabelEncoder, StandardScaler # Функции для нормализации данных\n",
        "from sklearn import preprocessing # Пакет предварительной обработки данных\n",
        "from sklearn.model_selection import train_test_split\n",
        "# Отрисовывать изображения в ноутбуке, а не в консоль или файл\n",
        "%matplotlib inline"
      ],
      "metadata": {
        "id": "Tjh14isJAEJk"
      },
      "execution_count": 1,
      "outputs": []
    },
    {
      "cell_type": "code",
      "execution_count": 2,
      "metadata": {
        "colab": {
          "base_uri": "https://localhost:8080/",
          "height": 206
        },
        "id": "5v7Vz9VWynjF",
        "outputId": "c847a880-7aac-4b09-b9c7-215c0807aeca"
      },
      "outputs": [
        {
          "output_type": "execute_result",
          "data": {
            "text/plain": [
              "        mark                               model   price  year  mileage  \\\n",
              "0        kia                              cerato  996000  2018    28000   \n",
              "1     daewoo  nexia 1 поколение [2-й рестайлинг]  140200  2012    60500   \n",
              "2     suzuki      jimny 3 поколение [рестайлинг]  750000  2011    29000   \n",
              "3        bmw              x1 18 e84 [рестайлинг]  970000  2014    49500   \n",
              "4  chevrolet                 lacetti 1 поколение  205000  2007   151445   \n",
              "\n",
              "          body       kpp    fuel  volume  power  \n",
              "0        седан   автомат  бензин     2.0  150.0  \n",
              "1        седан  механика  бензин     1.5   80.0  \n",
              "2  внедорожник   автомат  бензин     1.3   85.0  \n",
              "3    кроссовер   автомат  бензин     2.0  150.0  \n",
              "4        седан  механика  бензин     1.4   95.0  "
            ],
            "text/html": [
              "\n",
              "  <div id=\"df-e8064620-8cf4-40a6-a4c7-4ff0a9bb0751\" class=\"colab-df-container\">\n",
              "    <div>\n",
              "<style scoped>\n",
              "    .dataframe tbody tr th:only-of-type {\n",
              "        vertical-align: middle;\n",
              "    }\n",
              "\n",
              "    .dataframe tbody tr th {\n",
              "        vertical-align: top;\n",
              "    }\n",
              "\n",
              "    .dataframe thead th {\n",
              "        text-align: right;\n",
              "    }\n",
              "</style>\n",
              "<table border=\"1\" class=\"dataframe\">\n",
              "  <thead>\n",
              "    <tr style=\"text-align: right;\">\n",
              "      <th></th>\n",
              "      <th>mark</th>\n",
              "      <th>model</th>\n",
              "      <th>price</th>\n",
              "      <th>year</th>\n",
              "      <th>mileage</th>\n",
              "      <th>body</th>\n",
              "      <th>kpp</th>\n",
              "      <th>fuel</th>\n",
              "      <th>volume</th>\n",
              "      <th>power</th>\n",
              "    </tr>\n",
              "  </thead>\n",
              "  <tbody>\n",
              "    <tr>\n",
              "      <th>0</th>\n",
              "      <td>kia</td>\n",
              "      <td>cerato</td>\n",
              "      <td>996000</td>\n",
              "      <td>2018</td>\n",
              "      <td>28000</td>\n",
              "      <td>седан</td>\n",
              "      <td>автомат</td>\n",
              "      <td>бензин</td>\n",
              "      <td>2.0</td>\n",
              "      <td>150.0</td>\n",
              "    </tr>\n",
              "    <tr>\n",
              "      <th>1</th>\n",
              "      <td>daewoo</td>\n",
              "      <td>nexia 1 поколение [2-й рестайлинг]</td>\n",
              "      <td>140200</td>\n",
              "      <td>2012</td>\n",
              "      <td>60500</td>\n",
              "      <td>седан</td>\n",
              "      <td>механика</td>\n",
              "      <td>бензин</td>\n",
              "      <td>1.5</td>\n",
              "      <td>80.0</td>\n",
              "    </tr>\n",
              "    <tr>\n",
              "      <th>2</th>\n",
              "      <td>suzuki</td>\n",
              "      <td>jimny 3 поколение [рестайлинг]</td>\n",
              "      <td>750000</td>\n",
              "      <td>2011</td>\n",
              "      <td>29000</td>\n",
              "      <td>внедорожник</td>\n",
              "      <td>автомат</td>\n",
              "      <td>бензин</td>\n",
              "      <td>1.3</td>\n",
              "      <td>85.0</td>\n",
              "    </tr>\n",
              "    <tr>\n",
              "      <th>3</th>\n",
              "      <td>bmw</td>\n",
              "      <td>x1 18 e84 [рестайлинг]</td>\n",
              "      <td>970000</td>\n",
              "      <td>2014</td>\n",
              "      <td>49500</td>\n",
              "      <td>кроссовер</td>\n",
              "      <td>автомат</td>\n",
              "      <td>бензин</td>\n",
              "      <td>2.0</td>\n",
              "      <td>150.0</td>\n",
              "    </tr>\n",
              "    <tr>\n",
              "      <th>4</th>\n",
              "      <td>chevrolet</td>\n",
              "      <td>lacetti 1 поколение</td>\n",
              "      <td>205000</td>\n",
              "      <td>2007</td>\n",
              "      <td>151445</td>\n",
              "      <td>седан</td>\n",
              "      <td>механика</td>\n",
              "      <td>бензин</td>\n",
              "      <td>1.4</td>\n",
              "      <td>95.0</td>\n",
              "    </tr>\n",
              "  </tbody>\n",
              "</table>\n",
              "</div>\n",
              "    <div class=\"colab-df-buttons\">\n",
              "\n",
              "  <div class=\"colab-df-container\">\n",
              "    <button class=\"colab-df-convert\" onclick=\"convertToInteractive('df-e8064620-8cf4-40a6-a4c7-4ff0a9bb0751')\"\n",
              "            title=\"Convert this dataframe to an interactive table.\"\n",
              "            style=\"display:none;\">\n",
              "\n",
              "  <svg xmlns=\"http://www.w3.org/2000/svg\" height=\"24px\" viewBox=\"0 -960 960 960\">\n",
              "    <path d=\"M120-120v-720h720v720H120Zm60-500h600v-160H180v160Zm220 220h160v-160H400v160Zm0 220h160v-160H400v160ZM180-400h160v-160H180v160Zm440 0h160v-160H620v160ZM180-180h160v-160H180v160Zm440 0h160v-160H620v160Z\"/>\n",
              "  </svg>\n",
              "    </button>\n",
              "\n",
              "  <style>\n",
              "    .colab-df-container {\n",
              "      display:flex;\n",
              "      gap: 12px;\n",
              "    }\n",
              "\n",
              "    .colab-df-convert {\n",
              "      background-color: #E8F0FE;\n",
              "      border: none;\n",
              "      border-radius: 50%;\n",
              "      cursor: pointer;\n",
              "      display: none;\n",
              "      fill: #1967D2;\n",
              "      height: 32px;\n",
              "      padding: 0 0 0 0;\n",
              "      width: 32px;\n",
              "    }\n",
              "\n",
              "    .colab-df-convert:hover {\n",
              "      background-color: #E2EBFA;\n",
              "      box-shadow: 0px 1px 2px rgba(60, 64, 67, 0.3), 0px 1px 3px 1px rgba(60, 64, 67, 0.15);\n",
              "      fill: #174EA6;\n",
              "    }\n",
              "\n",
              "    .colab-df-buttons div {\n",
              "      margin-bottom: 4px;\n",
              "    }\n",
              "\n",
              "    [theme=dark] .colab-df-convert {\n",
              "      background-color: #3B4455;\n",
              "      fill: #D2E3FC;\n",
              "    }\n",
              "\n",
              "    [theme=dark] .colab-df-convert:hover {\n",
              "      background-color: #434B5C;\n",
              "      box-shadow: 0px 1px 3px 1px rgba(0, 0, 0, 0.15);\n",
              "      filter: drop-shadow(0px 1px 2px rgba(0, 0, 0, 0.3));\n",
              "      fill: #FFFFFF;\n",
              "    }\n",
              "  </style>\n",
              "\n",
              "    <script>\n",
              "      const buttonEl =\n",
              "        document.querySelector('#df-e8064620-8cf4-40a6-a4c7-4ff0a9bb0751 button.colab-df-convert');\n",
              "      buttonEl.style.display =\n",
              "        google.colab.kernel.accessAllowed ? 'block' : 'none';\n",
              "\n",
              "      async function convertToInteractive(key) {\n",
              "        const element = document.querySelector('#df-e8064620-8cf4-40a6-a4c7-4ff0a9bb0751');\n",
              "        const dataTable =\n",
              "          await google.colab.kernel.invokeFunction('convertToInteractive',\n",
              "                                                    [key], {});\n",
              "        if (!dataTable) return;\n",
              "\n",
              "        const docLinkHtml = 'Like what you see? Visit the ' +\n",
              "          '<a target=\"_blank\" href=https://colab.research.google.com/notebooks/data_table.ipynb>data table notebook</a>'\n",
              "          + ' to learn more about interactive tables.';\n",
              "        element.innerHTML = '';\n",
              "        dataTable['output_type'] = 'display_data';\n",
              "        await google.colab.output.renderOutput(dataTable, element);\n",
              "        const docLink = document.createElement('div');\n",
              "        docLink.innerHTML = docLinkHtml;\n",
              "        element.appendChild(docLink);\n",
              "      }\n",
              "    </script>\n",
              "  </div>\n",
              "\n",
              "\n",
              "<div id=\"df-74ac6efb-05b0-4bb6-b173-530febb28536\">\n",
              "  <button class=\"colab-df-quickchart\" onclick=\"quickchart('df-74ac6efb-05b0-4bb6-b173-530febb28536')\"\n",
              "            title=\"Suggest charts\"\n",
              "            style=\"display:none;\">\n",
              "\n",
              "<svg xmlns=\"http://www.w3.org/2000/svg\" height=\"24px\"viewBox=\"0 0 24 24\"\n",
              "     width=\"24px\">\n",
              "    <g>\n",
              "        <path d=\"M19 3H5c-1.1 0-2 .9-2 2v14c0 1.1.9 2 2 2h14c1.1 0 2-.9 2-2V5c0-1.1-.9-2-2-2zM9 17H7v-7h2v7zm4 0h-2V7h2v10zm4 0h-2v-4h2v4z\"/>\n",
              "    </g>\n",
              "</svg>\n",
              "  </button>\n",
              "\n",
              "<style>\n",
              "  .colab-df-quickchart {\n",
              "      --bg-color: #E8F0FE;\n",
              "      --fill-color: #1967D2;\n",
              "      --hover-bg-color: #E2EBFA;\n",
              "      --hover-fill-color: #174EA6;\n",
              "      --disabled-fill-color: #AAA;\n",
              "      --disabled-bg-color: #DDD;\n",
              "  }\n",
              "\n",
              "  [theme=dark] .colab-df-quickchart {\n",
              "      --bg-color: #3B4455;\n",
              "      --fill-color: #D2E3FC;\n",
              "      --hover-bg-color: #434B5C;\n",
              "      --hover-fill-color: #FFFFFF;\n",
              "      --disabled-bg-color: #3B4455;\n",
              "      --disabled-fill-color: #666;\n",
              "  }\n",
              "\n",
              "  .colab-df-quickchart {\n",
              "    background-color: var(--bg-color);\n",
              "    border: none;\n",
              "    border-radius: 50%;\n",
              "    cursor: pointer;\n",
              "    display: none;\n",
              "    fill: var(--fill-color);\n",
              "    height: 32px;\n",
              "    padding: 0;\n",
              "    width: 32px;\n",
              "  }\n",
              "\n",
              "  .colab-df-quickchart:hover {\n",
              "    background-color: var(--hover-bg-color);\n",
              "    box-shadow: 0 1px 2px rgba(60, 64, 67, 0.3), 0 1px 3px 1px rgba(60, 64, 67, 0.15);\n",
              "    fill: var(--button-hover-fill-color);\n",
              "  }\n",
              "\n",
              "  .colab-df-quickchart-complete:disabled,\n",
              "  .colab-df-quickchart-complete:disabled:hover {\n",
              "    background-color: var(--disabled-bg-color);\n",
              "    fill: var(--disabled-fill-color);\n",
              "    box-shadow: none;\n",
              "  }\n",
              "\n",
              "  .colab-df-spinner {\n",
              "    border: 2px solid var(--fill-color);\n",
              "    border-color: transparent;\n",
              "    border-bottom-color: var(--fill-color);\n",
              "    animation:\n",
              "      spin 1s steps(1) infinite;\n",
              "  }\n",
              "\n",
              "  @keyframes spin {\n",
              "    0% {\n",
              "      border-color: transparent;\n",
              "      border-bottom-color: var(--fill-color);\n",
              "      border-left-color: var(--fill-color);\n",
              "    }\n",
              "    20% {\n",
              "      border-color: transparent;\n",
              "      border-left-color: var(--fill-color);\n",
              "      border-top-color: var(--fill-color);\n",
              "    }\n",
              "    30% {\n",
              "      border-color: transparent;\n",
              "      border-left-color: var(--fill-color);\n",
              "      border-top-color: var(--fill-color);\n",
              "      border-right-color: var(--fill-color);\n",
              "    }\n",
              "    40% {\n",
              "      border-color: transparent;\n",
              "      border-right-color: var(--fill-color);\n",
              "      border-top-color: var(--fill-color);\n",
              "    }\n",
              "    60% {\n",
              "      border-color: transparent;\n",
              "      border-right-color: var(--fill-color);\n",
              "    }\n",
              "    80% {\n",
              "      border-color: transparent;\n",
              "      border-right-color: var(--fill-color);\n",
              "      border-bottom-color: var(--fill-color);\n",
              "    }\n",
              "    90% {\n",
              "      border-color: transparent;\n",
              "      border-bottom-color: var(--fill-color);\n",
              "    }\n",
              "  }\n",
              "</style>\n",
              "\n",
              "  <script>\n",
              "    async function quickchart(key) {\n",
              "      const quickchartButtonEl =\n",
              "        document.querySelector('#' + key + ' button');\n",
              "      quickchartButtonEl.disabled = true;  // To prevent multiple clicks.\n",
              "      quickchartButtonEl.classList.add('colab-df-spinner');\n",
              "      try {\n",
              "        const charts = await google.colab.kernel.invokeFunction(\n",
              "            'suggestCharts', [key], {});\n",
              "      } catch (error) {\n",
              "        console.error('Error during call to suggestCharts:', error);\n",
              "      }\n",
              "      quickchartButtonEl.classList.remove('colab-df-spinner');\n",
              "      quickchartButtonEl.classList.add('colab-df-quickchart-complete');\n",
              "    }\n",
              "    (() => {\n",
              "      let quickchartButtonEl =\n",
              "        document.querySelector('#df-74ac6efb-05b0-4bb6-b173-530febb28536 button');\n",
              "      quickchartButtonEl.style.display =\n",
              "        google.colab.kernel.accessAllowed ? 'block' : 'none';\n",
              "    })();\n",
              "  </script>\n",
              "</div>\n",
              "    </div>\n",
              "  </div>\n"
            ]
          },
          "metadata": {},
          "execution_count": 2
        }
      ],
      "source": [
        "# Считываем csv с помощью pandas\n",
        "cars = pd.read_csv('cars_new.csv', sep=',')\n",
        "cars[:5] # Выводим первые 5 машин"
      ]
    },
    {
      "cell_type": "code",
      "execution_count": 3,
      "metadata": {
        "colab": {
          "base_uri": "https://localhost:8080/"
        },
        "id": "-2014jPoywVZ",
        "outputId": "0e3ba15a-ef7a-46bb-f4f9-9b59143e50c8"
      },
      "outputs": [
        {
          "output_type": "stream",
          "name": "stdout",
          "text": [
            "(70119, 10)\n"
          ]
        }
      ],
      "source": [
        "print(cars.values.shape)"
      ]
    },
    {
      "cell_type": "code",
      "execution_count": 4,
      "metadata": {
        "id": "w_3Pk5XeyxsT"
      },
      "outputs": [],
      "source": [
        "# Создаём словарь поле - его индекс\n",
        "def create_dict(s):\n",
        "  ret = {}                          # Создаём пустой словарь\n",
        "  for _id, name in enumerate(s):    # Проходим по всем парам - id и название\n",
        "    ret.update({name: _id})         # Добавляем в словарь\n",
        "  return ret\n",
        "\n",
        "# Функция преобразования в one hot encoding\n",
        "def to_ohe(value, d):\n",
        "  arr = [0] * len(d)\n",
        "  arr[d[value]] = 1\n",
        "  return arr"
      ]
    },
    {
      "cell_type": "code",
      "execution_count": 5,
      "metadata": {
        "id": "bUyCBzyYyz8s",
        "colab": {
          "base_uri": "https://localhost:8080/"
        },
        "outputId": "5a64a432-20ef-4c25-ecab-74f4f021820a"
      },
      "outputs": [
        {
          "output_type": "stream",
          "name": "stderr",
          "text": [
            "<ipython-input-5-006031011196>:9: DeprecationWarning: `np.float` is a deprecated alias for the builtin `float`. To silence this warning, use `float` by itself. Doing this will not modify any behavior and is safe. If you specifically wanted the numpy scalar type, use `np.float64` here.\n",
            "Deprecated in NumPy 1.20; for more details and guidance: https://numpy.org/devdocs/release/1.20.0-notes.html#deprecations\n",
            "  prices = np.array(cars['price'], dtype=np.float)\n"
          ]
        }
      ],
      "source": [
        "# Создаём словари по всем текстовым колонкам\n",
        "marks_dict = create_dict(set(cars['mark']))\n",
        "models_dict = create_dict(set(cars['model']))\n",
        "bodies_dict = create_dict(set(cars['body']))\n",
        "kpps_dict = create_dict(set(cars['kpp']))\n",
        "fuels_dict = create_dict(set(cars['fuel']))\n",
        "\n",
        "# Запоминаем цены\n",
        "prices = np.array(cars['price'], dtype=np.float)\n",
        "\n",
        "# Запоминаем числовые параметры\n",
        "# и нормируем\n",
        "years = preprocessing.scale(cars['year'])\n",
        "mileages = preprocessing.scale(cars['mileage'])\n",
        "volumes = preprocessing.scale(cars['volume'])\n",
        "powers = preprocessing.scale(cars['power'])"
      ]
    },
    {
      "cell_type": "code",
      "execution_count": 6,
      "metadata": {
        "colab": {
          "base_uri": "https://localhost:8080/"
        },
        "id": "E_W73oeey1TF",
        "outputId": "0fa08a86-7f18-49a4-df05-c18c27be72da"
      },
      "outputs": [
        {
          "output_type": "stream",
          "name": "stdout",
          "text": [
            "{'дизель': 0, 'электро': 1, 'гибрид': 2, 'бензин': 3, 'газ': 4}\n"
          ]
        }
      ],
      "source": [
        "print(fuels_dict)"
      ]
    },
    {
      "cell_type": "code",
      "execution_count": 7,
      "metadata": {
        "colab": {
          "base_uri": "https://localhost:8080/"
        },
        "id": "ZnAwYOCmLbQc",
        "outputId": "291b615f-7b95-4ace-e7e1-0a929ff0dbf8"
      },
      "outputs": [
        {
          "output_type": "execute_result",
          "data": {
            "text/plain": [
              "1.2879530757014324e-16"
            ]
          },
          "metadata": {},
          "execution_count": 7
        }
      ],
      "source": [
        "volumes.mean()"
      ]
    },
    {
      "cell_type": "code",
      "execution_count": 8,
      "metadata": {
        "colab": {
          "base_uri": "https://localhost:8080/"
        },
        "id": "_PJLhc-HLdDI",
        "outputId": "fb838bf5-a963-4c78-8dc4-45fd1935a84e"
      },
      "outputs": [
        {
          "output_type": "execute_result",
          "data": {
            "text/plain": [
              "1.0"
            ]
          },
          "metadata": {},
          "execution_count": 8
        }
      ],
      "source": [
        "volumes.std()"
      ]
    },
    {
      "cell_type": "code",
      "execution_count": 9,
      "metadata": {
        "colab": {
          "base_uri": "https://localhost:8080/"
        },
        "id": "jHEPEcKfy4MV",
        "outputId": "e1e88a6f-66b8-4be2-fe51-048101392006"
      },
      "outputs": [
        {
          "output_type": "stream",
          "name": "stdout",
          "text": [
            "[ 0.22905575 -0.95630346 -0.87163494 ...  0.22905575 -0.75309902\n",
            "  2.34576862]\n"
          ]
        }
      ],
      "source": [
        "print(powers)"
      ]
    },
    {
      "cell_type": "code",
      "execution_count": 10,
      "metadata": {
        "id": "fq_m4WUny4k3",
        "colab": {
          "base_uri": "https://localhost:8080/"
        },
        "outputId": "e5c449af-5e13-4dcb-cdbb-5ed4d01ede8f"
      },
      "outputs": [
        {
          "output_type": "stream",
          "name": "stderr",
          "text": [
            "<ipython-input-10-56e6415ba6d7>:27: DeprecationWarning: `np.float` is a deprecated alias for the builtin `float`. To silence this warning, use `float` by itself. Doing this will not modify any behavior and is safe. If you specifically wanted the numpy scalar type, use `np.float64` here.\n",
            "Deprecated in NumPy 1.20; for more details and guidance: https://numpy.org/devdocs/release/1.20.0-notes.html#deprecations\n",
            "  x_train = np.array(x_train, dtype=np.float)\n",
            "<ipython-input-10-56e6415ba6d7>:28: DeprecationWarning: `np.float` is a deprecated alias for the builtin `float`. To silence this warning, use `float` by itself. Doing this will not modify any behavior and is safe. If you specifically wanted the numpy scalar type, use `np.float64` here.\n",
            "Deprecated in NumPy 1.20; for more details and guidance: https://numpy.org/devdocs/release/1.20.0-notes.html#deprecations\n",
            "  y_train = np.array(y_train, dtype=np.float)\n"
          ]
        }
      ],
      "source": [
        "# Создаём пустую обучающую выборку\n",
        "x_train = []\n",
        "y_train = []\n",
        "\n",
        "# Проходам по всем машинам\n",
        "for _id, car in enumerate(np.array(cars)):\n",
        "  # В y_train добавляем цену\n",
        "  y_train.append(prices[_id])\n",
        "\n",
        "  # В x_train объединяем все параметры\n",
        "  # Категорийные параметры добавляем в виде ohe\n",
        "  # Числовые параметры добавляем напрямую\n",
        "  x_tr = to_ohe(car[0], marks_dict) + \\\n",
        "        to_ohe(car[1], models_dict) + \\\n",
        "        to_ohe(car[5], bodies_dict) + \\\n",
        "        to_ohe(car[6], kpps_dict) + \\\n",
        "        to_ohe(car[7], fuels_dict) + \\\n",
        "        [years[_id]] + \\\n",
        "        [mileages[_id]] + \\\n",
        "        [volumes[_id]] + \\\n",
        "        [powers[_id]]\n",
        "\n",
        "  # Добавляем текущую строку в общий x_train\n",
        "  x_train.append(x_tr)\n",
        "\n",
        "# Превращаем лист в numpy.array\n",
        "x_train = np.array(x_train, dtype=np.float)\n",
        "y_train = np.array(y_train, dtype=np.float)"
      ]
    },
    {
      "cell_type": "code",
      "execution_count": 11,
      "metadata": {
        "colab": {
          "base_uri": "https://localhost:8080/"
        },
        "id": "S2IuqIWPy-nr",
        "outputId": "2dc06fe0-76b6-4819-a6e5-d7891c647840"
      },
      "outputs": [
        {
          "output_type": "stream",
          "name": "stdout",
          "text": [
            "(70119, 3208)\n",
            "(70119,)\n"
          ]
        }
      ],
      "source": [
        "# Выводим размеры выборок\n",
        "print(x_train.shape)\n",
        "print(y_train.shape)"
      ]
    },
    {
      "cell_type": "code",
      "execution_count": 12,
      "metadata": {
        "colab": {
          "base_uri": "https://localhost:8080/"
        },
        "id": "tyNIVawgzDX6",
        "outputId": "83d6dc2f-c786-49e6-c358-0023239a834f"
      },
      "outputs": [
        {
          "output_type": "stream",
          "name": "stdout",
          "text": [
            "[0. 0. 0. 0. 0. 0. 0. 0. 0. 0. 0. 0. 0. 0. 1. 0. 0. 0. 0. 0.]\n",
            "[ 0.          0.          1.          0.          0.          0.\n",
            "  0.          0.          0.          1.          0.          0.\n",
            "  0.          0.          1.          0.          1.5200145  -1.40018212\n",
            "  0.12288486  0.22905575]\n"
          ]
        }
      ],
      "source": [
        "# Выводим один x_train\n",
        "print(x_train[0,:20])\n",
        "print(x_train[0,-20:])"
      ]
    },
    {
      "cell_type": "code",
      "execution_count": 13,
      "metadata": {
        "colab": {
          "base_uri": "https://localhost:8080/"
        },
        "id": "E06CfFFtzE4b",
        "outputId": "2a23e87d-4d2f-4938-b97f-4e4887a2c1c3"
      },
      "outputs": [
        {
          "output_type": "stream",
          "name": "stdout",
          "text": [
            "[ 996000.  140200.  750000.  970000.  205000.  985000.  589000.  500000.\n",
            " 1320000.  270000.]\n"
          ]
        }
      ],
      "source": [
        "# Выводим y_train\n",
        "print(y_train[:10])"
      ]
    },
    {
      "cell_type": "code",
      "execution_count": 14,
      "metadata": {
        "colab": {
          "base_uri": "https://localhost:8080/"
        },
        "id": "60HjttMmeB6C",
        "outputId": "ca918db0-1f88-43f0-b3ad-ad617d025d18"
      },
      "outputs": [
        {
          "output_type": "execute_result",
          "data": {
            "text/plain": [
              "(70119,)"
            ]
          },
          "metadata": {},
          "execution_count": 14
        }
      ],
      "source": [
        "y_train.shape"
      ]
    },
    {
      "cell_type": "code",
      "execution_count": 15,
      "metadata": {
        "colab": {
          "base_uri": "https://localhost:8080/"
        },
        "id": "Fyt6sUeueKfA",
        "outputId": "ea4031e9-0c8b-42f6-cdb7-7a3ddaf0cbb2"
      },
      "outputs": [
        {
          "output_type": "execute_result",
          "data": {
            "text/plain": [
              "(70119, 1)"
            ]
          },
          "metadata": {},
          "execution_count": 15
        }
      ],
      "source": [
        "y_train.reshape(-1,1).shape"
      ]
    },
    {
      "cell_type": "code",
      "execution_count": 16,
      "metadata": {
        "id": "tetSCI-BzITK"
      },
      "outputs": [],
      "source": [
        "# Нормализуем y_train\n",
        "y_scaler = StandardScaler()\n",
        "y_train_scaled = y_scaler.fit_transform(y_train.reshape(-1,1)).flatten()\n",
        "\n",
        "# y_train.reshape(-1,1) добавляет одну размерность\n",
        "# Это нужно потому, что y_scaler.fit_transform\n",
        "# Требует двумерны вектор, массив примеров, которые надо нормализовать\n",
        "# Он не умеет работать с одним примеров\n",
        "# Поэтому мы делаем массив из одного примера\n",
        "# На выходе он так же выдаёт массив примеров\n",
        "# Но нам нужен только первый пример\n",
        "# Поэтому мы делаем flatten() - уменьшение размерности"
      ]
    },
    {
      "cell_type": "code",
      "execution_count": 17,
      "metadata": {
        "colab": {
          "base_uri": "https://localhost:8080/"
        },
        "id": "n3hq9mYkOEGK",
        "outputId": "44f38a84-1810-41b8-ef43-202a8b2ff019"
      },
      "outputs": [
        {
          "output_type": "execute_result",
          "data": {
            "text/plain": [
              "(70119,)"
            ]
          },
          "metadata": {},
          "execution_count": 17
        }
      ],
      "source": [
        "y_train_scaled.shape"
      ]
    },
    {
      "cell_type": "code",
      "execution_count": 18,
      "metadata": {
        "colab": {
          "base_uri": "https://localhost:8080/"
        },
        "id": "v2k03NYbzI6q",
        "outputId": "45e5b816-ac5c-48d3-d72f-81c32bbe98fe"
      },
      "outputs": [
        {
          "output_type": "stream",
          "name": "stdout",
          "text": [
            "[ 996000.  140200.  750000.  970000.  205000.  985000.  589000.  500000.\n",
            " 1320000.  270000.]\n",
            "[ 0.75082432 -0.62135434  0.3563911   0.70913625 -0.51745486  0.73318706\n",
            "  0.09824578 -0.04445567  1.27032173 -0.4132347 ]\n"
          ]
        }
      ],
      "source": [
        "# Выводим базовый и нормированный y_train\n",
        "print(y_train[:10])\n",
        "print(y_train_scaled[:10])"
      ]
    },
    {
      "cell_type": "code",
      "execution_count": 19,
      "metadata": {
        "id": "qOmiU2IdepZn"
      },
      "outputs": [],
      "source": [
        "x_train, x_test, y_train, y_test = train_test_split(x_train, y_train, train_size=0.7, random_state=42, shuffle=True)"
      ]
    },
    {
      "cell_type": "code",
      "execution_count": 20,
      "metadata": {
        "id": "nRhXUb0TCbUp"
      },
      "outputs": [],
      "source": [
        "model_ula = Sequential([\n",
        "Dense(128, activation='relu', input_shape=(x_train.shape[1],)),\n",
        "Dropout(0.3),\n",
        "Dense(64, activation='relu'),\n",
        "Dropout(0.2),\n",
        "Dense(1, activation='linear')\n",
        "])\n",
        "\n"
      ]
    },
    {
      "cell_type": "code",
      "source": [
        "model_ula.compile(optimizer='adam', loss='mae', metrics=[keras.metrics.R2Score()])\n",
        "history = model_ula.fit(x_train, y_train, validation_split=0.2, batch_size=70, epochs=100)"
      ],
      "metadata": {
        "colab": {
          "base_uri": "https://localhost:8080/"
        },
        "id": "QZl-22XKDwGe",
        "outputId": "cc057d7e-6ad2-4071-e799-654cf360faef"
      },
      "execution_count": 21,
      "outputs": [
        {
          "output_type": "stream",
          "name": "stdout",
          "text": [
            "Epoch 1/100\n",
            "561/561 [==============================] - 8s 12ms/step - loss: 519983.2188 - r2_score: -0.7207 - val_loss: 489633.1562 - val_r2_score: -0.5849\n",
            "Epoch 2/100\n",
            "561/561 [==============================] - 6s 12ms/step - loss: 414890.7188 - r2_score: -0.4190 - val_loss: 319819.3125 - val_r2_score: -0.1076\n",
            "Epoch 3/100\n",
            "561/561 [==============================] - 6s 10ms/step - loss: 253885.2188 - r2_score: 0.1236 - val_loss: 207305.8594 - val_r2_score: 0.2781\n",
            "Epoch 4/100\n",
            "561/561 [==============================] - 8s 13ms/step - loss: 192287.7188 - r2_score: 0.3689 - val_loss: 176524.5781 - val_r2_score: 0.3977\n",
            "Epoch 5/100\n",
            "561/561 [==============================] - 6s 11ms/step - loss: 175016.6562 - r2_score: 0.4452 - val_loss: 165712.4531 - val_r2_score: 0.4420\n",
            "Epoch 6/100\n",
            "561/561 [==============================] - 8s 15ms/step - loss: 166813.7031 - r2_score: 0.4784 - val_loss: 158354.7031 - val_r2_score: 0.4613\n",
            "Epoch 7/100\n",
            "561/561 [==============================] - 6s 10ms/step - loss: 159686.2812 - r2_score: 0.4982 - val_loss: 150911.7812 - val_r2_score: 0.4771\n",
            "Epoch 8/100\n",
            "561/561 [==============================] - 7s 13ms/step - loss: 152788.7969 - r2_score: 0.5133 - val_loss: 143336.8438 - val_r2_score: 0.4933\n",
            "Epoch 9/100\n",
            "561/561 [==============================] - 6s 10ms/step - loss: 146233.2500 - r2_score: 0.5311 - val_loss: 137105.8594 - val_r2_score: 0.5072\n",
            "Epoch 10/100\n",
            "561/561 [==============================] - 6s 11ms/step - loss: 140496.1406 - r2_score: 0.5517 - val_loss: 131927.6875 - val_r2_score: 0.5247\n",
            "Epoch 11/100\n",
            "561/561 [==============================] - 7s 12ms/step - loss: 136167.2812 - r2_score: 0.5653 - val_loss: 127584.9844 - val_r2_score: 0.5401\n",
            "Epoch 12/100\n",
            "561/561 [==============================] - 6s 10ms/step - loss: 132210.8750 - r2_score: 0.5820 - val_loss: 123957.5391 - val_r2_score: 0.5514\n",
            "Epoch 13/100\n",
            "561/561 [==============================] - 7s 13ms/step - loss: 129690.7500 - r2_score: 0.5959 - val_loss: 120462.8750 - val_r2_score: 0.5663\n",
            "Epoch 14/100\n",
            "561/561 [==============================] - 6s 11ms/step - loss: 126082.8984 - r2_score: 0.6097 - val_loss: 117590.4297 - val_r2_score: 0.5777\n",
            "Epoch 15/100\n",
            "561/561 [==============================] - 8s 14ms/step - loss: 123564.4297 - r2_score: 0.6216 - val_loss: 115042.0000 - val_r2_score: 0.5862\n",
            "Epoch 16/100\n",
            "561/561 [==============================] - 6s 11ms/step - loss: 121232.4844 - r2_score: 0.6324 - val_loss: 112797.2422 - val_r2_score: 0.5931\n",
            "Epoch 17/100\n",
            "561/561 [==============================] - 7s 12ms/step - loss: 119198.4766 - r2_score: 0.6407 - val_loss: 110724.5391 - val_r2_score: 0.6013\n",
            "Epoch 18/100\n",
            "561/561 [==============================] - 6s 11ms/step - loss: 117337.1250 - r2_score: 0.6466 - val_loss: 108714.5703 - val_r2_score: 0.6111\n",
            "Epoch 19/100\n",
            "561/561 [==============================] - 6s 11ms/step - loss: 116106.6875 - r2_score: 0.6565 - val_loss: 106855.4219 - val_r2_score: 0.6188\n",
            "Epoch 20/100\n",
            "561/561 [==============================] - 7s 12ms/step - loss: 113748.9141 - r2_score: 0.6646 - val_loss: 105326.1016 - val_r2_score: 0.6244\n",
            "Epoch 21/100\n",
            "561/561 [==============================] - 6s 10ms/step - loss: 111774.5312 - r2_score: 0.6720 - val_loss: 103736.6641 - val_r2_score: 0.6308\n",
            "Epoch 22/100\n",
            "561/561 [==============================] - 7s 13ms/step - loss: 110809.7578 - r2_score: 0.6782 - val_loss: 102380.1172 - val_r2_score: 0.6361\n",
            "Epoch 23/100\n",
            "561/561 [==============================] - 6s 10ms/step - loss: 109135.7656 - r2_score: 0.6878 - val_loss: 101016.7891 - val_r2_score: 0.6418\n",
            "Epoch 24/100\n",
            "561/561 [==============================] - 7s 13ms/step - loss: 107913.1875 - r2_score: 0.6886 - val_loss: 99756.7969 - val_r2_score: 0.6486\n",
            "Epoch 25/100\n",
            "561/561 [==============================] - 6s 10ms/step - loss: 106612.3750 - r2_score: 0.6989 - val_loss: 98703.6094 - val_r2_score: 0.6530\n",
            "Epoch 26/100\n",
            "561/561 [==============================] - 6s 11ms/step - loss: 105827.7266 - r2_score: 0.7024 - val_loss: 97685.4062 - val_r2_score: 0.6560\n",
            "Epoch 27/100\n",
            "561/561 [==============================] - 8s 15ms/step - loss: 104538.0391 - r2_score: 0.7086 - val_loss: 96803.3516 - val_r2_score: 0.6600\n",
            "Epoch 28/100\n",
            "561/561 [==============================] - 6s 10ms/step - loss: 104147.7734 - r2_score: 0.7113 - val_loss: 95738.6484 - val_r2_score: 0.6651\n",
            "Epoch 29/100\n",
            "561/561 [==============================] - 7s 13ms/step - loss: 102716.8203 - r2_score: 0.7192 - val_loss: 94846.0156 - val_r2_score: 0.6696\n",
            "Epoch 30/100\n",
            "561/561 [==============================] - 6s 10ms/step - loss: 101385.8594 - r2_score: 0.7236 - val_loss: 94021.3047 - val_r2_score: 0.6742\n",
            "Epoch 31/100\n",
            "561/561 [==============================] - 8s 13ms/step - loss: 100944.1641 - r2_score: 0.7284 - val_loss: 93272.6797 - val_r2_score: 0.6776\n",
            "Epoch 32/100\n",
            "561/561 [==============================] - 6s 10ms/step - loss: 99837.5000 - r2_score: 0.7306 - val_loss: 92343.8438 - val_r2_score: 0.6825\n",
            "Epoch 33/100\n",
            "561/561 [==============================] - 7s 12ms/step - loss: 99449.2422 - r2_score: 0.7332 - val_loss: 91745.0000 - val_r2_score: 0.6848\n",
            "Epoch 34/100\n",
            "561/561 [==============================] - 6s 12ms/step - loss: 98349.4688 - r2_score: 0.7403 - val_loss: 91058.6719 - val_r2_score: 0.6889\n",
            "Epoch 35/100\n",
            "561/561 [==============================] - 6s 10ms/step - loss: 97449.3438 - r2_score: 0.7442 - val_loss: 90345.3125 - val_r2_score: 0.6928\n",
            "Epoch 36/100\n",
            "561/561 [==============================] - 7s 13ms/step - loss: 96796.6406 - r2_score: 0.7506 - val_loss: 89743.7109 - val_r2_score: 0.6954\n",
            "Epoch 37/100\n",
            "561/561 [==============================] - 6s 10ms/step - loss: 96386.1953 - r2_score: 0.7507 - val_loss: 89394.3438 - val_r2_score: 0.6978\n",
            "Epoch 38/100\n",
            "561/561 [==============================] - 7s 13ms/step - loss: 95654.1328 - r2_score: 0.7570 - val_loss: 88741.0547 - val_r2_score: 0.7017\n",
            "Epoch 39/100\n",
            "561/561 [==============================] - 6s 10ms/step - loss: 95045.0391 - r2_score: 0.7598 - val_loss: 88242.2578 - val_r2_score: 0.7051\n",
            "Epoch 40/100\n",
            "561/561 [==============================] - 7s 12ms/step - loss: 94420.4688 - r2_score: 0.7622 - val_loss: 87768.8125 - val_r2_score: 0.7074\n",
            "Epoch 41/100\n",
            "561/561 [==============================] - 7s 12ms/step - loss: 94048.8828 - r2_score: 0.7669 - val_loss: 87308.8828 - val_r2_score: 0.7098\n",
            "Epoch 42/100\n",
            "561/561 [==============================] - 6s 11ms/step - loss: 93523.8359 - r2_score: 0.7706 - val_loss: 86877.5625 - val_r2_score: 0.7126\n",
            "Epoch 43/100\n",
            "561/561 [==============================] - 7s 12ms/step - loss: 93154.7812 - r2_score: 0.7746 - val_loss: 86361.2266 - val_r2_score: 0.7148\n",
            "Epoch 44/100\n",
            "561/561 [==============================] - 6s 10ms/step - loss: 92378.6719 - r2_score: 0.7778 - val_loss: 85995.4844 - val_r2_score: 0.7171\n",
            "Epoch 45/100\n",
            "561/561 [==============================] - 7s 13ms/step - loss: 91998.6016 - r2_score: 0.7764 - val_loss: 85608.2891 - val_r2_score: 0.7194\n",
            "Epoch 46/100\n",
            "561/561 [==============================] - 6s 11ms/step - loss: 91696.6406 - r2_score: 0.7775 - val_loss: 85500.0547 - val_r2_score: 0.7208\n",
            "Epoch 47/100\n",
            "561/561 [==============================] - 8s 14ms/step - loss: 91088.1719 - r2_score: 0.7816 - val_loss: 84809.8828 - val_r2_score: 0.7254\n",
            "Epoch 48/100\n",
            "561/561 [==============================] - 10s 18ms/step - loss: 91041.4844 - r2_score: 0.7778 - val_loss: 84647.6641 - val_r2_score: 0.7253\n",
            "Epoch 49/100\n",
            "561/561 [==============================] - 9s 16ms/step - loss: 90790.8203 - r2_score: 0.7853 - val_loss: 84122.1875 - val_r2_score: 0.7273\n",
            "Epoch 50/100\n",
            "561/561 [==============================] - 6s 10ms/step - loss: 89998.0859 - r2_score: 0.7884 - val_loss: 83825.7188 - val_r2_score: 0.7297\n",
            "Epoch 51/100\n",
            "561/561 [==============================] - 8s 13ms/step - loss: 89212.4688 - r2_score: 0.7887 - val_loss: 83450.8281 - val_r2_score: 0.7326\n",
            "Epoch 52/100\n",
            "561/561 [==============================] - 6s 10ms/step - loss: 89362.1641 - r2_score: 0.7906 - val_loss: 83472.0469 - val_r2_score: 0.7329\n",
            "Epoch 53/100\n",
            "561/561 [==============================] - 8s 14ms/step - loss: 88937.9609 - r2_score: 0.7964 - val_loss: 82800.7578 - val_r2_score: 0.7362\n",
            "Epoch 54/100\n",
            "561/561 [==============================] - 6s 10ms/step - loss: 88406.2734 - r2_score: 0.7951 - val_loss: 82407.9297 - val_r2_score: 0.7383\n",
            "Epoch 55/100\n",
            "561/561 [==============================] - 6s 12ms/step - loss: 88588.0391 - r2_score: 0.7975 - val_loss: 82079.7266 - val_r2_score: 0.7394\n",
            "Epoch 56/100\n",
            "561/561 [==============================] - 6s 11ms/step - loss: 87806.4766 - r2_score: 0.8058 - val_loss: 81915.6719 - val_r2_score: 0.7400\n",
            "Epoch 57/100\n",
            "561/561 [==============================] - 6s 10ms/step - loss: 87436.5547 - r2_score: 0.8013 - val_loss: 81580.8906 - val_r2_score: 0.7421\n",
            "Epoch 58/100\n",
            "561/561 [==============================] - 7s 13ms/step - loss: 86966.9297 - r2_score: 0.8002 - val_loss: 81372.0781 - val_r2_score: 0.7423\n",
            "Epoch 59/100\n",
            "561/561 [==============================] - 6s 11ms/step - loss: 87204.6562 - r2_score: 0.8029 - val_loss: 81138.3203 - val_r2_score: 0.7434\n",
            "Epoch 60/100\n",
            "561/561 [==============================] - 8s 14ms/step - loss: 86729.7109 - r2_score: 0.8060 - val_loss: 80808.2969 - val_r2_score: 0.7450\n",
            "Epoch 61/100\n",
            "561/561 [==============================] - 6s 10ms/step - loss: 86742.7500 - r2_score: 0.8096 - val_loss: 80578.6797 - val_r2_score: 0.7462\n",
            "Epoch 62/100\n",
            "561/561 [==============================] - 7s 13ms/step - loss: 86309.8125 - r2_score: 0.8072 - val_loss: 80378.2812 - val_r2_score: 0.7489\n",
            "Epoch 63/100\n",
            "561/561 [==============================] - 6s 11ms/step - loss: 86055.7500 - r2_score: 0.8132 - val_loss: 80345.6797 - val_r2_score: 0.7499\n",
            "Epoch 64/100\n",
            "561/561 [==============================] - 7s 12ms/step - loss: 86079.9297 - r2_score: 0.8096 - val_loss: 80176.2031 - val_r2_score: 0.7491\n",
            "Epoch 65/100\n",
            "561/561 [==============================] - 6s 11ms/step - loss: 85665.3516 - r2_score: 0.8100 - val_loss: 79734.5234 - val_r2_score: 0.7517\n",
            "Epoch 66/100\n",
            "561/561 [==============================] - 6s 10ms/step - loss: 85194.3203 - r2_score: 0.8136 - val_loss: 79577.9141 - val_r2_score: 0.7522\n",
            "Epoch 67/100\n",
            "561/561 [==============================] - 7s 13ms/step - loss: 84857.0234 - r2_score: 0.8151 - val_loss: 79338.8672 - val_r2_score: 0.7534\n",
            "Epoch 68/100\n",
            "561/561 [==============================] - 7s 13ms/step - loss: 84952.0859 - r2_score: 0.8218 - val_loss: 79087.8047 - val_r2_score: 0.7557\n",
            "Epoch 69/100\n",
            "561/561 [==============================] - 8s 15ms/step - loss: 84677.1875 - r2_score: 0.8207 - val_loss: 78821.5000 - val_r2_score: 0.7567\n",
            "Epoch 70/100\n",
            "561/561 [==============================] - 6s 10ms/step - loss: 83930.6406 - r2_score: 0.8228 - val_loss: 78869.4453 - val_r2_score: 0.7565\n",
            "Epoch 71/100\n",
            "561/561 [==============================] - 8s 14ms/step - loss: 84195.2109 - r2_score: 0.8238 - val_loss: 78617.3281 - val_r2_score: 0.7585\n",
            "Epoch 72/100\n",
            "561/561 [==============================] - 6s 10ms/step - loss: 83849.0000 - r2_score: 0.8211 - val_loss: 78437.2266 - val_r2_score: 0.7592\n",
            "Epoch 73/100\n",
            "561/561 [==============================] - 7s 12ms/step - loss: 83901.8828 - r2_score: 0.8216 - val_loss: 78354.3672 - val_r2_score: 0.7600\n",
            "Epoch 74/100\n",
            "561/561 [==============================] - 6s 11ms/step - loss: 84230.6016 - r2_score: 0.8240 - val_loss: 78132.3828 - val_r2_score: 0.7601\n",
            "Epoch 75/100\n",
            "561/561 [==============================] - 6s 10ms/step - loss: 83639.9219 - r2_score: 0.8228 - val_loss: 77990.9297 - val_r2_score: 0.7614\n",
            "Epoch 76/100\n",
            "561/561 [==============================] - 7s 13ms/step - loss: 82941.2188 - r2_score: 0.8255 - val_loss: 78032.1562 - val_r2_score: 0.7607\n",
            "Epoch 77/100\n",
            "561/561 [==============================] - 6s 10ms/step - loss: 83523.9609 - r2_score: 0.8264 - val_loss: 77503.9688 - val_r2_score: 0.7637\n",
            "Epoch 78/100\n",
            "561/561 [==============================] - 8s 14ms/step - loss: 83571.0781 - r2_score: 0.8273 - val_loss: 77460.8906 - val_r2_score: 0.7645\n",
            "Epoch 79/100\n",
            "561/561 [==============================] - 6s 11ms/step - loss: 82677.6562 - r2_score: 0.8263 - val_loss: 77507.8828 - val_r2_score: 0.7639\n",
            "Epoch 80/100\n",
            "561/561 [==============================] - 7s 13ms/step - loss: 82319.3438 - r2_score: 0.8334 - val_loss: 77498.7344 - val_r2_score: 0.7647\n",
            "Epoch 81/100\n",
            "561/561 [==============================] - 6s 11ms/step - loss: 82289.1250 - r2_score: 0.8301 - val_loss: 77201.5469 - val_r2_score: 0.7665\n",
            "Epoch 82/100\n",
            "561/561 [==============================] - 7s 12ms/step - loss: 82366.2344 - r2_score: 0.8329 - val_loss: 76885.2891 - val_r2_score: 0.7689\n",
            "Epoch 83/100\n",
            "561/561 [==============================] - 6s 11ms/step - loss: 82426.3125 - r2_score: 0.8354 - val_loss: 76782.9688 - val_r2_score: 0.7681\n",
            "Epoch 84/100\n",
            "561/561 [==============================] - 6s 10ms/step - loss: 81642.0703 - r2_score: 0.8312 - val_loss: 76745.6953 - val_r2_score: 0.7686\n",
            "Epoch 85/100\n",
            "561/561 [==============================] - 7s 13ms/step - loss: 82067.8984 - r2_score: 0.8302 - val_loss: 76589.5469 - val_r2_score: 0.7697\n",
            "Epoch 86/100\n",
            "561/561 [==============================] - 6s 11ms/step - loss: 81284.1094 - r2_score: 0.8381 - val_loss: 76619.8828 - val_r2_score: 0.7699\n",
            "Epoch 87/100\n",
            "561/561 [==============================] - 7s 13ms/step - loss: 81835.2891 - r2_score: 0.8353 - val_loss: 76409.6406 - val_r2_score: 0.7707\n",
            "Epoch 88/100\n",
            "561/561 [==============================] - 6s 10ms/step - loss: 81617.6484 - r2_score: 0.8350 - val_loss: 76417.0312 - val_r2_score: 0.7719\n",
            "Epoch 89/100\n",
            "561/561 [==============================] - 8s 13ms/step - loss: 81948.0312 - r2_score: 0.8368 - val_loss: 76129.5391 - val_r2_score: 0.7729\n",
            "Epoch 90/100\n",
            "561/561 [==============================] - 6s 10ms/step - loss: 81131.9688 - r2_score: 0.8404 - val_loss: 76109.1641 - val_r2_score: 0.7745\n",
            "Epoch 91/100\n",
            "561/561 [==============================] - 7s 13ms/step - loss: 81415.6797 - r2_score: 0.8367 - val_loss: 76122.9766 - val_r2_score: 0.7735\n",
            "Epoch 92/100\n",
            "561/561 [==============================] - 9s 16ms/step - loss: 80636.6875 - r2_score: 0.8420 - val_loss: 75847.0859 - val_r2_score: 0.7750\n",
            "Epoch 93/100\n",
            "561/561 [==============================] - 6s 10ms/step - loss: 81053.7891 - r2_score: 0.8372 - val_loss: 75721.1953 - val_r2_score: 0.7756\n",
            "Epoch 94/100\n",
            "561/561 [==============================] - 7s 13ms/step - loss: 81098.3203 - r2_score: 0.8386 - val_loss: 75741.5234 - val_r2_score: 0.7758\n",
            "Epoch 95/100\n",
            "561/561 [==============================] - 6s 11ms/step - loss: 80873.2656 - r2_score: 0.8393 - val_loss: 75518.9609 - val_r2_score: 0.7761\n",
            "Epoch 96/100\n",
            "561/561 [==============================] - 7s 13ms/step - loss: 81133.7500 - r2_score: 0.8399 - val_loss: 75557.0781 - val_r2_score: 0.7765\n",
            "Epoch 97/100\n",
            "561/561 [==============================] - 6s 11ms/step - loss: 81025.3203 - r2_score: 0.8440 - val_loss: 75584.1875 - val_r2_score: 0.7770\n",
            "Epoch 98/100\n",
            "561/561 [==============================] - 7s 13ms/step - loss: 80718.0469 - r2_score: 0.8415 - val_loss: 75580.9219 - val_r2_score: 0.7769\n",
            "Epoch 99/100\n",
            "561/561 [==============================] - 6s 11ms/step - loss: 79993.6484 - r2_score: 0.8464 - val_loss: 75279.0781 - val_r2_score: 0.7784\n",
            "Epoch 100/100\n",
            "561/561 [==============================] - 7s 12ms/step - loss: 80320.4609 - r2_score: 0.8442 - val_loss: 75185.7188 - val_r2_score: 0.7795\n"
          ]
        }
      ]
    },
    {
      "cell_type": "code",
      "source": [
        "y_pred = model_ula.predict(x_test)"
      ],
      "metadata": {
        "colab": {
          "base_uri": "https://localhost:8080/"
        },
        "id": "owhtNWOUFU5w",
        "outputId": "84ee212a-e203-4ecc-f2dc-7d30230f5e54"
      },
      "execution_count": 22,
      "outputs": [
        {
          "output_type": "stream",
          "name": "stdout",
          "text": [
            "658/658 [==============================] - 2s 3ms/step\n"
          ]
        }
      ]
    },
    {
      "cell_type": "code",
      "source": [
        "history.history['r2_score']"
      ],
      "metadata": {
        "colab": {
          "base_uri": "https://localhost:8080/"
        },
        "id": "kXcy__VpFVKy",
        "outputId": "553f9cd3-bada-437f-8a4f-a8f0c35d9c70"
      },
      "execution_count": 23,
      "outputs": [
        {
          "output_type": "execute_result",
          "data": {
            "text/plain": [
              "[-0.7207192182540894,\n",
              " -0.4189838171005249,\n",
              " 0.12356096506118774,\n",
              " 0.36894339323043823,\n",
              " 0.4451507329940796,\n",
              " 0.4784034490585327,\n",
              " 0.49820542335510254,\n",
              " 0.5133236050605774,\n",
              " 0.5310860872268677,\n",
              " 0.5517023801803589,\n",
              " 0.5652976632118225,\n",
              " 0.5820081830024719,\n",
              " 0.5959266424179077,\n",
              " 0.6096962094306946,\n",
              " 0.6215779185295105,\n",
              " 0.6324017643928528,\n",
              " 0.6406775712966919,\n",
              " 0.646561861038208,\n",
              " 0.6564950942993164,\n",
              " 0.6646454334259033,\n",
              " 0.6720492243766785,\n",
              " 0.6782033443450928,\n",
              " 0.6878231763839722,\n",
              " 0.6885718703269958,\n",
              " 0.6988885998725891,\n",
              " 0.7023881077766418,\n",
              " 0.708564043045044,\n",
              " 0.7112687230110168,\n",
              " 0.7192388772964478,\n",
              " 0.7235862016677856,\n",
              " 0.7284259796142578,\n",
              " 0.7305971384048462,\n",
              " 0.7332038879394531,\n",
              " 0.7403439283370972,\n",
              " 0.7442080974578857,\n",
              " 0.7505704760551453,\n",
              " 0.7507455348968506,\n",
              " 0.7569948434829712,\n",
              " 0.7597915530204773,\n",
              " 0.7622254490852356,\n",
              " 0.7669464349746704,\n",
              " 0.7705840468406677,\n",
              " 0.7746113538742065,\n",
              " 0.7777806520462036,\n",
              " 0.7764163613319397,\n",
              " 0.7774524688720703,\n",
              " 0.7815853357315063,\n",
              " 0.7778401970863342,\n",
              " 0.7853403091430664,\n",
              " 0.7883918285369873,\n",
              " 0.7887314558029175,\n",
              " 0.7905879020690918,\n",
              " 0.7963682413101196,\n",
              " 0.7951347231864929,\n",
              " 0.7975333333015442,\n",
              " 0.8057606816291809,\n",
              " 0.8012734055519104,\n",
              " 0.8002071976661682,\n",
              " 0.8028830289840698,\n",
              " 0.8059647083282471,\n",
              " 0.8095813989639282,\n",
              " 0.8072018623352051,\n",
              " 0.8132172226905823,\n",
              " 0.8095887899398804,\n",
              " 0.8100206851959229,\n",
              " 0.8135863542556763,\n",
              " 0.8150816559791565,\n",
              " 0.8218167424201965,\n",
              " 0.8207000494003296,\n",
              " 0.8228433728218079,\n",
              " 0.823764443397522,\n",
              " 0.821087121963501,\n",
              " 0.8215688467025757,\n",
              " 0.8240005373954773,\n",
              " 0.8227589726448059,\n",
              " 0.8254830837249756,\n",
              " 0.826411783695221,\n",
              " 0.8273102045059204,\n",
              " 0.8263453841209412,\n",
              " 0.8334283828735352,\n",
              " 0.8300603628158569,\n",
              " 0.8328844904899597,\n",
              " 0.8353602886199951,\n",
              " 0.8312199711799622,\n",
              " 0.8302265405654907,\n",
              " 0.8381133675575256,\n",
              " 0.8352905511856079,\n",
              " 0.8349529504776001,\n",
              " 0.8367511034011841,\n",
              " 0.8403963446617126,\n",
              " 0.8366666436195374,\n",
              " 0.8420140147209167,\n",
              " 0.8372188806533813,\n",
              " 0.8386305570602417,\n",
              " 0.8393370509147644,\n",
              " 0.8398944735527039,\n",
              " 0.843975305557251,\n",
              " 0.8415349721908569,\n",
              " 0.8464469313621521,\n",
              " 0.8441591262817383]"
            ]
          },
          "metadata": {},
          "execution_count": 23
        }
      ]
    },
    {
      "cell_type": "code",
      "source": [
        "plt.plot(history.history['r2_score'], label='val_r2_score')\n",
        "plt.legend(['r2_score'])\n",
        "plt.show()"
      ],
      "metadata": {
        "colab": {
          "base_uri": "https://localhost:8080/",
          "height": 430
        },
        "id": "WhWgiOVCFWz5",
        "outputId": "dc8e0062-8747-47e9-f081-440a5c7fb185"
      },
      "execution_count": 24,
      "outputs": [
        {
          "output_type": "display_data",
          "data": {
            "text/plain": [
              "<Figure size 640x480 with 1 Axes>"
            ],
            "image/png": "[encoded data removed]"
          },
          "metadata": {}
        }
      ]
    },
    {
      "cell_type": "code",
      "source": [
        "plt.plot(history.history['loss'],\n",
        "         label='Ошибка на обучающем наборе')\n",
        "plt.plot(history.history['val_loss'],\n",
        "         label='Ошибка на проверочном наборе')\n",
        "plt.xlabel('Эпоха обучения')\n",
        "plt.ylabel('Ошибка')\n",
        "plt.legend()\n",
        "plt.show()"
      ],
      "metadata": {
        "colab": {
          "base_uri": "https://localhost:8080/",
          "height": 449
        },
        "id": "vU8Y1FZpFgfR",
        "outputId": "f275a720-8466-43c8-ce3b-da17f4cc708e"
      },
      "execution_count": 25,
      "outputs": [
        {
          "output_type": "display_data",
          "data": {
            "text/plain": [
              "<Figure size 640x480 with 1 Axes>"
            ],
            "image/png": "[encoded data removed]"
          },
          "metadata": {}
        }
      ]
    }
  ]
}